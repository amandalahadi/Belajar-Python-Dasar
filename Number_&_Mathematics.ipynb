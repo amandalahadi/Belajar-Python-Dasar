{
  "cells": [
    {
      "cell_type": "markdown",
      "metadata": {
        "id": "view-in-github",
        "colab_type": "text"
      },
      "source": [
        "<a href=\"https://colab.research.google.com/github/amandalahadi/Belajar-Python-Dasar/blob/main/Number_%26_Mathematics_(1).ipynb\" target=\"_parent\"><img src=\"https://colab.research.google.com/assets/colab-badge.svg\" alt=\"Open In Colab\"/></a>"
      ]
    },
    {
      "cell_type": "markdown",
      "metadata": {
        "id": "jrCcrY9S_bE7"
      },
      "source": [
        "## Integer dan Float"
      ]
    },
    {
      "cell_type": "markdown",
      "metadata": {
        "id": "uMlcdXVV_bE_"
      },
      "source": [
        "### Integer"
      ]
    },
    {
      "cell_type": "code",
      "execution_count": null,
      "metadata": {
        "id": "PCTF4Nfp_bFA"
      },
      "outputs": [],
      "source": [
        "#Menentukan type data\n",
        "type(5)"
      ]
    },
    {
      "cell_type": "code",
      "execution_count": null,
      "metadata": {
        "id": "qRfKIM4B_bFB"
      },
      "outputs": [],
      "source": [
        "#Mengubah string menjadi Int\n",
        "int(\"26\")"
      ]
    },
    {
      "cell_type": "code",
      "execution_count": null,
      "metadata": {
        "id": "kns1E6Io_bFC"
      },
      "outputs": [],
      "source": [
        "#Integer Literal (cara 1)\n",
        "1000000"
      ]
    },
    {
      "cell_type": "code",
      "execution_count": null,
      "metadata": {
        "id": "PBAa2G-Z_bFC"
      },
      "outputs": [],
      "source": [
        "#Integer Literal (cara 2) menggunakan \"_\"\n",
        "1_000_000"
      ]
    },
    {
      "cell_type": "markdown",
      "metadata": {
        "id": "N0A2R3d0_bFD"
      },
      "source": [
        "Cara 2 digunakan agar bilangan besar mudah untuk dibaca.\n",
        "\n",
        "**python tidak dapat membaca integer menggunakan tanda koma atau titik**\n",
        "seperti 1.000.000"
      ]
    },
    {
      "cell_type": "markdown",
      "metadata": {
        "id": "ZDdb817j_bFE"
      },
      "source": [
        "### Float"
      ]
    },
    {
      "cell_type": "code",
      "execution_count": null,
      "metadata": {
        "id": "_TsDFQ2M_bFE"
      },
      "outputs": [],
      "source": [
        "#Menentukan type data\n",
        "type(2.6)"
      ]
    },
    {
      "cell_type": "code",
      "execution_count": null,
      "metadata": {
        "id": "ZUV2Ryda_bFF"
      },
      "outputs": [],
      "source": [
        "#Mengubah string menjadi Float\n",
        "float(\"2.75\")"
      ]
    },
    {
      "cell_type": "code",
      "execution_count": null,
      "metadata": {
        "id": "k6MiIvs1_bFG"
      },
      "outputs": [],
      "source": [
        "#Float Literal (cara 1)\n",
        "1000000.0"
      ]
    },
    {
      "cell_type": "code",
      "execution_count": null,
      "metadata": {
        "id": "wQ-w_jR__bFG"
      },
      "outputs": [],
      "source": [
        "#Float Literal (cara 2) menggunakan \"_\"\n",
        "1_000_000.0"
      ]
    },
    {
      "cell_type": "code",
      "execution_count": null,
      "metadata": {
        "id": "V93L3SkB_bFH"
      },
      "outputs": [],
      "source": [
        "#Float Literal (cara 3) menggunakan \"e\"\n",
        "1e6 #Artinya adalah 1 x 10^6"
      ]
    },
    {
      "cell_type": "code",
      "execution_count": null,
      "metadata": {
        "id": "Ak-an0xP_bFH"
      },
      "outputs": [],
      "source": [
        "#e untuk pangkat negatif\n",
        "3e-2"
      ]
    },
    {
      "cell_type": "code",
      "execution_count": null,
      "metadata": {
        "id": "w4dNuZoE_bFI"
      },
      "outputs": [],
      "source": [
        "#batasan untuk e\n",
        "x = 3e400\n"
      ]
    },
    {
      "cell_type": "code",
      "execution_count": null,
      "metadata": {
        "id": "7G0oW3_h_bFI"
      },
      "outputs": [],
      "source": [
        "x"
      ]
    },
    {
      "cell_type": "code",
      "execution_count": null,
      "metadata": {
        "id": "oCW7xri8_bFI"
      },
      "outputs": [],
      "source": [
        "type(x)"
      ]
    },
    {
      "cell_type": "code",
      "execution_count": null,
      "metadata": {
        "id": "MODrx2sG_bFI"
      },
      "outputs": [],
      "source": [
        "-3e400"
      ]
    },
    {
      "cell_type": "markdown",
      "metadata": {
        "id": "oM7NS2Cv_bFJ"
      },
      "source": [
        "### Operasi Aritmatika"
      ]
    },
    {
      "cell_type": "code",
      "execution_count": null,
      "metadata": {
        "id": "3a3KVaOO_bFJ"
      },
      "outputs": [],
      "source": [
        "#Operasi penjumlahan\n",
        "3 + 4"
      ]
    },
    {
      "cell_type": "code",
      "execution_count": null,
      "metadata": {
        "id": "dzCEtyPG_bFK"
      },
      "outputs": [],
      "source": [
        "#float + int (dan sebaliknya)\n",
        "3 + 4.0"
      ]
    },
    {
      "cell_type": "code",
      "execution_count": null,
      "metadata": {
        "id": "-Jw1KTNd_bFK"
      },
      "outputs": [],
      "source": [
        "#Operasi pengurangan (dan sebaliknya)\n",
        "5 - 2"
      ]
    },
    {
      "cell_type": "code",
      "execution_count": null,
      "metadata": {
        "id": "8B49ei5v_bFK"
      },
      "outputs": [],
      "source": [
        "#float - int\n",
        "5 - 2.0"
      ]
    },
    {
      "cell_type": "code",
      "execution_count": null,
      "metadata": {
        "id": "25WXfhir_bFL"
      },
      "outputs": [],
      "source": [
        "#Operasi Perkalian\n",
        "4*5 "
      ]
    },
    {
      "cell_type": "code",
      "execution_count": null,
      "metadata": {
        "id": "QUsoh9Ww_bFL"
      },
      "outputs": [],
      "source": [
        "#float * int (dan sebalinya)\n",
        "4.0*5"
      ]
    },
    {
      "cell_type": "code",
      "execution_count": null,
      "metadata": {
        "id": "YChSTR66_bFL"
      },
      "outputs": [],
      "source": [
        "#Operasi pembagian\n",
        "15/3"
      ]
    },
    {
      "cell_type": "code",
      "execution_count": null,
      "metadata": {
        "id": "voUqHZfg_bFL"
      },
      "outputs": [],
      "source": [
        "15.0/3"
      ]
    },
    {
      "cell_type": "markdown",
      "metadata": {
        "scrolled": true,
        "id": "rP4pwHmZ_bFL"
      },
      "source": [
        "**Operasi pembagian selalu menghasilkan float**"
      ]
    },
    {
      "cell_type": "code",
      "execution_count": null,
      "metadata": {
        "id": "SXo7yLF-_bFM"
      },
      "outputs": [],
      "source": [
        "int(15/3)"
      ]
    },
    {
      "cell_type": "code",
      "execution_count": null,
      "metadata": {
        "id": "sPBUZg4y_bFM"
      },
      "outputs": [],
      "source": [
        "x = 15.0/3\n",
        "int(x)"
      ]
    },
    {
      "cell_type": "markdown",
      "metadata": {
        "id": "skB5FnLG_bFM"
      },
      "source": [
        "### Pembagian Bilangan Bulat (Integer Division)\n",
        "\n",
        "_**Integer division**_ dalam matematika dikenal dengan **fungsi bilangan bulat terbesar**\n",
        "\n",
        "a//b"
      ]
    },
    {
      "cell_type": "code",
      "execution_count": null,
      "metadata": {
        "id": "snIgxS3r_bFM"
      },
      "outputs": [],
      "source": [
        "9//3"
      ]
    },
    {
      "cell_type": "code",
      "execution_count": null,
      "metadata": {
        "id": "NPIfTGdf_bFN"
      },
      "outputs": [],
      "source": [
        "5.0//2"
      ]
    },
    {
      "cell_type": "code",
      "execution_count": null,
      "metadata": {
        "id": "kxBkpZon_bFN"
      },
      "outputs": [],
      "source": [
        "-3//2"
      ]
    },
    {
      "cell_type": "code",
      "execution_count": null,
      "metadata": {
        "id": "uMCtPqje_bFN"
      },
      "outputs": [],
      "source": [
        "#Tidak berlaku untuk pembagian dengan 0\n",
        "1//0"
      ]
    },
    {
      "cell_type": "markdown",
      "metadata": {
        "id": "crBVIb9o_bFN"
      },
      "source": [
        "### Eksponen (Perpangkatan)"
      ]
    },
    {
      "cell_type": "code",
      "execution_count": null,
      "metadata": {
        "id": "Tdg_BvX0_bFO"
      },
      "outputs": [],
      "source": [
        "#2 pangkat 2\n",
        "2**2"
      ]
    },
    {
      "cell_type": "code",
      "execution_count": null,
      "metadata": {
        "id": "khtq0umE_bFO"
      },
      "outputs": [],
      "source": [
        "2**5"
      ]
    },
    {
      "cell_type": "code",
      "execution_count": null,
      "metadata": {
        "id": "3CwD99AD_bFO"
      },
      "outputs": [],
      "source": [
        "#Eksponen menggunakan float\n",
        "3**2.5"
      ]
    },
    {
      "cell_type": "code",
      "execution_count": null,
      "metadata": {
        "id": "ziJ4HuX5_bFO"
      },
      "outputs": [],
      "source": [
        "#Pangkat bilangan negatif\n",
        "2**-1"
      ]
    },
    {
      "cell_type": "code",
      "execution_count": null,
      "metadata": {
        "id": "mMC67jvG_bFP"
      },
      "outputs": [],
      "source": [
        "#Hubungan pangkat positif dan pangkat negatif\n",
        "1/2**1"
      ]
    },
    {
      "cell_type": "markdown",
      "metadata": {
        "id": "b75xe3SY_bFP"
      },
      "source": [
        "### Operator Modulus (Modulo)\n",
        "\n",
        "Operator **%** dikenal dengan istilah **modulus**. \n",
        "\n",
        "a%b akan memberikan sisa pembagian a terhadap b\n"
      ]
    },
    {
      "cell_type": "code",
      "execution_count": null,
      "metadata": {
        "id": "CIyXbLcI_bFP"
      },
      "outputs": [],
      "source": [
        "5%3"
      ]
    },
    {
      "cell_type": "code",
      "execution_count": null,
      "metadata": {
        "id": "hFSHePAJ_bFP"
      },
      "outputs": [],
      "source": [
        "20%7"
      ]
    },
    {
      "cell_type": "code",
      "execution_count": null,
      "metadata": {
        "id": "dQ82RGxX_bFQ"
      },
      "outputs": [],
      "source": [
        "1%0"
      ]
    },
    {
      "cell_type": "code",
      "execution_count": null,
      "metadata": {
        "id": "P4dbFahI_bFQ"
      },
      "outputs": [],
      "source": [
        "# a atau b adalah bilangan negatif\n",
        "5%-3"
      ]
    },
    {
      "cell_type": "code",
      "execution_count": null,
      "metadata": {
        "id": "DUrSSel5_bFQ"
      },
      "outputs": [],
      "source": [
        "-5%3"
      ]
    },
    {
      "cell_type": "code",
      "execution_count": null,
      "metadata": {
        "id": "Y9d8Fskp_bFQ"
      },
      "outputs": [],
      "source": [
        "-5%-3"
      ]
    },
    {
      "cell_type": "markdown",
      "metadata": {
        "id": "ADqq1r3U_bFQ"
      },
      "source": [
        "### Ekspresi Aritmatika (Hitung Campuran)"
      ]
    },
    {
      "cell_type": "markdown",
      "metadata": {
        "id": "k0Y5F5mA_bFR"
      },
      "source": [
        "**Order of operations** (Urutan Operasi)\n",
        "Urutan berdasarkan prioritas (mana yang dioperasikan terlebih dahulu)\n",
        "\n",
        "1. Apa yang ada dalam tanda kurung ()\n",
        "\n",
        "2. **\n",
        "\n",
        "3. *, /, //, %\n",
        "\n",
        "4. +, -\n",
        "\n",
        "**Cat**:\n",
        "Jika operasi berada pada prioritas yang sama, maka didahulukan operasi yang muncul paling awal (paling kiri)"
      ]
    },
    {
      "cell_type": "code",
      "execution_count": null,
      "metadata": {
        "id": "EaHYwkWx_bFR"
      },
      "outputs": [],
      "source": [
        "4*3 - 1"
      ]
    },
    {
      "cell_type": "code",
      "execution_count": null,
      "metadata": {
        "id": "7gbYCBnk_bFR"
      },
      "outputs": [],
      "source": [
        "6/2+3**2"
      ]
    },
    {
      "cell_type": "code",
      "execution_count": null,
      "metadata": {
        "id": "bd_pSlXM_bFR"
      },
      "outputs": [],
      "source": [
        "-1 * (-3 - 2)/4"
      ]
    },
    {
      "cell_type": "code",
      "execution_count": null,
      "metadata": {
        "id": "bYi7z0AE_bFR"
      },
      "outputs": [],
      "source": [
        "4 % 3 * 5 / 2"
      ]
    },
    {
      "cell_type": "markdown",
      "source": [
        "###**LATIHAN 1**\n",
        "\n",
        "Buat sebuah script yang meminta user untuk memasukkan dua angka x dan y dan memberikan output\n",
        "\"x pangkat y adalah ...\"."
      ],
      "metadata": {
        "id": "GMD9dn4QIgcY"
      }
    },
    {
      "cell_type": "markdown",
      "metadata": {
        "id": "rN3EfXGl_bFS"
      },
      "source": [
        "## Fungsi Matematika dan _Number Methods_"
      ]
    },
    {
      "cell_type": "markdown",
      "metadata": {
        "id": "fbX5gk_C_bFS"
      },
      "source": [
        "Python memiliki _Built in functions_ untuk jenis data _Number_. BErikit adalah tiga diantaranya (yang paling sering digunakan):\n",
        "1. **round()**, --> Untuk membulatkan bilangan kebeberapa tempat desimal\n",
        "2. **abs()**, --> Untuk memperoleh nilai mutlak dari suatu bilangan\n",
        "3. **pow()**, --> Untuk memangkatkan suatu bilangan"
      ]
    },
    {
      "cell_type": "markdown",
      "metadata": {
        "id": "mX2K7Oj2_bFS"
      },
      "source": [
        "### Fungsi round()\n",
        "\n",
        "#### 1. Membulatkan ke bilangan bulat terdekat"
      ]
    },
    {
      "cell_type": "code",
      "execution_count": null,
      "metadata": {
        "id": "940t4QcB_bFS"
      },
      "outputs": [],
      "source": [
        "#Angka dibelakang koma kurang dari 5\n",
        "round(2.3)"
      ]
    },
    {
      "cell_type": "code",
      "execution_count": null,
      "metadata": {
        "id": "YFmNwFU5_bFS"
      },
      "outputs": [],
      "source": [
        "#Angka dibelakang koma lebih dari 5\n",
        "round(2.7)"
      ]
    },
    {
      "cell_type": "code",
      "execution_count": null,
      "metadata": {
        "id": "6A6j8IPH_bFT"
      },
      "outputs": [],
      "source": [
        "#Angka dibelakang koma sama dengan 5\n",
        "round(2.5)"
      ]
    },
    {
      "cell_type": "code",
      "execution_count": null,
      "metadata": {
        "id": "9ZW4Az03_bFT"
      },
      "outputs": [],
      "source": [
        "#Angka dibelakang koma sama dengan 5\n",
        "round(3.5)"
      ]
    },
    {
      "cell_type": "markdown",
      "metadata": {
        "id": "3FqgVwuV_bFT"
      },
      "source": [
        "Ketika angka dibelakang koma **sama dengan 5** Python menggunakan aturan **pembulatan ke bilangan genap terdekat**"
      ]
    },
    {
      "cell_type": "markdown",
      "metadata": {
        "id": "Jc8WwhZN_bFT"
      },
      "source": [
        "#### 2. Membulatkan ke \"jumlah angka tertentu\" dibelakang koma.\n",
        "\n",
        "formula:\n",
        "**round(x, y)** --> x adalah bilangan yang akan dibulatkan, y jumlah angka dibelakang koma\n",
        "\n",
        "**cat**: y harus bilangan bulat"
      ]
    },
    {
      "cell_type": "code",
      "execution_count": null,
      "metadata": {
        "id": "in_ufcqX_bFU"
      },
      "outputs": [],
      "source": [
        "round(3.14159, 3)"
      ]
    },
    {
      "cell_type": "code",
      "execution_count": null,
      "metadata": {
        "id": "TFy93wDe_bFU"
      },
      "outputs": [],
      "source": [
        "round(2.71828, 2)"
      ]
    },
    {
      "cell_type": "code",
      "execution_count": null,
      "metadata": {
        "id": "BWHDdBs8_bFU"
      },
      "outputs": [],
      "source": [
        "#Eror\n",
        "round(2.71828, 2.5)"
      ]
    },
    {
      "cell_type": "code",
      "execution_count": null,
      "metadata": {
        "id": "i8pfAftH_bFU"
      },
      "outputs": [],
      "source": [
        "#Nilai yang diharapkan: 2.68\n",
        "round(2.685, 2)"
      ]
    },
    {
      "cell_type": "code",
      "execution_count": null,
      "metadata": {
        "id": "gzYC_BNq_bFU"
      },
      "outputs": [],
      "source": [
        "round(3.35, 1)"
      ]
    },
    {
      "cell_type": "markdown",
      "metadata": {
        "id": "EK95dr0f_bFV"
      },
      "source": [
        "### Fungsi abs()"
      ]
    },
    {
      "cell_type": "code",
      "execution_count": null,
      "metadata": {
        "id": "dxxnRGVf_bFV"
      },
      "outputs": [],
      "source": [
        "abs(3)"
      ]
    },
    {
      "cell_type": "code",
      "execution_count": null,
      "metadata": {
        "id": "iePF3XGg_bFV"
      },
      "outputs": [],
      "source": [
        "abs(-2.5)"
      ]
    },
    {
      "cell_type": "code",
      "execution_count": null,
      "metadata": {
        "id": "4bTgrBXn_bFV"
      },
      "outputs": [],
      "source": [
        ""
      ]
    },
    {
      "cell_type": "markdown",
      "metadata": {
        "id": "3oP6JO0U_bFV"
      },
      "source": [
        "### Fungsi pow()\n",
        "\n",
        "formula: **pow(x, y)** --> x**y"
      ]
    },
    {
      "cell_type": "code",
      "execution_count": null,
      "metadata": {
        "id": "ap4nqxVy_bFV"
      },
      "outputs": [],
      "source": [
        "pow(2,3)"
      ]
    },
    {
      "cell_type": "code",
      "execution_count": null,
      "metadata": {
        "id": "7-vVLYzZ_bFW"
      },
      "outputs": [],
      "source": [
        "pow(2,-2)"
      ]
    },
    {
      "cell_type": "markdown",
      "metadata": {
        "id": "UDSjd10o_bFW"
      },
      "source": [
        "Perbadaan fungsi **pow()** dengan perpangkatan biasa (**) adalah, fungsi **pow()** masih menerima satu argumen lagi. Sehingga formulanya bisa menjadi:\n",
        "\n",
        "**pow(x, y, z)** --> x**y % z"
      ]
    },
    {
      "cell_type": "code",
      "execution_count": null,
      "metadata": {
        "id": "8jHFRB_r_bFW"
      },
      "outputs": [],
      "source": [
        "pow(2,3,3)"
      ]
    },
    {
      "cell_type": "markdown",
      "metadata": {
        "id": "u0wvpp_m_bFW"
      },
      "source": [
        "### Number Methods\n",
        "\n",
        "diantaranya:\n",
        "\n",
        "**.is_integer()** _method_ --> Untuk mengecek apakah suatu **float** adalah **integral**. **Integral** berarti bilangan tidak memiliki bagian pecahan (angka dibelakang koma sama dengan 0)."
      ]
    },
    {
      "cell_type": "code",
      "execution_count": null,
      "metadata": {
        "id": "NvH9rqlF_bFW"
      },
      "outputs": [],
      "source": [
        "#Output False\n",
        "x = 2.5\n",
        "x.is_integer()"
      ]
    },
    {
      "cell_type": "code",
      "execution_count": null,
      "metadata": {
        "id": "d4r9bxdq_bFX"
      },
      "outputs": [],
      "source": [
        "#Output True\n",
        "y = -3.0\n",
        "y.is_integer()"
      ]
    },
    {
      "cell_type": "markdown",
      "source": [
        "###**LATIHAN 2**\n",
        "\n",
        "1. Tulis sebuah skript yang meminta user memasukan bilangan desimal, kemudian memberikan output bilangan tersebut dengan pembulatan dua angka dibelakang koma. \n",
        "\n",
        "2. Tulis sebuah skript yang meminta user memasukan bilangan bulat, kemudian memberikan output nilai mutlak dari bilangan tersebut. \n",
        "\n",
        "3. Tulis sebuah skript yang meminta user memasukan 2 bilangan, kemudian memberikan output: Apakah benar selisih dari dua bilangan tersebut adalah sebuah integer?"
      ],
      "metadata": {
        "id": "ZljOB-VaIzMI"
      }
    },
    {
      "cell_type": "markdown",
      "metadata": {
        "id": "fig47dil_bFX"
      },
      "source": [
        "## Style dalam Memprint Number"
      ]
    },
    {
      "cell_type": "markdown",
      "metadata": {
        "id": "S4E-bdd9_bFX"
      },
      "source": [
        "### Menggunakan f-strings"
      ]
    },
    {
      "cell_type": "code",
      "execution_count": null,
      "metadata": {
        "id": "N45koRel_bFX"
      },
      "outputs": [],
      "source": [
        "#Output number tidak berubah\n",
        "x = 8.125\n",
        "f\"Nilai dari x adalah {x}\""
      ]
    },
    {
      "cell_type": "code",
      "execution_count": null,
      "metadata": {
        "id": "QMR0uGQU_bFX"
      },
      "outputs": [],
      "source": [
        "#Output number berubah sesuai jumlah angka dibelakang koma\n",
        "x = 8\n",
        "f\"Nilai dari x adalah {x:.2f}\""
      ]
    },
    {
      "cell_type": "markdown",
      "metadata": {
        "id": "K_DFwlZG_bFX"
      },
      "source": [
        "Tanda kolon (**:**) setelah variabel x menunjukkan bagian setelahnya adalah spesifik format\n",
        "\n",
        "Pada contoh, spesifik formatnya adalah **.2f**\n",
        "\n",
        "**.2** pada **.2f** menunjukan bahwa bilangan akan dibulatkan 2 angka dibelakang koma, meskipun bilangan awalnya tidak memiliki angka dibelakang koma."
      ]
    },
    {
      "cell_type": "code",
      "execution_count": null,
      "metadata": {
        "id": "3CMvkFxa_bFY"
      },
      "outputs": [],
      "source": [
        "x = 8.126\n",
        "f\"Nilai dari x adalah {x:.2f}\""
      ]
    },
    {
      "cell_type": "code",
      "execution_count": null,
      "metadata": {
        "id": "5kY2-_2b_bFY"
      },
      "outputs": [],
      "source": [
        "#1 angka dibelakang koma\n",
        "x = 8.125\n",
        "f\"Nilai dari x adalah {x:.1f}\""
      ]
    },
    {
      "cell_type": "code",
      "execution_count": null,
      "metadata": {
        "id": "wnGCSz01_bFY"
      },
      "outputs": [],
      "source": [
        "y = 8\n",
        "f\"Nilai dari y adalah {y:.2f}\""
      ]
    },
    {
      "cell_type": "code",
      "execution_count": null,
      "metadata": {
        "id": "uCkQQKDQ_bFY"
      },
      "outputs": [],
      "source": [
        "y = 8\n",
        "f\"Nilai dari y adalah {y:.4f}\""
      ]
    },
    {
      "cell_type": "markdown",
      "metadata": {
        "id": "syJ8LD_u_bFY"
      },
      "source": [
        "Selain itu kita juga bisa menggunakan spesifik format yang lain, misalnya untuk memisahkan sebuah bilangan besar menjadi bagian ribuan, jutaan, dst"
      ]
    },
    {
      "cell_type": "code",
      "execution_count": null,
      "metadata": {
        "id": "-ZsKEhfj_bFZ"
      },
      "outputs": [],
      "source": [
        "n = 1234567890\n",
        "f\"Nilai dari n adalah {n:,}\""
      ]
    },
    {
      "cell_type": "code",
      "execution_count": null,
      "metadata": {
        "id": "rLnJyUnV_bFZ"
      },
      "outputs": [],
      "source": [
        "n = 1234.567890\n",
        "f\"Nilai dari n adalah {n:,.2f}\""
      ]
    },
    {
      "cell_type": "markdown",
      "metadata": {
        "id": "-N8JCiKZ_bFZ"
      },
      "source": [
        "Spesifikasi **,.2f** biasanya berguna untuk menampilkan nilai mata uang."
      ]
    },
    {
      "cell_type": "code",
      "execution_count": null,
      "metadata": {
        "id": "lyWoXYWj_bFZ"
      },
      "outputs": [],
      "source": [
        "saldo = 2000000.0\n",
        "belanja = 535000.25\n",
        "Sisa_Saldo = saldo - belanja"
      ]
    },
    {
      "cell_type": "code",
      "execution_count": null,
      "metadata": {
        "id": "4BAbYtwp_bFZ"
      },
      "outputs": [],
      "source": [
        "#Memprint sisa saldo\n",
        "f\"Setelah membelanjakan Rp.{belanja:,.2f}, sisa uang saya adalah Rp.{Sisa_Saldo:,.2f}\""
      ]
    },
    {
      "cell_type": "markdown",
      "metadata": {
        "id": "U0nxA3A2_bFa"
      },
      "source": [
        "Spesifik format untuk perbandingan persen dapat menggunakan operator **%**"
      ]
    },
    {
      "cell_type": "code",
      "execution_count": null,
      "metadata": {
        "id": "QH8t9WU0_bFa"
      },
      "outputs": [],
      "source": [
        "rasio = 0.6\n",
        "f\"Sebanyak {rasio:.1%} mahasiswa tertarik untuk mempelajari pemrograman\""
      ]
    },
    {
      "cell_type": "code",
      "execution_count": null,
      "metadata": {
        "id": "_PzFRyxh_bFa"
      },
      "outputs": [],
      "source": [
        "f\"Sebanyak {rasio:.2%} mahasiswa tertarik untuk mempelajari pemrograman\""
      ]
    },
    {
      "cell_type": "markdown",
      "source": [
        "###**LATIHAN 3**\n",
        "\n",
        "1. Print hasil dari perhitungan 3**0.125 sebagai bilangan dengan 3 angka dibelakang koma.\n",
        "2. Print hasil dari 2/10 sebagai persentase tanpa angka dibelakang koma.\n",
        "3. Buat Script yang meminta user memasukkan Saldo uang yang dimiliki, dan jumlah pengeluarannya saat itu, lalu memberikan output sisa saldo dalam satuan Rupiah dan memiliki dua angka dibelakang koma. "
      ],
      "metadata": {
        "id": "qIkq-W65_bFa"
      }
    }
  ],
  "metadata": {
    "kernelspec": {
      "display_name": "Python 3",
      "language": "python",
      "name": "python3"
    },
    "language_info": {
      "codemirror_mode": {
        "name": "ipython",
        "version": 3
      },
      "file_extension": ".py",
      "mimetype": "text/x-python",
      "name": "python",
      "nbconvert_exporter": "python",
      "pygments_lexer": "ipython3",
      "version": "3.7.3"
    },
    "colab": {
      "name": "Number & Mathematics (1).ipynb",
      "provenance": [],
      "include_colab_link": true
    }
  },
  "nbformat": 4,
  "nbformat_minor": 0
}

{
  "cells": [
    {
      "cell_type": "markdown",
      "metadata": {
        "id": "view-in-github",
        "colab_type": "text"
      },
      "source": [
        "<a href=\"https://colab.research.google.com/github/amandalahadi/Belajar-Python-Dasar/blob/main/Strings.ipynb\" target=\"_parent\"><img src=\"https://colab.research.google.com/assets/colab-badge.svg\" alt=\"Open In Colab\"/></a>"
      ]
    },
    {
      "cell_type": "markdown",
      "metadata": {
        "id": "eDdnL4HBmuLJ"
      },
      "source": [
        "#**STRINGS**"
      ]
    },
    {
      "cell_type": "markdown",
      "metadata": {
        "id": "VBsP3YgomzbV"
      },
      "source": [
        "Strings adalah salah satu tipe data fundamental. Disebut **fundamental** karena tipe data ini tidak bisa disederhanakan lagi menjadi nilai yang lebih kecil atau tipe data lain.\n",
        "\n",
        "Tipe data yang merupakan gabungan dari beberapa tipe data dikenal dengan istilah **struktur data** atau **data structures**"
      ]
    },
    {
      "cell_type": "code",
      "execution_count": null,
      "metadata": {
        "id": "D8A0QqcWoFxm"
      },
      "outputs": [],
      "source": [
        "type(\"Amanda\")"
      ]
    },
    {
      "cell_type": "markdown",
      "metadata": {
        "id": "dat7P7XFo_U-"
      },
      "source": [
        "fungsi **type()** juga dapat digunakan untuk menentukan tipe data dari sebuah variabel"
      ]
    },
    {
      "cell_type": "code",
      "execution_count": null,
      "metadata": {
        "id": "2fKoCQVhIfN1"
      },
      "outputs": [],
      "source": [
        "buah = \"Apel\"\n",
        "type(buah)"
      ]
    },
    {
      "cell_type": "code",
      "execution_count": null,
      "metadata": {
        "id": "efa0bWJAJs6b"
      },
      "outputs": [],
      "source": [
        "print(type(buah))"
      ]
    },
    {
      "cell_type": "markdown",
      "metadata": {
        "id": "yUjPYaI_pUz9"
      },
      "source": [
        "Output <class 'str'> menunjukkan bahwa \"Apel\" adalah contoh dari tipe data **str** atau **strings**"
      ]
    },
    {
      "cell_type": "markdown",
      "metadata": {
        "id": "UN9NuncDqTX5"
      },
      "source": [
        "String memiliki tiga properti yang akan kita bahas selanjutnya:\n",
        "1. String berisi karakter (*character*), yang merupakan huruf atau simbol individual.\n",
        "2. String memiliki panjang (*length*), yang merupakan jumlah karakter\n",
        "terkandung dalam string.\n",
        "3. Karakter dalam sebuah string muncul secara berurutan, artinya setiap karakter memiliki posisi bernomor dalam string tersebut."
      ]
    },
    {
      "cell_type": "markdown",
      "metadata": {
        "id": "os7ecRXlvnx7"
      },
      "source": [
        "##**STRINGS LITERALS**\n",
        "\n",
        "Setiap kali Anda membuat string dengan mengelilingi teks dengan tanda kutip, string ini disebut _**string literal**_. Nama ini menunjukkan bahwa string secara **harfiah** ditulis dalam kode Anda.\n",
        "\n",
        "Contoh string yang tidak secarah harfiah tertulis dalam kode adalah string yang berasal dari *user input* \n",
        "\n"
      ]
    },
    {
      "cell_type": "code",
      "execution_count": null,
      "metadata": {
        "id": "t2U8HVIAxDT3"
      },
      "outputs": [],
      "source": [
        "string1 = \"Saya suka membaca buku\"\n",
        "string2 = 'buku favorit saya adalah Game of Thrones'"
      ]
    },
    {
      "cell_type": "code",
      "execution_count": null,
      "metadata": {
        "id": "1Z_1TncNCldD"
      },
      "outputs": [],
      "source": [
        "print(string1)\n",
        "print(string2)"
      ]
    },
    {
      "cell_type": "code",
      "execution_count": null,
      "metadata": {
        "id": "FH-xIuOEydSx"
      },
      "outputs": [],
      "source": [
        "nama_Anda = input()"
      ]
    },
    {
      "cell_type": "code",
      "execution_count": null,
      "metadata": {
        "id": "1tTvIiFSCXLD"
      },
      "outputs": [],
      "source": [
        "print(type(nama_Anda))"
      ]
    },
    {
      "cell_type": "markdown",
      "metadata": {
        "id": "m9HlcTv2w4-W"
      },
      "source": [
        "###Delimiters\n",
        "\n",
        "Tanda kutip yang digunakan saat menuliskan strings disebut **delimiters**, karena tanda ini memberitahu python dimana sebuah string mulai dan berakhir.\n",
        "\n",
        "Ketika kamu menggunakan salah satu tanda kutip sebagai delimiter, Anda dapat menggunakan tanda lainnya di dalam string "
      ]
    },
    {
      "cell_type": "code",
      "execution_count": null,
      "metadata": {
        "id": "4lpCP2-PyGmt"
      },
      "outputs": [],
      "source": [
        "string3 = \"Saya menyukai ungkapan 'Membaca adalah jendela dunia!'\"\n",
        "string4 = 'Saya tidak suka ketika dia memanggil dengan sebutan,\"Say\"'"
      ]
    },
    {
      "cell_type": "code",
      "execution_count": null,
      "metadata": {
        "id": "wWHZzSotyyiF"
      },
      "outputs": [],
      "source": [
        "print(string3)\n",
        "print(string4)"
      ]
    },
    {
      "cell_type": "code",
      "execution_count": null,
      "metadata": {
        "id": "iMMqyAuj4HNR"
      },
      "outputs": [],
      "source": [
        "string5 = \"Dia berkata, \"Hallo, Apa kabar?\"\""
      ]
    },
    {
      "cell_type": "code",
      "execution_count": null,
      "metadata": {
        "id": "-DSwS9ur4Pqk"
      },
      "outputs": [],
      "source": [
        "string6 = \"We're #1!\"\n",
        "string7 = \"×Pýŧħøŋ×\""
      ]
    },
    {
      "cell_type": "code",
      "execution_count": null,
      "metadata": {
        "id": "ttGk-PIcC6lL"
      },
      "outputs": [],
      "source": [
        "string6"
      ]
    },
    {
      "cell_type": "code",
      "execution_count": null,
      "metadata": {
        "id": "YmBsD4L9MT1_"
      },
      "outputs": [],
      "source": [
        "string7"
      ]
    },
    {
      "cell_type": "markdown",
      "metadata": {
        "id": "qx1Aa4CC4oJJ"
      },
      "source": [
        "##**MENENTUKAN PANJANG (*LENGTH*) SEBUAH STRING**\n",
        "\n",
        "Jumlah karakter yang terdapat dalam sebuah string, **termasuk spasi**, disebut **panjang string** atau **LENGTH**\n",
        "\n",
        "Contoh:\n",
        "\"saya\" --> memiliki panjang 4\n",
        "\n",
        "\"saya 123\" --> memiliki panjang 8\n",
        "\n",
        "Panjang sebuah string dapat kita lihat menggunakan fungsi **_len()_**"
      ]
    },
    {
      "cell_type": "code",
      "execution_count": null,
      "metadata": {
        "id": "WhYPh_lt5-xx"
      },
      "outputs": [],
      "source": [
        "len(\"saya\")"
      ]
    },
    {
      "cell_type": "code",
      "execution_count": null,
      "metadata": {
        "id": "5CoR9giYM1RT"
      },
      "outputs": [],
      "source": [
        "len(\"saya 123\")"
      ]
    },
    {
      "cell_type": "markdown",
      "metadata": {
        "id": "bMbd610A6H0b"
      },
      "source": [
        "Kita juga dapat mengugunakan len() untuk menentukan panjang string yang dimasukkan kedalam sebuah variabel"
      ]
    },
    {
      "cell_type": "code",
      "execution_count": null,
      "metadata": {
        "id": "I6S6pkC26V68"
      },
      "outputs": [],
      "source": [
        "len(string3)"
      ]
    },
    {
      "cell_type": "markdown",
      "metadata": {
        "id": "rxDlYCzJ6WgK"
      },
      "source": [
        "##**Multiline STRING**\n",
        "\n",
        "Misalnya Anda akan menuliskan sebuah paragraf:\n",
        "\n",
        "*“This planet has—or rather had—a problem, which was\n",
        "this: most of the people living on it were unhappy for\n",
        "pretty much of the time. Many solutions were suggested\n",
        "for this problem, but most of these were largely concerned with the movements of small green pieces of\n",
        "paper, which is odd because on the whole it wasn’t the\n",
        "small green pieces of paper that were unhappy.”\n",
        "— Douglas Adams, The Hitchhiker’s Guide to the Galaxy*\n",
        "\n",
        "\n",
        "\n"
      ]
    },
    {
      "cell_type": "markdown",
      "metadata": {
        "id": "qecVp1Hpt8NY"
      },
      "source": [
        "**PEP 8** style merekomendasikan baris kode dalam python tidak boleh lebih dari 79 karakter."
      ]
    },
    {
      "cell_type": "markdown",
      "metadata": {
        "id": "6XN66xlVuXlV"
      },
      "source": [
        "###**Multiline** Menggunakan *Backslah* \" \\ \"\n",
        "\n",
        "Cara ini dilakukan dengan menambahkan \" \\ \" pada setiap akhir baris/line, tetapi bukan pada akhir paragraf."
      ]
    },
    {
      "cell_type": "code",
      "execution_count": null,
      "metadata": {
        "id": "5_OQSqbevDtH"
      },
      "outputs": [],
      "source": [
        "paragraf = \"This planet has - or rather had - a problem, which was \\\n",
        "this: most of the people living on it were unhappy for pretty much \\\n",
        "of the time. Many solutions were suggested for this problem, but \\\n",
        "most of these were largely concerned with the movements of small \\\n",
        "green pieces of paper, which is odd because on the whole it wasn't \\\n",
        "the small green pieces of paper that were unhappy.\""
      ]
    },
    {
      "cell_type": "code",
      "execution_count": null,
      "metadata": {
        "id": "Jgka5yC_vfe5"
      },
      "outputs": [],
      "source": [
        "print(paragraf)"
      ]
    },
    {
      "cell_type": "code",
      "execution_count": null,
      "metadata": {
        "id": "xELYdvz7N7cF"
      },
      "outputs": [],
      "source": [
        ""
      ]
    },
    {
      "cell_type": "markdown",
      "metadata": {
        "id": "B7z6fZ22vghZ"
      },
      "source": [
        "Ketika kita print() **multiline** strings yang penulisannya menggunakan **_backslash_**, python akan memberikan outputnya dalam satu baris"
      ]
    },
    {
      "cell_type": "markdown",
      "metadata": {
        "id": "vON2xxHevxmg"
      },
      "source": [
        "###**Multiline** Menggunakan tanda petik triple \"\"\" atau '''\n"
      ]
    },
    {
      "cell_type": "code",
      "execution_count": null,
      "metadata": {
        "id": "z7p1fYkGwgtd"
      },
      "outputs": [],
      "source": [
        "paragraf = \"\"\"This planet has - or rather had - a problem, which was\n",
        "this: most of the people living on it were unhappy for pretty much\n",
        "of the time. Many solutions were suggested for this problem, but\n",
        "most of these were largely concerned with the movements of small\n",
        "green pieces of paper, which is odd because on the whole it wasn't\n",
        "the small green pieces of paper that were unhappy.\"\"\""
      ]
    },
    {
      "cell_type": "code",
      "execution_count": null,
      "metadata": {
        "id": "aldiZ77Bwi30"
      },
      "outputs": [],
      "source": [
        "print(paragraf)"
      ]
    },
    {
      "cell_type": "markdown",
      "metadata": {
        "id": "rkuhuFRlw1pH"
      },
      "source": [
        "Strings yang menggunakan tanda petik triple memperhitungkan *whitespace*. Contoh di atas menunjukan hasil print() yang sama persis dengan penulisan string literal nya, termasuk disini setiap baris baru. Pada suatu kondisi, Anda mungkin tidak menginginkan penulisan string yang seperti ini. **JADI** pikirkan model yang ingin Anda gunakan ketika akan menuliskan *multiline* strings."
      ]
    },
    {
      "cell_type": "code",
      "execution_count": null,
      "metadata": {
        "id": "reSu1ze1w2ur"
      },
      "outputs": [],
      "source": [
        "print(\"\"\"Contoh dari \n",
        "              string yang dituliskan dalam multiple lines\n",
        "   dan menggunakan 'whitespace'.\"\"\")"
      ]
    },
    {
      "cell_type": "markdown",
      "metadata": {
        "id": "jxLidV-qyMG1"
      },
      "source": [
        "String yang menggunakan tanda petik triple memiliki tujuan khusus dalam Python. Mereka digunakan untuk mendokumentasikan kode. Anda akan sering menemukannya di bagian atas .py dengan deskripsi tujuan kode. Mereka juga digunakan untuk mendokumentasikan fungsi kustom. Ketika digunakan untuk mendokumentasikan kode, string yang dikutip tiga kali disebut **_docstrings_**."
      ]
    },
    {
      "cell_type": "markdown",
      "metadata": {
        "id": "WP3sPOGZyUYz"
      },
      "source": [
        "#**CONCATENATION, INDEXING, dan SLICING**\n",
        "\n",
        "1. **Concatenation** --> menggabungkan dua strings \n",
        "2. **Indexing** --> menentukan sebuah karakter tunggal dari string\n",
        "3. **Slicing** --> mengambil beberapa karakter sekaligus dari sebuah string"
      ]
    },
    {
      "cell_type": "markdown",
      "metadata": {
        "id": "R7OZnW1jylov"
      },
      "source": [
        "##**STRING CONCATENATION**\n",
        "\n",
        "Untuk menggabungkan atau merangkai (*concenate*) dua string, Anda dapat menggunakan operator \"+\"\n"
      ]
    },
    {
      "cell_type": "code",
      "execution_count": null,
      "metadata": {
        "id": "8qjQ2domz_Gs"
      },
      "outputs": [],
      "source": [
        "#Merangkai tanpa whitespice\n",
        "kata1 = \"Saya suka\"\n",
        "kata2 = \"membaca\"\n",
        "Hobiku = kata1 + kata2\n",
        "print(Hobiku)\n"
      ]
    },
    {
      "cell_type": "code",
      "execution_count": null,
      "metadata": {
        "id": "hV1y3Lrj0bto"
      },
      "outputs": [],
      "source": [
        "#Menambahkan whitespice dalam rangkaian\n",
        "nama_depan = \"Amanda\"\n",
        "nama_belakang = \"La Hadi\"\n",
        "Nama_lengkap = nama_depan + \" \" + nama_belakang\n",
        "print(Nama_lengkap)"
      ]
    },
    {
      "cell_type": "code",
      "execution_count": null,
      "metadata": {
        "id": "R3tU6ueF4AyK"
      },
      "outputs": [],
      "source": [
        "nama_depan = \"Amanda \"\n",
        "nama_belakang = \"La Hadi\"\n",
        "Nama_lengkap = nama_depan + nama_belakang\n",
        "print(Nama_lengkap)"
      ]
    },
    {
      "cell_type": "markdown",
      "metadata": {
        "id": "SXihx9744ILT"
      },
      "source": [
        "##**STRING INDEXING**\n",
        "\n",
        "Setiap karakter pada sebuah string memiliki posisi yang disebut index. Posisi ini dtuliskan dalam bentuk angka terurut. Anda dapat mengakses karakter ke-n dengan memasukan nilai n kedalam kurung siku ([ dan ]) langsung setelah string tersebut.\n",
        "\n"
      ]
    },
    {
      "cell_type": "code",
      "execution_count": null,
      "metadata": {
        "id": "VziGzuacTH7q"
      },
      "outputs": [],
      "source": [
        "\"amanda\"[2]"
      ]
    },
    {
      "cell_type": "code",
      "execution_count": null,
      "metadata": {
        "id": "dLaMHqil5EVH"
      },
      "outputs": [],
      "source": [
        "kueku = \"kue bolu\""
      ]
    },
    {
      "cell_type": "code",
      "execution_count": null,
      "metadata": {
        "id": "3yu8yiHUTJHR"
      },
      "outputs": [],
      "source": [
        "kueku[1]"
      ]
    },
    {
      "cell_type": "code",
      "execution_count": null,
      "metadata": {
        "id": "q_HP0EKK5XY3"
      },
      "outputs": [],
      "source": [
        "kueku[0]"
      ]
    },
    {
      "cell_type": "markdown",
      "metadata": {
        "id": "pxm6r-wq5X74"
      },
      "source": [
        "**PENTING**: dalam python, hitungan selalu dimulai dari **0** !!!"
      ]
    },
    {
      "cell_type": "code",
      "execution_count": null,
      "metadata": {
        "id": "613gM8Ij6EMG"
      },
      "outputs": [],
      "source": [
        "#Panjang kueku adalah 8\n",
        "len(kueku)"
      ]
    },
    {
      "cell_type": "markdown",
      "metadata": {
        "id": "CAWLxisEFUeE"
      },
      "source": [
        "kue bolu\n",
        "\n",
        "01234567"
      ]
    },
    {
      "cell_type": "markdown",
      "metadata": {
        "id": "gdtM19fv5tl0"
      },
      "source": [
        "###**Index negatif**\n",
        "\n",
        "Index negatif dimulai dari angka -1 dan menentukan posisi karakter mulai dari sebelah kanan."
      ]
    },
    {
      "cell_type": "code",
      "execution_count": null,
      "metadata": {
        "id": "KYAUOi5r5xgt"
      },
      "outputs": [],
      "source": [
        "kueku[-1]"
      ]
    },
    {
      "cell_type": "code",
      "execution_count": null,
      "metadata": {
        "id": "hVb2Poaa5_VO"
      },
      "outputs": [],
      "source": [
        "kueku[-3]"
      ]
    },
    {
      "cell_type": "markdown",
      "metadata": {
        "id": "WA8Rkfhl9k-R"
      },
      "source": [
        "Index negatif tanpak tidak berguna, tetapi terkadang bisa menjadi pilihan yang lebih baik dibandingkan index positif.\n",
        "\n",
        "Contoh: Anda ingin menentukan karakter terakhir dari input string yang diberikan user, dari mana Anda mengetahui panjang string nya untuk menentukan karakter terakhir??\n"
      ]
    },
    {
      "cell_type": "code",
      "execution_count": null,
      "metadata": {
        "id": "cYGx0Yy--m_-"
      },
      "outputs": [],
      "source": [
        "kata_saya = input()\n",
        "final_index = len(kata_saya) - 1\n",
        "huruf_terakhir = kata_saya[final_index]\n",
        "print(huruf_terakhir)"
      ]
    },
    {
      "cell_type": "code",
      "execution_count": null,
      "metadata": {
        "id": "T9puW7CC_QM3"
      },
      "outputs": [],
      "source": [
        "kata_Anda = input()\n",
        "huruf_terakhir2 = kata_Anda[-1]\n",
        "print(huruf_terakhir2)"
      ]
    },
    {
      "cell_type": "markdown",
      "metadata": {
        "id": "k-QhwlVB_oDh"
      },
      "source": [
        "##**STRING SLICING**\n",
        "\n",
        "Andaikan Anda membutukan string yang hanya memuat 3 huruf pertama dari string \"kue bolu\". Anda dapat mengakses setiap karakter menggunakan index, lalu merangkai nya."
      ]
    },
    {
      "cell_type": "code",
      "execution_count": null,
      "metadata": {
        "id": "3EfUbBF0AO1G"
      },
      "outputs": [],
      "source": [
        "tiga_huruf_pertama = kueku[0] + kueku[1] + kueku[2]"
      ]
    },
    {
      "cell_type": "code",
      "execution_count": null,
      "metadata": {
        "id": "O2fMS-oTAaBU"
      },
      "outputs": [],
      "source": [
        "print(tiga_huruf_pertama)"
      ]
    },
    {
      "cell_type": "markdown",
      "metadata": {
        "id": "otFsEr2NAa-z"
      },
      "source": [
        "Anda dapat mengambil beberapa bagian dari string, disebut **_substring_**, dengan memasukan tanda \":\" diantara dua index pada kurung siku, seperti:\n"
      ]
    },
    {
      "cell_type": "code",
      "execution_count": null,
      "metadata": {
        "id": "41BEopfiA0as"
      },
      "outputs": [],
      "source": [
        "kueku[0:3] #karakter dari index 0 sampai index ke 3-1"
      ]
    },
    {
      "cell_type": "markdown",
      "metadata": {
        "id": "l4yYYNJJJuR-"
      },
      "source": [
        "kueku[0:3] mengembalikan tiga karakter pertama dari string yang ditetapkan untuk variabel **kueku**, dimulai dengan karakter dengan indeks 0 dan seterusnya, **tapi tidak termasuk karakter dengan indeks 3**. Bagian [0:3] dari kueku[0:3] adalah disebut **_slicing_** atau **irisan**. Dalam hal ini, python memberikan output sepotong \"kue bolu\". \n",
        "\n",
        "##Slicing [x:y]\n",
        "**substring mulai dari index ke x sampai index ke y-1 (atau index sebelum y)**\n",
        "\n",
        "[0:2] --> substring index ke 0 sampai 1\n",
        "[3:9] --> substring index ke 3 sampai 8\n",
        "[-8:-4] --> substring index ke -8 sampai -5\n",
        "\n",
        "cat: **_slicing_ selalu mulai dari arah kiri**\n",
        "\n",
        "kueku = \"kue bolu\""
      ]
    },
    {
      "cell_type": "code",
      "execution_count": null,
      "metadata": {
        "id": "qc1uPw9QMBRN"
      },
      "outputs": [],
      "source": [
        "kueku[:5]"
      ]
    },
    {
      "cell_type": "code",
      "execution_count": null,
      "metadata": {
        "id": "tCTBiU2jMGux"
      },
      "outputs": [],
      "source": [
        "kueku[5:]"
      ]
    },
    {
      "cell_type": "code",
      "execution_count": null,
      "metadata": {
        "id": "MGVTuUTPMQ_2"
      },
      "outputs": [],
      "source": [
        "kueku[:]"
      ]
    },
    {
      "cell_type": "code",
      "execution_count": null,
      "metadata": {
        "id": "XWNrubqEMW4O"
      },
      "outputs": [],
      "source": [
        "kueku[:10]"
      ]
    },
    {
      "cell_type": "code",
      "execution_count": null,
      "metadata": {
        "id": "2e2Y6CzJMeN1"
      },
      "outputs": [],
      "source": [
        "kueku[9:11]"
      ]
    },
    {
      "cell_type": "code",
      "execution_count": null,
      "metadata": {
        "id": "Nn-hmjOvMsYM"
      },
      "outputs": [],
      "source": [
        "kueku[-8:-3]"
      ]
    },
    {
      "cell_type": "code",
      "execution_count": null,
      "metadata": {
        "id": "wg7HhlagND5P"
      },
      "outputs": [],
      "source": [
        "kueku[-8:]"
      ]
    },
    {
      "cell_type": "markdown",
      "metadata": {
        "id": "KEBjwXIYNUHi"
      },
      "source": [
        "###**String Tidak Dapat Diubah**\n",
        "\n",
        "String tidak dapat diubah, yang berarti Anda tidak dapat mengubahnya setelah Anda membuatnya!"
      ]
    },
    {
      "cell_type": "code",
      "execution_count": null,
      "metadata": {
        "id": "A94RkTPPNYMS"
      },
      "outputs": [],
      "source": [
        "kata3 = \"python\"\n",
        "kata3[0] = c"
      ]
    },
    {
      "cell_type": "code",
      "execution_count": null,
      "metadata": {
        "id": "LoAp-OYgNj8G"
      },
      "outputs": [],
      "source": [
        "kata4 = \"c\" + kata3[1:]"
      ]
    },
    {
      "cell_type": "code",
      "execution_count": null,
      "metadata": {
        "id": "2-1q3PaKOGK9"
      },
      "outputs": [],
      "source": [
        "print(kata4)"
      ]
    },
    {
      "cell_type": "markdown",
      "metadata": {
        "id": "LnOHkkEnL3jK"
      },
      "source": [
        "## **MANIPULASI STRING MENGGUNAKAN METHOD**"
      ]
    },
    {
      "cell_type": "markdown",
      "metadata": {
        "id": "9hA66IfG69K4"
      },
      "source": [
        "**Method** adalah fungsi spesial yang telah disediakan python untuk tipe-tipe object tertentu.\n",
        "\n",
        "*Method* yang dapat digunakan pada *strings* disebut **String Methods**\n",
        "\n",
        "Terdapat banyak sekali *string method*, namun yang akan kita bahas hanya yang paliong sering digunakan yaitu untuk:\n",
        "\n",
        "1. Mengonversi string menjadi huruf besar atau kecil\n",
        "2. Menghapus *whitespaces* dari *string*\n",
        "3. Menentukan apakah string dimulai dan diakhiri dengan karakter tertentu"
      ]
    },
    {
      "cell_type": "markdown",
      "metadata": {
        "id": "9sY9wlUA_ao5"
      },
      "source": [
        "## **Mengubah _String Case_**\n",
        "\n",
        "### **Mengubah semua huruf menjadi huruf kecil/_lower case_**\n",
        "\n",
        "Menggunakan _method_ **.lower()**\n",
        "\n",
        "**Formula**: string.lower()\n"
      ]
    },
    {
      "cell_type": "code",
      "execution_count": null,
      "metadata": {
        "id": "-NffvI0IAVpw",
        "outputId": "c180d5e8-93a1-4555-ae99-62dca59c441c"
      },
      "outputs": [
        {
          "data": {
            "text/plain": [
              "'jakata'"
            ]
          },
          "execution_count": 1,
          "metadata": {},
          "output_type": "execute_result"
        }
      ],
      "source": [
        "#string dinyatakan langusng\n",
        "\"JakaTA\".lower()"
      ]
    },
    {
      "cell_type": "code",
      "execution_count": null,
      "metadata": {
        "id": "xAra-hUDAWED"
      },
      "outputs": [],
      "source": [
        "#string sebagai nilai dari variabel\n",
        "Kota = \"KENDARI\""
      ]
    },
    {
      "cell_type": "code",
      "execution_count": null,
      "metadata": {
        "id": "SswI527GOypx",
        "outputId": "bbb5e400-ff42-4a96-8154-eac57e15030b"
      },
      "outputs": [
        {
          "data": {
            "text/plain": [
              "'kendari'"
            ]
          },
          "execution_count": 3,
          "metadata": {},
          "output_type": "execute_result"
        }
      ],
      "source": [
        "Kota.lower()"
      ]
    },
    {
      "cell_type": "markdown",
      "metadata": {
        "id": "12UZjorEAehp"
      },
      "source": [
        "Penggunaan tanda **titik** **\".\"** untuk membedakan fungsi spesial dengan fungsi bawaan python seperti _print()_ dan _type()_"
      ]
    },
    {
      "cell_type": "markdown",
      "metadata": {
        "id": "p3H78NVrCRMB"
      },
      "source": [
        "### **Mengubah semua huruf menjadi huruf besar/_UPPER case_**\n",
        "\n",
        "Menggunakan _method_ **.upper()**\n",
        "\n",
        "**Formula**: string.upper()"
      ]
    },
    {
      "cell_type": "code",
      "execution_count": null,
      "metadata": {
        "id": "SKdSvDoICYUr",
        "outputId": "c392a479-18f6-4052-8d41-65a164b31e11"
      },
      "outputs": [
        {
          "data": {
            "text/plain": [
              "'HARGA JUAL'"
            ]
          },
          "execution_count": 4,
          "metadata": {},
          "output_type": "execute_result"
        }
      ],
      "source": [
        "#mengubah string menjadi huruf besar\n",
        "\"harga Jual\".upper()"
      ]
    },
    {
      "cell_type": "markdown",
      "metadata": {
        "id": "EJ9HGfmfCktg"
      },
      "source": [
        "## **Menghapus _Whitespaces_ dari String**\n",
        "\n",
        "Terdapat tiga **string methods** untuk menghapus _whitespaces_ yaitu:     \n",
        "1. **.rstrip()** --> Menghapus karakter pada bagian **kanan**  _string_\n",
        "2. **.lstrip()** --> Menghapus karakter pada bagian **kiri** _string_\n",
        "3. **.strip()** --> Menghapus karakter pada bagian **kiri dan kanan** _string_ secara bersamaan."
      ]
    },
    {
      "cell_type": "markdown",
      "metadata": {
        "id": "9Zwo_aJEE8UM"
      },
      "source": [
        "### **Menggunakan .rstrip()**"
      ]
    },
    {
      "cell_type": "code",
      "execution_count": null,
      "metadata": {
        "id": "pAxnLYY5DoxO"
      },
      "outputs": [],
      "source": [
        "Buku1 = \"Atomic Habits       \""
      ]
    },
    {
      "cell_type": "code",
      "execution_count": null,
      "metadata": {
        "id": "y1WeJkFPFlDI",
        "outputId": "c8cea18b-ef8d-42b3-8ee4-eaa67fd46256"
      },
      "outputs": [
        {
          "data": {
            "text/plain": [
              "'Atomic Habits'"
            ]
          },
          "execution_count": 6,
          "metadata": {},
          "output_type": "execute_result"
        }
      ],
      "source": [
        "Buku1.rstrip()"
      ]
    },
    {
      "cell_type": "markdown",
      "metadata": {
        "id": "1fVv3n3nFloH"
      },
      "source": [
        "### **Menggunakan .lstrip()**"
      ]
    },
    {
      "cell_type": "code",
      "execution_count": null,
      "metadata": {
        "id": "iNKtUwiPFoD_"
      },
      "outputs": [],
      "source": [
        "Buku2 = \"        Brilliant Thinker\""
      ]
    },
    {
      "cell_type": "code",
      "execution_count": null,
      "metadata": {
        "id": "YjR8uoKOFtYk",
        "outputId": "707d32db-e246-4a9b-ead0-a47ff65d2aef"
      },
      "outputs": [
        {
          "data": {
            "text/plain": [
              "'Brilliant Thinker'"
            ]
          },
          "execution_count": 8,
          "metadata": {},
          "output_type": "execute_result"
        }
      ],
      "source": [
        "Buku2.lstrip()"
      ]
    },
    {
      "cell_type": "markdown",
      "metadata": {
        "id": "9QEEygIHFujH"
      },
      "source": [
        "### **Menggunakan .strip()**"
      ]
    },
    {
      "cell_type": "code",
      "execution_count": null,
      "metadata": {
        "id": "Xrxl5Jr7FxhG"
      },
      "outputs": [],
      "source": [
        "Buku3 = \"      Paradox of Choice      \""
      ]
    },
    {
      "cell_type": "code",
      "execution_count": null,
      "metadata": {
        "id": "2zU9n0mLGwuz",
        "outputId": "052c6bfe-0fb8-4da4-89c9-954587cbb272"
      },
      "outputs": [
        {
          "data": {
            "text/plain": [
              "'Paradox of Choice'"
            ]
          },
          "execution_count": 10,
          "metadata": {},
          "output_type": "execute_result"
        }
      ],
      "source": [
        "Buku3.strip()"
      ]
    },
    {
      "cell_type": "markdown",
      "metadata": {
        "id": "cjJTTmA-Gfsi"
      },
      "source": [
        "Ketiga _method_ ini tidak menghapus spasi/_whitespaces_ yang ada diantara kata atau karakter dalam _string_"
      ]
    },
    {
      "cell_type": "markdown",
      "metadata": {
        "id": "_d1kfI_AG9Yp"
      },
      "source": [
        "## **Menentukan apakah string dimulai dan diakhiri dengan karakter tertentu**"
      ]
    },
    {
      "cell_type": "markdown",
      "metadata": {
        "id": "h2HxLrS3G_9G"
      },
      "source": [
        "Saat Anda bekerja dengan _strings_, terkadang Anda perlu menentukan apakah string yang diberikan dimulai dengan atau diakhiri dengan karakter tertentu. \n",
        "\n",
        "Ada dua _string methods_ untuk menyelesaikan masalah ini: \n",
        "1. **.startswith()** --> Menentukan suatu _string_ dimulai dengan karakter apa\n",
        "\n",
        "   Formula: string.startwith(\"**karakter yang akan dicek**\")\n",
        "\n",
        "2. **.endswith().** --> Menentukan suatu _string_ daikhiri dengan karakter apa\n",
        " \n",
        "    Formula: string.endstwith(\"**karakter yang akan dicek**\")\n",
        "\n",
        "Kedua *method* ini akan menghasilkan nilai Boolean, **True** atau **False**"
      ]
    },
    {
      "cell_type": "markdown",
      "metadata": {
        "id": "-nZnKLGoHohT"
      },
      "source": [
        "### **Menggunakan .startswith()**"
      ]
    },
    {
      "cell_type": "code",
      "execution_count": null,
      "metadata": {
        "id": "7R2TUEvMAHnM",
        "outputId": "15bed99a-6f4c-4e29-fbb9-93b20ce934cc"
      },
      "outputs": [
        {
          "data": {
            "text/plain": [
              "False"
            ]
          },
          "execution_count": 11,
          "metadata": {},
          "output_type": "execute_result"
        }
      ],
      "source": [
        "#Contoh untuk output Salah\n",
        "\"Saya suka membaca\".startswith(\"Aku\")"
      ]
    },
    {
      "cell_type": "code",
      "execution_count": null,
      "metadata": {
        "id": "qDhY-FAX_Mbx",
        "outputId": "6d262744-8064-4d91-eb47-71fb9a118082"
      },
      "outputs": [
        {
          "data": {
            "text/plain": [
              "False"
            ]
          },
          "execution_count": 12,
          "metadata": {},
          "output_type": "execute_result"
        }
      ],
      "source": [
        "\"Saya suka membaca\".startswith(\"SAYA\")"
      ]
    },
    {
      "cell_type": "code",
      "execution_count": null,
      "metadata": {
        "id": "_AFBpQmFASG2",
        "outputId": "02e20b24-6030-4bbb-d30a-1852d6da4f9e"
      },
      "outputs": [
        {
          "data": {
            "text/plain": [
              "True"
            ]
          },
          "execution_count": 14,
          "metadata": {},
          "output_type": "execute_result"
        }
      ],
      "source": [
        "#Contoh untuk output Benar\n",
        "\"Saya suka membaca\".startswith(\"Sa\")"
      ]
    },
    {
      "cell_type": "markdown",
      "metadata": {
        "id": "bNzlcKxQAVP9"
      },
      "source": [
        "### **Menggunakan .endswith()**"
      ]
    },
    {
      "cell_type": "code",
      "execution_count": null,
      "metadata": {
        "id": "eXNxZgBsAZ_7",
        "outputId": "b25e4f8b-9cbc-4d05-b1c9-ddad0ef79978"
      },
      "outputs": [
        {
          "data": {
            "text/plain": [
              "True"
            ]
          },
          "execution_count": 15,
          "metadata": {},
          "output_type": "execute_result"
        }
      ],
      "source": [
        "#Contoh untuk output Benar\n",
        "\"Saya suka membaca\".endswith(\"ca\")"
      ]
    },
    {
      "cell_type": "code",
      "execution_count": null,
      "metadata": {
        "id": "nlYSN76-AdBW",
        "outputId": "4679d696-d75a-4c4d-c2e8-3811bb83a1b1"
      },
      "outputs": [
        {
          "data": {
            "text/plain": [
              "False"
            ]
          },
          "execution_count": 17,
          "metadata": {},
          "output_type": "execute_result"
        }
      ],
      "source": [
        "#Contoh untuk output Salah\n",
        "\"Saya suka membaca\".endswith(\"CA\")"
      ]
    },
    {
      "cell_type": "markdown",
      "metadata": {
        "id": "gTl2osocAnWj"
      },
      "source": [
        "**_Method_ tidak merubah karakter dari sebuah string**"
      ]
    },
    {
      "cell_type": "code",
      "execution_count": null,
      "metadata": {
        "id": "iWdEshwBAyfc"
      },
      "outputs": [],
      "source": [
        "#Method tidak merubah string\n",
        "bilangan = \"Dua\""
      ]
    },
    {
      "cell_type": "code",
      "execution_count": null,
      "metadata": {
        "id": "8L3AhJ0_A38E",
        "outputId": "18ae3197-cd07-4c49-dd54-22c91b4136a7"
      },
      "outputs": [
        {
          "data": {
            "text/plain": [
              "'DUA'"
            ]
          },
          "execution_count": 19,
          "metadata": {},
          "output_type": "execute_result"
        }
      ],
      "source": [
        "bilangan.upper()"
      ]
    },
    {
      "cell_type": "code",
      "execution_count": null,
      "metadata": {
        "id": "BfR9E_ewOyp_",
        "outputId": "cab97926-8a6c-43bc-f698-786c8f17bc44"
      },
      "outputs": [
        {
          "data": {
            "text/plain": [
              "'Dua'"
            ]
          },
          "execution_count": 20,
          "metadata": {},
          "output_type": "execute_result"
        }
      ],
      "source": [
        "bilangan"
      ]
    },
    {
      "cell_type": "markdown",
      "metadata": {
        "id": "NcOJh-mmA4jY"
      },
      "source": [
        "Jika ingin menggunakan hasil dari _string methods_ kita dapat memasukkannya sebagai nilai sebuah variabel"
      ]
    },
    {
      "cell_type": "code",
      "execution_count": null,
      "metadata": {
        "id": "1LnyZpBTBGrX"
      },
      "outputs": [],
      "source": [
        "#Variebel yang berisi string dari string methods\n",
        "bil_new = bilangan.upper()"
      ]
    },
    {
      "cell_type": "code",
      "execution_count": null,
      "metadata": {
        "id": "WWoUBjIfAw1-",
        "outputId": "6c50b951-f81d-44f7-c146-3178728cc8ae"
      },
      "outputs": [
        {
          "data": {
            "text/plain": [
              "'DUA'"
            ]
          },
          "execution_count": 22,
          "metadata": {},
          "output_type": "execute_result"
        }
      ],
      "source": [
        "bil_new"
      ]
    },
    {
      "cell_type": "markdown",
      "metadata": {
        "id": "dmgsZMq8_qVA"
      },
      "source": [
        "Mengeksplorasi _string methods_"
      ]
    },
    {
      "cell_type": "code",
      "execution_count": null,
      "metadata": {
        "id": "lO9M6asDC95M"
      },
      "outputs": [],
      "source": [
        "bilangan."
      ]
    },
    {
      "cell_type": "markdown",
      "metadata": {
        "id": "BL4WSODMC_3O"
      },
      "source": [
        "## **Berinteraksi dengan _User Input_**\n",
        "\n",
        "_**User input**_ adalah masukan data yang bisa Anda minta dari user dengan menggunakan fungsi _**input()**_"
      ]
    },
    {
      "cell_type": "code",
      "execution_count": null,
      "metadata": {
        "id": "9Oz3TYrvfRGW",
        "outputId": "0586756e-638f-4efb-f1da-85769922f397"
      },
      "outputs": [
        {
          "name": "stdout",
          "output_type": "stream",
          "text": [
            "26\n"
          ]
        },
        {
          "data": {
            "text/plain": [
              "'26'"
            ]
          },
          "execution_count": 24,
          "metadata": {},
          "output_type": "execute_result"
        }
      ],
      "source": [
        "input()"
      ]
    },
    {
      "cell_type": "code",
      "execution_count": null,
      "metadata": {
        "id": "NtIM-NbwmDlW",
        "outputId": "78af9f4d-686e-4b94-f8c8-a62d5cae3c81"
      },
      "outputs": [
        {
          "name": "stdout",
          "output_type": "stream",
          "text": [
            "Apa angka favorit Anda?26\n",
            "Angka favorit Anda adalah  26\n"
          ]
        }
      ],
      "source": [
        "#Mengajukan pertanyaan/pernyataan tertentu cara 1\n",
        "Pertanyaan = \"Apa angka favorit Anda?\"\n",
        "User_input = input(Pertanyaan)\n",
        "print(\"Angka favorit Anda adalah \", User_input)"
      ]
    },
    {
      "cell_type": "code",
      "execution_count": null,
      "metadata": {
        "id": "sQ7j3BhqmKpx",
        "outputId": "4b3ebd08-65a7-4761-9d04-e3fac549b7df"
      },
      "outputs": [
        {
          "name": "stdout",
          "output_type": "stream",
          "text": [
            "Apa angka favorit Anda? 26\n",
            "Angka favorit Anda adalah  26\n"
          ]
        }
      ],
      "source": [
        "#Mengajukan pertanyaan/pernyataan tertentu cara 2\n",
        "User_input = input(\"Apa angka favorit Anda? \")\n",
        "print(\"Angka favorit Anda adalah \", User_input)"
      ]
    },
    {
      "cell_type": "markdown",
      "metadata": {
        "id": "rtXTgc1zmfrF"
      },
      "source": [
        "Data yang dihasilkan dari fungsi **input()** selalu dianggap sebagai _string_. "
      ]
    },
    {
      "cell_type": "markdown",
      "metadata": {
        "id": "ok3EEEFFhxDO"
      },
      "source": [
        "## **Strings dan Numbers**"
      ]
    },
    {
      "cell_type": "markdown",
      "metadata": {
        "id": "p5YqxMkxh4in"
      },
      "source": [
        "Pada bagian ini Anda akan belajar bagaimana menangani **_string_ dari Numbers (angka)**. \n",
        "1. Bagaimana operasi aritmatika bekerja pada string?\n",
        "2. Bagaimana mengkonversi antara tipe data _string_ dan _numbers_? "
      ]
    },
    {
      "cell_type": "markdown",
      "metadata": {
        "id": "_qD9Bstxipb-"
      },
      "source": [
        "### **Operasi Aritmatika pada Stirngs**"
      ]
    },
    {
      "cell_type": "code",
      "execution_count": null,
      "metadata": {
        "id": "A4IoQPuGivd6",
        "outputId": "b73388ce-c2f7-4809-b06e-5f5be297d813"
      },
      "outputs": [
        {
          "data": {
            "text/plain": [
              "'AmandaManopo'"
            ]
          },
          "execution_count": 27,
          "metadata": {},
          "output_type": "execute_result"
        }
      ],
      "source": [
        "#Operasi Penjumlahan (+)\n",
        "Nama_depan = \"Amanda\"\n",
        "NAma_belakang = \"Manopo\"\n",
        "Nama_depan + NAma_belakang "
      ]
    },
    {
      "cell_type": "code",
      "execution_count": null,
      "metadata": {
        "id": "CPadvn4_OyqD",
        "outputId": "e567b0f4-d1da-43d2-db8d-94e3bbcaa77c"
      },
      "outputs": [
        {
          "data": {
            "text/plain": [
              "'66'"
            ]
          },
          "execution_count": 29,
          "metadata": {},
          "output_type": "execute_result"
        }
      ],
      "source": [
        "Bil = \"6\"\n",
        "Bil + Bil"
      ]
    },
    {
      "cell_type": "code",
      "execution_count": null,
      "metadata": {
        "id": "5NojTh1hOyqE",
        "outputId": "1707cd5b-2d00-4d5f-a025-ee269cfae89d"
      },
      "outputs": [
        {
          "data": {
            "text/plain": [
              "12"
            ]
          },
          "execution_count": 30,
          "metadata": {},
          "output_type": "execute_result"
        }
      ],
      "source": [
        "Bil1= 6\n",
        "Bil1 + Bil1"
      ]
    },
    {
      "cell_type": "code",
      "execution_count": null,
      "metadata": {
        "id": "gCykARzvi6XK",
        "outputId": "ff1b514d-c831-4224-d56f-f7b0231f36f8"
      },
      "outputs": [
        {
          "data": {
            "text/plain": [
              "'666'"
            ]
          },
          "execution_count": 31,
          "metadata": {},
          "output_type": "execute_result"
        }
      ],
      "source": [
        "#Operasi Perkalian (*) \n",
        "Bil * 3\n",
        "\n",
        "#Ingat, perkalian adalah penjumlahan berulang "
      ]
    },
    {
      "cell_type": "code",
      "execution_count": null,
      "metadata": {
        "id": "IrivoavPj28J",
        "outputId": "290d488b-88b2-44aa-9be0-18ad876c2870"
      },
      "outputs": [
        {
          "data": {
            "text/plain": [
              "'666'"
            ]
          },
          "execution_count": 32,
          "metadata": {},
          "output_type": "execute_result"
        }
      ],
      "source": [
        "3 * Bil"
      ]
    },
    {
      "cell_type": "code",
      "execution_count": null,
      "metadata": {
        "id": "s8tOQsu0j48L",
        "outputId": "ee10f227-644c-4b8e-e6fe-6585f2369f71"
      },
      "outputs": [
        {
          "ename": "TypeError",
          "evalue": "can't multiply sequence by non-int of type 'str'",
          "output_type": "error",
          "traceback": [
            "\u001b[1;31m---------------------------------------------------------------------------\u001b[0m",
            "\u001b[1;31mTypeError\u001b[0m                                 Traceback (most recent call last)",
            "\u001b[1;32m<ipython-input-33-618c5e8d1874>\u001b[0m in \u001b[0;36m<module>\u001b[1;34m\u001b[0m\n\u001b[0;32m      1\u001b[0m \u001b[1;31m#Perkalian dua String\u001b[0m\u001b[1;33m\u001b[0m\u001b[1;33m\u001b[0m\u001b[1;33m\u001b[0m\u001b[0m\n\u001b[1;32m----> 2\u001b[1;33m \u001b[0mBil\u001b[0m \u001b[1;33m*\u001b[0m \u001b[0mBil\u001b[0m\u001b[1;33m\u001b[0m\u001b[1;33m\u001b[0m\u001b[0m\n\u001b[0m",
            "\u001b[1;31mTypeError\u001b[0m: can't multiply sequence by non-int of type 'str'"
          ]
        }
      ],
      "source": [
        "#Perkalian dua String\n",
        "Bil * Bil"
      ]
    },
    {
      "cell_type": "code",
      "execution_count": null,
      "metadata": {
        "id": "A5hpFH-nj8J8",
        "outputId": "0e20161a-b9ea-4743-9925-26391750f562"
      },
      "outputs": [
        {
          "ename": "TypeError",
          "evalue": "can only concatenate str (not \"int\") to str",
          "output_type": "error",
          "traceback": [
            "\u001b[1;31m---------------------------------------------------------------------------\u001b[0m",
            "\u001b[1;31mTypeError\u001b[0m                                 Traceback (most recent call last)",
            "\u001b[1;32m<ipython-input-34-4d5222dd503e>\u001b[0m in \u001b[0;36m<module>\u001b[1;34m\u001b[0m\n\u001b[0;32m      1\u001b[0m \u001b[1;31m#Penjumlahan String dan Numbers\u001b[0m\u001b[1;33m\u001b[0m\u001b[1;33m\u001b[0m\u001b[1;33m\u001b[0m\u001b[0m\n\u001b[1;32m----> 2\u001b[1;33m \u001b[0mBil\u001b[0m \u001b[1;33m+\u001b[0m \u001b[0mBil1\u001b[0m\u001b[1;33m\u001b[0m\u001b[1;33m\u001b[0m\u001b[0m\n\u001b[0m",
            "\u001b[1;31mTypeError\u001b[0m: can only concatenate str (not \"int\") to str"
          ]
        }
      ],
      "source": [
        "#Penjumlahan String dan Numbers\n",
        "Bil + Bil1"
      ]
    },
    {
      "cell_type": "markdown",
      "metadata": {
        "id": "S2oAsjM3kRfF"
      },
      "source": [
        "### **Mengubah Strings menjadi Numbers (Angka)**"
      ]
    },
    {
      "cell_type": "code",
      "execution_count": null,
      "metadata": {
        "id": "xQlLWXVUkY6t",
        "outputId": "d9b76d8f-48b4-48a4-95ec-9f6be54cf683"
      },
      "outputs": [
        {
          "name": "stdout",
          "output_type": "stream",
          "text": [
            "Angka saya adalah: 26\n",
            "262626\n"
          ]
        }
      ],
      "source": [
        "#Input sebuah Angka\n",
        "Bil = input(\"Angka saya adalah: \")\n",
        "triple_bil = 3 * Bil\n",
        "print(triple_bil)"
      ]
    },
    {
      "cell_type": "markdown",
      "metadata": {
        "id": "142H3ZKtlLqT"
      },
      "source": [
        "Untuk melakukan aritmatika pada angka yang terdapat dalam string, Anda harus terlebih dahulu **mengonversinya dari tipe string ke tipe numbers**. \n",
        "\n",
        "Ada dua cara untuk melakukan ini: \n",
        "1. **int()**\n",
        "2. **float()**"
      ]
    },
    {
      "cell_type": "code",
      "execution_count": null,
      "metadata": {
        "id": "zV1BruUOlhAl",
        "outputId": "bb04d922-42bb-40b2-8e9c-447651ae01d8"
      },
      "outputs": [
        {
          "data": {
            "text/plain": [
              "12"
            ]
          },
          "execution_count": 37,
          "metadata": {},
          "output_type": "execute_result"
        }
      ],
      "source": [
        "#Mengubah strings menjadi integer\n",
        "int(\"12\")"
      ]
    },
    {
      "cell_type": "code",
      "execution_count": null,
      "metadata": {
        "id": "ad92ENlwloYG"
      },
      "outputs": [],
      "source": [
        "#Mengubah strings menjadi float"
      ]
    },
    {
      "cell_type": "code",
      "execution_count": null,
      "metadata": {
        "id": "X2iyYrMJOyqJ",
        "outputId": "4e91c6ae-9f7b-4a3a-8599-1d2f97d38562"
      },
      "outputs": [
        {
          "data": {
            "text/plain": [
              "12.0"
            ]
          },
          "execution_count": 38,
          "metadata": {},
          "output_type": "execute_result"
        }
      ],
      "source": [
        "float(\"12.0\")"
      ]
    },
    {
      "cell_type": "code",
      "execution_count": null,
      "metadata": {
        "id": "ZxZYjkaCOyqK",
        "outputId": "f82e17f2-e5c7-4c20-80ed-ec81f31f8df3"
      },
      "outputs": [
        {
          "data": {
            "text/plain": [
              "12.0"
            ]
          },
          "execution_count": 40,
          "metadata": {},
          "output_type": "execute_result"
        }
      ],
      "source": [
        "float(\"12\")"
      ]
    },
    {
      "cell_type": "code",
      "execution_count": null,
      "metadata": {
        "id": "2qH0H31oltk6",
        "outputId": "aec2e7e9-f61b-4a1e-9f44-4d180c8525d9"
      },
      "outputs": [
        {
          "name": "stdout",
          "output_type": "stream",
          "text": [
            "Angka saya adalah: 26\n",
            "78.0\n"
          ]
        }
      ],
      "source": [
        "Bil = input(\"Angka saya adalah: \")\n",
        "triple_bil = float(Bil) * 3\n",
        "print(triple_bil)"
      ]
    },
    {
      "cell_type": "markdown",
      "metadata": {
        "id": "btapO5KAmDn9"
      },
      "source": [
        "### **Mengubah Numbers menjadi Strings**"
      ]
    },
    {
      "cell_type": "code",
      "execution_count": null,
      "metadata": {
        "id": "J2oCl7n0mmYO",
        "outputId": "a001da6a-acb3-4742-e788-10a45e058608"
      },
      "outputs": [
        {
          "ename": "TypeError",
          "evalue": "can only concatenate str (not \"int\") to str",
          "output_type": "error",
          "traceback": [
            "\u001b[1;31m---------------------------------------------------------------------------\u001b[0m",
            "\u001b[1;31mTypeError\u001b[0m                                 Traceback (most recent call last)",
            "\u001b[1;32m<ipython-input-42-2385aff2c63d>\u001b[0m in \u001b[0;36m<module>\u001b[1;34m\u001b[0m\n\u001b[0;32m      1\u001b[0m \u001b[0mjumlah_donat\u001b[0m \u001b[1;33m=\u001b[0m \u001b[1;36m7\u001b[0m\u001b[1;33m\u001b[0m\u001b[1;33m\u001b[0m\u001b[0m\n\u001b[1;32m----> 2\u001b[1;33m \u001b[1;34m\"Saya memesan \"\u001b[0m \u001b[1;33m+\u001b[0m \u001b[0mjumlah_donat\u001b[0m \u001b[1;33m+\u001b[0m \u001b[1;34m\" buah donat\"\u001b[0m\u001b[1;33m\u001b[0m\u001b[1;33m\u001b[0m\u001b[0m\n\u001b[0m",
            "\u001b[1;31mTypeError\u001b[0m: can only concatenate str (not \"int\") to str"
          ]
        }
      ],
      "source": [
        "jumlah_donat = 7\n",
        "\"Saya memesan \" + jumlah_donat + \" buah donat\"\n"
      ]
    },
    {
      "cell_type": "markdown",
      "metadata": {
        "id": "5GeO2AedmqAU"
      },
      "source": [
        "Anda dapat mengubah _numbers_ menjadi _strings_ mennggunakan fungsi **str()**"
      ]
    },
    {
      "cell_type": "code",
      "execution_count": null,
      "metadata": {
        "id": "Hmf8zWSzm5op",
        "outputId": "2bf32d71-d23a-4383-ee08-faed10dee713"
      },
      "outputs": [
        {
          "data": {
            "text/plain": [
              "'Saya memesan 7 buah donat'"
            ]
          },
          "execution_count": 43,
          "metadata": {},
          "output_type": "execute_result"
        }
      ],
      "source": [
        "jumlah_donat = 7\n",
        "\"Saya memesan \" + str(jumlah_donat) + \" buah donat\""
      ]
    },
    {
      "cell_type": "code",
      "execution_count": null,
      "metadata": {
        "id": "fkmxn_QBnSGC",
        "outputId": "bdcf6bad-dd74-465d-e77a-72b41c75fb92"
      },
      "outputs": [
        {
          "data": {
            "text/plain": [
              "'6'"
            ]
          },
          "execution_count": 44,
          "metadata": {},
          "output_type": "execute_result"
        }
      ],
      "source": [
        "#str() pada numbers literal\n",
        "str(6)"
      ]
    },
    {
      "cell_type": "markdown",
      "metadata": {
        "id": "HTM07DNen6Xv"
      },
      "source": [
        "**str()** bahkan dapat menggunakan operasi aritmatika didalamnya."
      ]
    },
    {
      "cell_type": "code",
      "execution_count": null,
      "metadata": {
        "id": "54iwm-ExoSIU",
        "outputId": "c6448569-5473-45d0-d927-e1bba5c93b58"
      },
      "outputs": [
        {
          "data": {
            "text/plain": [
              "'Saya memesan 4 buah donat'"
            ]
          },
          "execution_count": 45,
          "metadata": {},
          "output_type": "execute_result"
        }
      ],
      "source": [
        "#Menggunakan operasi matematika dalam str()\n",
        "Donat1 = 6\n",
        "Donat2 = 2\n",
        "\"Saya memesan \" + str(Donat1 - Donat2) + \" buah donat\"\n"
      ]
    },
    {
      "cell_type": "markdown",
      "metadata": {
        "id": "nzwUL7qto1x-"
      },
      "source": [
        "**str()** tidak terbatas untuk merubah angka, tetapi juga dapat digunakan untuk melihat bentuk string dari berbagai tipe data"
      ]
    },
    {
      "cell_type": "code",
      "execution_count": null,
      "metadata": {
        "id": "80RZpyq4OyqP",
        "outputId": "54ab6cff-0795-45aa-ac2b-4252c5814456"
      },
      "outputs": [
        {
          "data": {
            "text/plain": [
              "'<built-in function print>'"
            ]
          },
          "execution_count": 46,
          "metadata": {},
          "output_type": "execute_result"
        }
      ],
      "source": [
        "str(print)"
      ]
    },
    {
      "cell_type": "markdown",
      "metadata": {
        "id": "U-01el1UpEfe"
      },
      "source": [
        "## **Streamline Your Print Statements**\n"
      ]
    },
    {
      "cell_type": "markdown",
      "metadata": {
        "id": "JoavT9VSz4xr"
      },
      "source": [
        "Jika Kita mempunyai _string_ nama_pelanggan = Zoro dan dua integers kopi = 2 dan donat = 6, maka untuk menampilkan Output:\n",
        "\n",
        "\"**Zoro memesan 2 kopi dan 6 donat**\"\n",
        "\n",
        "dengan menggunakan str() Kita dapat melakukannya dengan dua cara"
      ]
    },
    {
      "cell_type": "code",
      "execution_count": null,
      "metadata": {
        "id": "VoXXH-j_0vbb",
        "outputId": "986c74c7-345e-40cf-a5f2-6a3be40e7349"
      },
      "outputs": [
        {
          "name": "stdout",
          "output_type": "stream",
          "text": [
            "Zoro memesan 2 kopi dan 6 donat\n"
          ]
        }
      ],
      "source": [
        "#Cara 1\n",
        "nama_pelanggan = \"Zoro\"\n",
        "kopi = 2\n",
        "donat = 6\n",
        "print(nama_pelanggan, \"memesan\", str(kopi), \"kopi dan\", str(donat), \"donat\")"
      ]
    },
    {
      "cell_type": "code",
      "execution_count": null,
      "metadata": {
        "id": "bhIE6vfU16aW",
        "outputId": "ec9d0f3c-3084-4f06-f163-115c8f7e43be"
      },
      "outputs": [
        {
          "name": "stdout",
          "output_type": "stream",
          "text": [
            "Zoro memesan 2 kopi dan 6 donat \n"
          ]
        }
      ],
      "source": [
        "#Cara 2\n",
        "nama_pelanggan = \"Zoro\"\n",
        "kopi = 2\n",
        "donat = 6\n",
        "print(nama_pelanggan + \" memesan \" + str(kopi) + \" kopi dan \" + str(donat) + \" donat \")"
      ]
    },
    {
      "cell_type": "markdown",
      "metadata": {
        "id": "sBuMyv6a2Pwq"
      },
      "source": [
        "### **Formatted string literals ATAU _f-strings_**\n",
        "\n",
        "Formula: \n",
        "**f\"karakter {variabel1} karakter {variabel2} karakter dst ...\"**\n",
        "\n",
        "Cat: Posisi **karakter** dan **variabel** random/acak"
      ]
    },
    {
      "cell_type": "code",
      "execution_count": null,
      "metadata": {
        "id": "2LbTsdnF2194",
        "outputId": "5b837ad5-7175-4d2e-e38c-946128d4b837"
      },
      "outputs": [
        {
          "data": {
            "text/plain": [
              "'Zoro memesan 2 kopi dan 6 donat'"
            ]
          },
          "execution_count": 49,
          "metadata": {},
          "output_type": "execute_result"
        }
      ],
      "source": [
        "nama_pelanggan = \"Zoro\"\n",
        "kopi = 2\n",
        "donat = 6\n",
        "f\"{nama_pelanggan} memesan {kopi} kopi dan {donat} donat\"\n"
      ]
    },
    {
      "cell_type": "markdown",
      "metadata": {
        "id": "sXHY8pNt2450"
      },
      "source": [
        "1. _Strings literal_ diawali dengan huruf **f** sebelum tanda petik buka.\n",
        "2. Nama variabel diletakkan didalam kurung kurawal { } tanpa menggunakan str()\n",
        "\n",
        "Kita juga dapat memasukan ekspresi python dalam tanda { } pada f-strings"
      ]
    },
    {
      "cell_type": "code",
      "execution_count": null,
      "metadata": {
        "id": "vLF2_sIJ417I",
        "outputId": "ed87d232-a3d0-4ca1-fd96-1ea559baffd3"
      },
      "outputs": [
        {
          "data": {
            "text/plain": [
              "'Hasil kali dari 4 dan 5 adalah 20'"
            ]
          },
          "execution_count": 50,
          "metadata": {},
          "output_type": "execute_result"
        }
      ],
      "source": [
        "#Menyatakan 4 kali 5\n",
        "x = 4\n",
        "y = 5\n",
        "f\"Hasil kali dari {x} dan {y} adalah {x*y}\""
      ]
    },
    {
      "cell_type": "markdown",
      "metadata": {
        "id": "LfgRinau5U8j"
      },
      "source": [
        "### **Menggunakan .format()**"
      ]
    },
    {
      "cell_type": "code",
      "execution_count": null,
      "metadata": {
        "id": "bXgXYgDH52aq",
        "outputId": "a19db963-65aa-491e-9e38-90acf00dafb1"
      },
      "outputs": [
        {
          "name": "stdout",
          "output_type": "stream",
          "text": [
            "Zoro memesan 2 kopi dan 6 donat\n"
          ]
        }
      ],
      "source": [
        "print(\"{} memesan {} kopi dan {} donat\".format(nama_pelanggan, kopi, donat))"
      ]
    },
    {
      "cell_type": "markdown",
      "metadata": {
        "id": "bmzamds36NMx"
      },
      "source": [
        "_**f-strings**_ umumnya lebih pendek dan lebih mudah dibaca dibandingkan dengan _**.format()**_"
      ]
    },
    {
      "cell_type": "markdown",
      "metadata": {
        "id": "B30gGdsv6oF3"
      },
      "source": [
        "### **Menggunakan %**"
      ]
    },
    {
      "cell_type": "code",
      "execution_count": null,
      "metadata": {
        "id": "nrhdPjee6wHn",
        "outputId": "4d2fc7e1-dd03-4438-e6e9-0b18034e5ba0"
      },
      "outputs": [
        {
          "name": "stdout",
          "output_type": "stream",
          "text": [
            "Zoro memesan 2 kopi dan 6 donat\n"
          ]
        }
      ],
      "source": [
        "Nama = \"Amin\"\n",
        "Usia = 26\n",
        "print(\"%s memesan %d kopi dan %d donat\" % (nama_pelanggan, kopi, donat))"
      ]
    },
    {
      "cell_type": "markdown",
      "metadata": {
        "id": "CKt-ttnL6wdu"
      },
      "source": [
        "## **Menemukan sebuah String dalam sebuah String**"
      ]
    },
    {
      "cell_type": "markdown",
      "metadata": {
        "id": "KMatjN4H6627"
      },
      "source": [
        "Kita dapat menemukan sebuah **string tertentu** atau _**substring**_ pada sebuah string dengan menggunakan _method_ **.find()**"
      ]
    },
    {
      "cell_type": "code",
      "execution_count": null,
      "metadata": {
        "id": "ds5B7rOd7rzn",
        "outputId": "c6c5f89b-56f9-442d-a6e7-a4bc30c237eb"
      },
      "outputs": [
        {
          "data": {
            "text/plain": [
              "0"
            ]
          },
          "execution_count": 58,
          "metadata": {},
          "output_type": "execute_result"
        }
      ],
      "source": [
        "#Menemukan string tertentu pada sebuah kalimat\n",
        "Kalimat = \"Saya baru mulai mempelajari python\"\n",
        "Kalimat.find(\"Saya\")\n"
      ]
    },
    {
      "cell_type": "markdown",
      "metadata": {
        "id": "giNPJaD1747-"
      },
      "source": [
        "Output dari _.find()_ merupakan index dari karakter pertama pada substring yang ingin kita lacak. \n",
        "\n",
        "Jika Output dari _.find()_ adalah **-1**, artinya adalah substring yang kamu lacak tidak berada pada string yang dimaksud."
      ]
    },
    {
      "cell_type": "code",
      "execution_count": null,
      "metadata": {
        "id": "bjTfzrqs8tZV",
        "outputId": "49705569-f424-4e85-f50d-e4137f0a6298"
      },
      "outputs": [
        {
          "data": {
            "text/plain": [
              "-1"
            ]
          },
          "execution_count": 59,
          "metadata": {},
          "output_type": "execute_result"
        }
      ],
      "source": [
        "#Output substring tidak ada\n",
        "Kalimat.find(\"Aku\")"
      ]
    },
    {
      "cell_type": "code",
      "execution_count": null,
      "metadata": {
        "id": "ng7OZrji81-B",
        "outputId": "89d00781-afcd-49bd-ebe9-5ec62f2d4f5a"
      },
      "outputs": [
        {
          "data": {
            "text/plain": [
              "-1"
            ]
          },
          "execution_count": 60,
          "metadata": {},
          "output_type": "execute_result"
        }
      ],
      "source": [
        "#Output substring tidak ada karena case sensitive\n",
        "Kalimat.find(\"SAYA\")"
      ]
    },
    {
      "cell_type": "markdown",
      "metadata": {
        "id": "MkrKwRaW88Gs"
      },
      "source": [
        "Jika terdapat dua atau lebih substring yang identik, maka _.find()_ hanya akan menampilkan index dari substring pertama yang muncul."
      ]
    },
    {
      "cell_type": "code",
      "execution_count": null,
      "metadata": {
        "id": "I_pud4z_9TjB",
        "outputId": "78a7c670-893a-4330-eff0-4cc0d8eb93e7"
      },
      "outputs": [
        {
          "data": {
            "text/plain": [
              "23"
            ]
          },
          "execution_count": 61,
          "metadata": {},
          "output_type": "execute_result"
        }
      ],
      "source": [
        "#substring muncul lebih dari satu kali\n",
        "Kalimat2 = \"Saya suka membaca buku fiksi dan non fiksi\"\n",
        "Kalimat2.find(\"fiksi\")\n",
        "\n"
      ]
    },
    {
      "cell_type": "markdown",
      "metadata": {
        "id": "ggnnB0yx9lxm"
      },
      "source": [
        "Jika kita ingin melacak Angka dalam string, maka kita harus menganggap Angka tersebut sebagai string"
      ]
    },
    {
      "cell_type": "code",
      "execution_count": null,
      "metadata": {
        "id": "Ji6rLgpW95Cf",
        "outputId": "052cf41c-2a33-4580-d663-1d56a939e41b"
      },
      "outputs": [
        {
          "data": {
            "text/plain": [
              "26"
            ]
          },
          "execution_count": 63,
          "metadata": {},
          "output_type": "execute_result"
        }
      ],
      "source": [
        "#substring adalah angka\n",
        "\"Angka favorit saya adalah 28\".find(\"28\")\n",
        "\n"
      ]
    },
    {
      "cell_type": "markdown",
      "metadata": {
        "id": "VjaK8aLq-Sqg"
      },
      "source": [
        "### **Mengganti substring tertentu menggunakan .replace()**"
      ]
    },
    {
      "cell_type": "code",
      "execution_count": null,
      "metadata": {
        "id": "g3hZDsIm98ba",
        "outputId": "e672abeb-c6bd-4c53-b3c1-7312632aaaec"
      },
      "outputs": [
        {
          "data": {
            "text/plain": [
              "'Saya hanya memberitahumu kebohongan; tidak ada yang lain selain kebohongan!'"
            ]
          },
          "execution_count": 64,
          "metadata": {},
          "output_type": "execute_result"
        }
      ],
      "source": [
        "my_story = \"Saya hanya memberitahumu kebenaran; tidak ada yang lain selain kebenaran!\"\n",
        "my_story.replace(\"kebenaran\", \"kebohongan\")"
      ]
    },
    {
      "cell_type": "markdown",
      "metadata": {
        "id": "N3QqPgN0_lzJ"
      },
      "source": [
        ".replace() **tidak** merubah string awal karena string tidak dapat dirubah (_immutable_)\n",
        "\n",
        "Tetapi, kita dapat menyimpan perubahannya dalam variabel baru."
      ]
    },
    {
      "cell_type": "code",
      "execution_count": null,
      "metadata": {
        "id": "jxBt4PDmALCv",
        "outputId": "65e43d0e-9d3b-4ae0-e128-b78303f1c1e7"
      },
      "outputs": [
        {
          "data": {
            "text/plain": [
              "'Saya hanya memberitahumu kebenaran; tidak ada yang lain selain kebenaran!'"
            ]
          },
          "execution_count": 65,
          "metadata": {},
          "output_type": "execute_result"
        }
      ],
      "source": [
        "my_story"
      ]
    },
    {
      "cell_type": "code",
      "execution_count": null,
      "metadata": {
        "id": "u2sR2dYz_3-g",
        "outputId": "76f59521-7152-4250-b675-34fa056f270d"
      },
      "outputs": [
        {
          "data": {
            "text/plain": [
              "'Saya hanya memberitahumu kebohongan; tidak ada yang lain selain kebohongan!'"
            ]
          },
          "execution_count": 66,
          "metadata": {},
          "output_type": "execute_result"
        }
      ],
      "source": [
        "#Memasukkan pada variabel baru\n",
        "my_story = \"Saya hanya memberitahumu kebenaran; tidak ada yang lain selain kebenaran!\"\n",
        "new_story = my_story.replace(\"kebenaran\", \"kebohongan\")\n",
        "new_story\n"
      ]
    },
    {
      "cell_type": "markdown",
      "metadata": {
        "id": "1_t7aDe3AYF7"
      },
      "source": [
        "**Cat**: .replace() hanya dapat digunakan untuk satu substring"
      ]
    }
  ],
  "metadata": {
    "accelerator": "GPU",
    "colab": {
      "collapsed_sections": [],
      "name": "Strings.ipynb",
      "provenance": [],
      "include_colab_link": true
    },
    "kernelspec": {
      "display_name": "Python 3",
      "language": "python",
      "name": "python3"
    },
    "language_info": {
      "codemirror_mode": {
        "name": "ipython",
        "version": 3
      },
      "file_extension": ".py",
      "mimetype": "text/x-python",
      "name": "python",
      "nbconvert_exporter": "python",
      "pygments_lexer": "ipython3",
      "version": "3.7.3"
    }
  },
  "nbformat": 4,
  "nbformat_minor": 0
}
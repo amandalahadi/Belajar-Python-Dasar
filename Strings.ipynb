{
  "nbformat": 4,
  "nbformat_minor": 0,
  "metadata": {
    "colab": {
      "name": "Strings.ipynb",
      "private_outputs": true,
      "provenance": [],
      "collapsed_sections": [],
      "authorship_tag": "ABX9TyOSAAUSVQAW6ibQjV6Dz9n7",
      "include_colab_link": true
    },
    "kernelspec": {
      "name": "python3",
      "display_name": "Python 3"
    },
    "language_info": {
      "name": "python"
    }
  },
  "cells": [
    {
      "cell_type": "markdown",
      "metadata": {
        "id": "view-in-github",
        "colab_type": "text"
      },
      "source": [
        "<a href=\"https://colab.research.google.com/github/amandalahadi/Belajar-Python-Dasar/blob/main/Strings.ipynb\" target=\"_parent\"><img src=\"https://colab.research.google.com/assets/colab-badge.svg\" alt=\"Open In Colab\"/></a>"
      ]
    },
    {
      "cell_type": "markdown",
      "metadata": {
        "id": "eDdnL4HBmuLJ"
      },
      "source": [
        "#**STRINGS**"
      ]
    },
    {
      "cell_type": "markdown",
      "metadata": {
        "id": "VBsP3YgomzbV"
      },
      "source": [
        "Strings adalah salah satu tipe data fundamental. Disebut **fundamental** karena tipe data ini tidak bisa disederhanakan lagi menjadi nilai yang lebih kecil atau tipe data lain.\n",
        "\n",
        "Tipe data yang merupakan gabungan dari beberapa tipe data dikenal dengan istilah **struktur data** atau **data structures**"
      ]
    },
    {
      "cell_type": "code",
      "metadata": {
        "id": "D8A0QqcWoFxm"
      },
      "source": [
        "type(\"Amanda\")"
      ],
      "execution_count": null,
      "outputs": []
    },
    {
      "cell_type": "markdown",
      "metadata": {
        "id": "dat7P7XFo_U-"
      },
      "source": [
        "fungsi **type()** juga dapat digunakan untuk menentukan tipe data dari sebuah variabel"
      ]
    },
    {
      "cell_type": "code",
      "metadata": {
        "id": "2fKoCQVhIfN1"
      },
      "source": [
        "buah = \"Apel\"\n",
        "type(buah)"
      ],
      "execution_count": null,
      "outputs": []
    },
    {
      "cell_type": "code",
      "metadata": {
        "id": "efa0bWJAJs6b"
      },
      "source": [
        "print(type(buah))"
      ],
      "execution_count": null,
      "outputs": []
    },
    {
      "cell_type": "markdown",
      "metadata": {
        "id": "yUjPYaI_pUz9"
      },
      "source": [
        "Output <class 'str'> menunjukkan bahwa \"Apel\" adalah contoh dari tipe data **str** atau **strings**"
      ]
    },
    {
      "cell_type": "markdown",
      "metadata": {
        "id": "UN9NuncDqTX5"
      },
      "source": [
        "String memiliki tiga properti yang akan kita bahas selanjutnya:\n",
        "1. String berisi karakter (*character*), yang merupakan huruf atau simbol individual.\n",
        "2. String memiliki panjang (*length*), yang merupakan jumlah karakter\n",
        "terkandung dalam string.\n",
        "3. Karakter dalam sebuah string muncul secara berurutan, artinya setiap karakter memiliki posisi bernomor dalam string tersebut."
      ]
    },
    {
      "cell_type": "markdown",
      "metadata": {
        "id": "os7ecRXlvnx7"
      },
      "source": [
        "##**STRINGS LITERALS**\n",
        "\n",
        "Setiap kali Anda membuat string dengan mengelilingi teks dengan tanda kutip, string ini disebut _**string literal**_. Nama ini menunjukkan bahwa string secara **harfiah** ditulis dalam kode Anda.\n",
        "\n",
        "Contoh string yang tidak secarah harfiah tertulis dalam kode adalah string yang berasal dari *user input* \n",
        "\n"
      ]
    },
    {
      "cell_type": "code",
      "metadata": {
        "id": "t2U8HVIAxDT3"
      },
      "source": [
        "string1 = \"Saya suka membaca buku\"\n",
        "string2 = 'buku favorit saya adalah Game of Thrones'"
      ],
      "execution_count": null,
      "outputs": []
    },
    {
      "cell_type": "code",
      "metadata": {
        "id": "1Z_1TncNCldD"
      },
      "source": [
        "print(string1)\n",
        "print(string2)"
      ],
      "execution_count": null,
      "outputs": []
    },
    {
      "cell_type": "code",
      "metadata": {
        "id": "FH-xIuOEydSx"
      },
      "source": [
        "nama_Anda = input()"
      ],
      "execution_count": null,
      "outputs": []
    },
    {
      "cell_type": "code",
      "metadata": {
        "id": "1tTvIiFSCXLD"
      },
      "source": [
        "print(type(nama_Anda))"
      ],
      "execution_count": null,
      "outputs": []
    },
    {
      "cell_type": "markdown",
      "metadata": {
        "id": "m9HlcTv2w4-W"
      },
      "source": [
        "###Delimiters\n",
        "\n",
        "Tanda kutip yang digunakan saat menuliskan strings disebut **delimiters**, karena tanda ini memberitahu python dimana sebuah string mulai dan berakhir.\n",
        "\n",
        "Ketika kamu menggunakan salah satu tanda kutip sebagai delimiter, Anda dapat menggunakan tanda lainnya di dalam string "
      ]
    },
    {
      "cell_type": "code",
      "metadata": {
        "id": "4lpCP2-PyGmt"
      },
      "source": [
        "string3 = \"Saya menyukai ungkapan 'Membaca adalah jendela dunia!'\"\n",
        "string4 = 'Saya tidak suka ketika dia memanggil dengan sebutan,\"Say\"'"
      ],
      "execution_count": null,
      "outputs": []
    },
    {
      "cell_type": "code",
      "metadata": {
        "id": "wWHZzSotyyiF"
      },
      "source": [
        "print(string3)\n",
        "print(string4)"
      ],
      "execution_count": null,
      "outputs": []
    },
    {
      "cell_type": "code",
      "metadata": {
        "id": "iMMqyAuj4HNR"
      },
      "source": [
        "string5 = \"Dia berkata, \"Hallo, Apa kabar?\"\""
      ],
      "execution_count": null,
      "outputs": []
    },
    {
      "cell_type": "code",
      "metadata": {
        "id": "-DSwS9ur4Pqk"
      },
      "source": [
        "string6 = \"We're #1!\"\n",
        "string7 = \"×Pýŧħøŋ×\""
      ],
      "execution_count": null,
      "outputs": []
    },
    {
      "cell_type": "code",
      "metadata": {
        "id": "ttGk-PIcC6lL"
      },
      "source": [
        "string6"
      ],
      "execution_count": null,
      "outputs": []
    },
    {
      "cell_type": "code",
      "metadata": {
        "id": "YmBsD4L9MT1_"
      },
      "source": [
        "string7"
      ],
      "execution_count": null,
      "outputs": []
    },
    {
      "cell_type": "markdown",
      "metadata": {
        "id": "qx1Aa4CC4oJJ"
      },
      "source": [
        "##**MENENTUKAN PANJANG (*LENGTH*) SEBUAH STRING**\n",
        "\n",
        "Jumlah karakter yang terdapat dalam sebuah string, **termasuk spasi**, disebut **panjang string** atau **LENGTH**\n",
        "\n",
        "Contoh:\n",
        "\"saya\" --> memiliki panjang 4\n",
        "\n",
        "\"saya 123\" --> memiliki panjang 8\n",
        "\n",
        "Panjang sebuah string dapat kita lihat menggunakan fungsi **_len()_**"
      ]
    },
    {
      "cell_type": "code",
      "metadata": {
        "id": "WhYPh_lt5-xx"
      },
      "source": [
        "len(\"saya\")"
      ],
      "execution_count": null,
      "outputs": []
    },
    {
      "cell_type": "code",
      "metadata": {
        "id": "5CoR9giYM1RT"
      },
      "source": [
        "len(\"saya 123\")"
      ],
      "execution_count": null,
      "outputs": []
    },
    {
      "cell_type": "markdown",
      "metadata": {
        "id": "bMbd610A6H0b"
      },
      "source": [
        "Kita juga dapat mengugunakan len() untuk menentukan panjang string yang dimasukkan kedalam sebuah variabel"
      ]
    },
    {
      "cell_type": "code",
      "metadata": {
        "id": "I6S6pkC26V68"
      },
      "source": [
        "len(string3)"
      ],
      "execution_count": null,
      "outputs": []
    },
    {
      "cell_type": "markdown",
      "metadata": {
        "id": "rxDlYCzJ6WgK"
      },
      "source": [
        "##**Multiline STRING**\n",
        "\n",
        "Misalnya Anda akan menuliskan sebuah paragraf:\n",
        "\n",
        "*“This planet has—or rather had—a problem, which was\n",
        "this: most of the people living on it were unhappy for\n",
        "pretty much of the time. Many solutions were suggested\n",
        "for this problem, but most of these were largely concerned with the movements of small green pieces of\n",
        "paper, which is odd because on the whole it wasn’t the\n",
        "small green pieces of paper that were unhappy.”\n",
        "— Douglas Adams, The Hitchhiker’s Guide to the Galaxy*\n",
        "\n",
        "\n",
        "\n"
      ]
    },
    {
      "cell_type": "markdown",
      "metadata": {
        "id": "qecVp1Hpt8NY"
      },
      "source": [
        "**PEP 8** style merekomendasikan baris kode dalam python tidak boleh lebih dari 79 karakter."
      ]
    },
    {
      "cell_type": "markdown",
      "metadata": {
        "id": "6XN66xlVuXlV"
      },
      "source": [
        "###**Multiline** Menggunakan *Backslah* \" \\ \"\n",
        "\n",
        "Cara ini dilakukan dengan menambahkan \" \\ \" pada setiap akhir baris/line, tetapi bukan pada akhir paragraf."
      ]
    },
    {
      "cell_type": "code",
      "metadata": {
        "id": "5_OQSqbevDtH"
      },
      "source": [
        "paragraf = \"This planet has - or rather had - a problem, which was \\\n",
        "this: most of the people living on it were unhappy for pretty much \\\n",
        "of the time. Many solutions were suggested for this problem, but \\\n",
        "most of these were largely concerned with the movements of small \\\n",
        "green pieces of paper, which is odd because on the whole it wasn't \\\n",
        "the small green pieces of paper that were unhappy.\""
      ],
      "execution_count": null,
      "outputs": []
    },
    {
      "cell_type": "code",
      "metadata": {
        "id": "Jgka5yC_vfe5"
      },
      "source": [
        "print(paragraf)"
      ],
      "execution_count": null,
      "outputs": []
    },
    {
      "cell_type": "code",
      "metadata": {
        "id": "xELYdvz7N7cF"
      },
      "source": [
        ""
      ],
      "execution_count": null,
      "outputs": []
    },
    {
      "cell_type": "markdown",
      "metadata": {
        "id": "B7z6fZ22vghZ"
      },
      "source": [
        "Ketika kita print() **multiline** strings yang penulisannya menggunakan **_backslash_**, python akan memberikan outputnya dalam satu baris"
      ]
    },
    {
      "cell_type": "markdown",
      "metadata": {
        "id": "vON2xxHevxmg"
      },
      "source": [
        "###**Multiline** Menggunakan tanda petik triple \"\"\" atau '''\n"
      ]
    },
    {
      "cell_type": "code",
      "metadata": {
        "id": "z7p1fYkGwgtd"
      },
      "source": [
        "paragraf = \"\"\"This planet has - or rather had - a problem, which was\n",
        "this: most of the people living on it were unhappy for pretty much\n",
        "of the time. Many solutions were suggested for this problem, but\n",
        "most of these were largely concerned with the movements of small\n",
        "green pieces of paper, which is odd because on the whole it wasn't\n",
        "the small green pieces of paper that were unhappy.\"\"\""
      ],
      "execution_count": null,
      "outputs": []
    },
    {
      "cell_type": "code",
      "metadata": {
        "id": "aldiZ77Bwi30"
      },
      "source": [
        "print(paragraf)"
      ],
      "execution_count": null,
      "outputs": []
    },
    {
      "cell_type": "markdown",
      "metadata": {
        "id": "rkuhuFRlw1pH"
      },
      "source": [
        "Strings yang menggunakan tanda petik triple memperhitungkan *whitespace*. Contoh di atas menunjukan hasil print() yang sama persis dengan penulisan string literal nya, termasuk disini setiap baris baru. Pada suatu kondisi, Anda mungkin tidak menginginkan penulisan string yang seperti ini. **JADI** pikirkan model yang ingin Anda gunakan ketika akan menuliskan *multiline* strings."
      ]
    },
    {
      "cell_type": "code",
      "metadata": {
        "id": "reSu1ze1w2ur"
      },
      "source": [
        "print(\"\"\"Contoh dari \n",
        "              string yang dituliskan dalam multiple lines\n",
        "   dan menggunakan 'whitespace'.\"\"\")"
      ],
      "execution_count": null,
      "outputs": []
    },
    {
      "cell_type": "markdown",
      "metadata": {
        "id": "jxLidV-qyMG1"
      },
      "source": [
        "String yang menggunakan tanda petik triple memiliki tujuan khusus dalam Python. Mereka digunakan untuk mendokumentasikan kode. Anda akan sering menemukannya di bagian atas .py dengan deskripsi tujuan kode. Mereka juga digunakan untuk mendokumentasikan fungsi kustom. Ketika digunakan untuk mendokumentasikan kode, string yang dikutip tiga kali disebut **_docstrings_**."
      ]
    },
    {
      "cell_type": "markdown",
      "metadata": {
        "id": "WP3sPOGZyUYz"
      },
      "source": [
        "#**CONCATENATION, INDEXING, dan SLICING**\n",
        "\n",
        "1. **Concatenation** --> menggabungkan dua strings \n",
        "2. **Indexing** --> menentukan sebuah karakter tunggal dari string\n",
        "3. **Slicing** --> mengambil beberapa karakter sekaligus dari sebuah string"
      ]
    },
    {
      "cell_type": "markdown",
      "metadata": {
        "id": "R7OZnW1jylov"
      },
      "source": [
        "##**STRING CONCATENATION**\n",
        "\n",
        "Untuk menggabungkan atau merangkai (*concenate*) dua string, Anda dapat menggunakan operator \"+\"\n"
      ]
    },
    {
      "cell_type": "code",
      "metadata": {
        "id": "8qjQ2domz_Gs"
      },
      "source": [
        "#Merangkai tanpa whitespice\n",
        "kata1 = \"Saya suka\"\n",
        "kata2 = \"membaca\"\n",
        "Hobiku = kata1 + kata2\n",
        "print(Hobiku)\n"
      ],
      "execution_count": null,
      "outputs": []
    },
    {
      "cell_type": "code",
      "metadata": {
        "id": "hV1y3Lrj0bto"
      },
      "source": [
        "#Menambahkan whitespice dalam rangkaian\n",
        "nama_depan = \"Amanda\"\n",
        "nama_belakang = \"La Hadi\"\n",
        "Nama_lengkap = nama_depan + \" \" + nama_belakang\n",
        "print(Nama_lengkap)"
      ],
      "execution_count": null,
      "outputs": []
    },
    {
      "cell_type": "code",
      "metadata": {
        "id": "R3tU6ueF4AyK"
      },
      "source": [
        "nama_depan = \"Amanda \"\n",
        "nama_belakang = \"La Hadi\"\n",
        "Nama_lengkap = nama_depan + nama_belakang\n",
        "print(Nama_lengkap)"
      ],
      "execution_count": null,
      "outputs": []
    },
    {
      "cell_type": "markdown",
      "metadata": {
        "id": "SXihx9744ILT"
      },
      "source": [
        "##**STRING INDEXING**\n",
        "\n",
        "Setiap karakter pada sebuah string memiliki posisi yang disebut index. Posisi ini dtuliskan dalam bentuk angka terurut. Anda dapat mengakses karakter ke-n dengan memasukan nilai n kedalam kurung siku ([ dan ]) langsung setelah string tersebut.\n",
        "\n"
      ]
    },
    {
      "cell_type": "code",
      "metadata": {
        "id": "VziGzuacTH7q"
      },
      "source": [
        "\"amanda\"[2]"
      ],
      "execution_count": null,
      "outputs": []
    },
    {
      "cell_type": "code",
      "metadata": {
        "id": "dLaMHqil5EVH"
      },
      "source": [
        "kueku = \"kue bolu\""
      ],
      "execution_count": null,
      "outputs": []
    },
    {
      "cell_type": "code",
      "metadata": {
        "id": "3yu8yiHUTJHR"
      },
      "source": [
        "kueku[1]"
      ],
      "execution_count": null,
      "outputs": []
    },
    {
      "cell_type": "code",
      "metadata": {
        "id": "q_HP0EKK5XY3"
      },
      "source": [
        "kueku[0]"
      ],
      "execution_count": null,
      "outputs": []
    },
    {
      "cell_type": "markdown",
      "metadata": {
        "id": "pxm6r-wq5X74"
      },
      "source": [
        "**PENTING**: dalam python, hitungan selalu dimulai dari **0** !!!"
      ]
    },
    {
      "cell_type": "code",
      "metadata": {
        "id": "613gM8Ij6EMG"
      },
      "source": [
        "#Panjang kueku adalah 8\n",
        "len(kueku)"
      ],
      "execution_count": null,
      "outputs": []
    },
    {
      "cell_type": "markdown",
      "metadata": {
        "id": "CAWLxisEFUeE"
      },
      "source": [
        "kue bolu\n",
        "\n",
        "01234567"
      ]
    },
    {
      "cell_type": "markdown",
      "metadata": {
        "id": "gdtM19fv5tl0"
      },
      "source": [
        "###**Index negatif**\n",
        "\n",
        "Index negatif dimulai dari angka -1 dan menentukan posisi karakter mulai dari sebelah kanan."
      ]
    },
    {
      "cell_type": "code",
      "metadata": {
        "id": "KYAUOi5r5xgt"
      },
      "source": [
        "kueku[-1]"
      ],
      "execution_count": null,
      "outputs": []
    },
    {
      "cell_type": "code",
      "metadata": {
        "id": "hVb2Poaa5_VO"
      },
      "source": [
        "kueku[-3]"
      ],
      "execution_count": null,
      "outputs": []
    },
    {
      "cell_type": "markdown",
      "metadata": {
        "id": "WA8Rkfhl9k-R"
      },
      "source": [
        "Index negatif tanpak tidak berguna, tetapi terkadang bisa menjadi pilihan yang lebih baik dibandingkan index positif.\n",
        "\n",
        "Contoh: Anda ingin menentukan karakter terakhir dari input string yang diberikan user, dari mana Anda mengetahui panjang string nya untuk menentukan karakter terakhir??\n"
      ]
    },
    {
      "cell_type": "code",
      "metadata": {
        "id": "cYGx0Yy--m_-"
      },
      "source": [
        "kata_saya = input()\n",
        "final_index = len(kata_saya) - 1\n",
        "huruf_terakhir = kata_saya[final_index]\n",
        "print(huruf_terakhir)"
      ],
      "execution_count": null,
      "outputs": []
    },
    {
      "cell_type": "code",
      "metadata": {
        "id": "T9puW7CC_QM3"
      },
      "source": [
        "kata_Anda = input()\n",
        "huruf_terakhir2 = kata_Anda[-1]\n",
        "print(huruf_terakhir2)"
      ],
      "execution_count": null,
      "outputs": []
    },
    {
      "cell_type": "markdown",
      "metadata": {
        "id": "k-QhwlVB_oDh"
      },
      "source": [
        "##**STRING SLICING**\n",
        "\n",
        "Andaikan Anda membutukan string yang hanya memuat 3 huruf pertama dari string \"kue bolu\". Anda dapat mengakses setiap karakter menggunakan index, lalu merangkai nya."
      ]
    },
    {
      "cell_type": "code",
      "metadata": {
        "id": "3EfUbBF0AO1G"
      },
      "source": [
        "tiga_huruf_pertama = kueku[0] + kueku[1] + kueku[2]"
      ],
      "execution_count": null,
      "outputs": []
    },
    {
      "cell_type": "code",
      "metadata": {
        "id": "O2fMS-oTAaBU"
      },
      "source": [
        "print(tiga_huruf_pertama)"
      ],
      "execution_count": null,
      "outputs": []
    },
    {
      "cell_type": "markdown",
      "metadata": {
        "id": "otFsEr2NAa-z"
      },
      "source": [
        "Anda dapat mengambil beberapa bagian dari string, disebut **_substring_**, dengan memasukan tanda \":\" diantara dua index pada kurung siku, seperti:\n"
      ]
    },
    {
      "cell_type": "code",
      "metadata": {
        "id": "41BEopfiA0as"
      },
      "source": [
        "kueku[0:3] #karakter dari index 0 sampai index ke 3-1"
      ],
      "execution_count": null,
      "outputs": []
    },
    {
      "cell_type": "markdown",
      "metadata": {
        "id": "l4yYYNJJJuR-"
      },
      "source": [
        "kueku[0:3] mengembalikan tiga karakter pertama dari string yang ditetapkan untuk variabel **kueku**, dimulai dengan karakter dengan indeks 0 dan seterusnya, **tapi tidak termasuk karakter dengan indeks 3**. Bagian [0:3] dari kueku[0:3] adalah disebut **_slicing_** atau **irisan**. Dalam hal ini, python memberikan output sepotong \"kue bolu\". \n",
        "\n",
        "##Slicing [x:y]\n",
        "**substring mulai dari index ke x sampai index ke y-1 (atau index sebelum y)**\n",
        "\n",
        "[0:2] --> substring index ke 0 sampai 1\n",
        "[3:9] --> substring index ke 3 sampai 8\n",
        "[-8:-4] --> substring index ke -8 sampai -5\n",
        "\n",
        "cat: **_slicing_ selalu mulai dari arah kiri**\n",
        "\n",
        "kueku = \"kue bolu\""
      ]
    },
    {
      "cell_type": "code",
      "metadata": {
        "id": "qc1uPw9QMBRN"
      },
      "source": [
        "kueku[:5]"
      ],
      "execution_count": null,
      "outputs": []
    },
    {
      "cell_type": "code",
      "metadata": {
        "id": "tCTBiU2jMGux"
      },
      "source": [
        "kueku[5:]"
      ],
      "execution_count": null,
      "outputs": []
    },
    {
      "cell_type": "code",
      "metadata": {
        "id": "MGVTuUTPMQ_2"
      },
      "source": [
        "kueku[:]"
      ],
      "execution_count": null,
      "outputs": []
    },
    {
      "cell_type": "code",
      "metadata": {
        "id": "XWNrubqEMW4O"
      },
      "source": [
        "kueku[:10]"
      ],
      "execution_count": null,
      "outputs": []
    },
    {
      "cell_type": "code",
      "metadata": {
        "id": "2e2Y6CzJMeN1"
      },
      "source": [
        "kueku[9:11]"
      ],
      "execution_count": null,
      "outputs": []
    },
    {
      "cell_type": "code",
      "metadata": {
        "id": "Nn-hmjOvMsYM"
      },
      "source": [
        "kueku[-8:-3]"
      ],
      "execution_count": null,
      "outputs": []
    },
    {
      "cell_type": "code",
      "metadata": {
        "id": "wg7HhlagND5P"
      },
      "source": [
        "kueku[-8:]"
      ],
      "execution_count": null,
      "outputs": []
    },
    {
      "cell_type": "markdown",
      "metadata": {
        "id": "KEBjwXIYNUHi"
      },
      "source": [
        "###**String Tidak Dapat Diubah**\n",
        "\n",
        "String tidak dapat diubah, yang berarti Anda tidak dapat mengubahnya setelah Anda membuatnya!"
      ]
    },
    {
      "cell_type": "code",
      "metadata": {
        "id": "A94RkTPPNYMS"
      },
      "source": [
        "kata3 = \"python\"\n",
        "kata3[0] = c"
      ],
      "execution_count": null,
      "outputs": []
    },
    {
      "cell_type": "code",
      "metadata": {
        "id": "LoAp-OYgNj8G"
      },
      "source": [
        "kata4 = \"c\" + kata3[1:]"
      ],
      "execution_count": null,
      "outputs": []
    },
    {
      "cell_type": "code",
      "metadata": {
        "id": "2-1q3PaKOGK9"
      },
      "source": [
        "print(kata4)"
      ],
      "execution_count": null,
      "outputs": []
    },
    {
      "cell_type": "markdown",
      "metadata": {
        "id": "LnOHkkEnL3jK"
      },
      "source": [
        ""
      ]
    }
  ]
}
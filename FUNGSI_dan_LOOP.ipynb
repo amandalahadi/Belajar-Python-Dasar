{
  "cells": [
    {
      "cell_type": "markdown",
      "metadata": {
        "id": "view-in-github",
        "colab_type": "text"
      },
      "source": [
        "<a href=\"https://colab.research.google.com/github/amandalahadi/Belajar-Python-Dasar/blob/main/FUNGSI_dan_LOOP.ipynb\" target=\"_parent\"><img src=\"https://colab.research.google.com/assets/colab-badge.svg\" alt=\"Open In Colab\"/></a>"
      ]
    },
    {
      "cell_type": "markdown",
      "source": [
        "# **FUNGSI (_FUNCTIONS_) dan PENGULANGAN (_LOOPS_)**\n",
        "\n",
        "Fungsi merupakan _building blocks_ pada hampir semua program _Python_. \n",
        "\n",
        "Anda telah melihat _built-in functions_ seperti _**print()**_, _**len()**_, dan _**round()**_.\n",
        "\n",
        "_**Built-in functions**_ merupakan fungsi-fungsi yang sudah ada dalam bahasa pemrograman python sejak awal. Selain itu kita dapat membuat _**user-defined functions**_ yang dapat menampilkan tugas-tugas tertentu.\n",
        "\n",
        "Fungsi memecah kode menjadi bagian-bagian yang lebih kecil. Fungsi juga sangat berguna ketika dalam sebuah program kita menggunakan skript perintah untuk sebuah tugas yang sama berkali-kali.\n",
        "\n",
        "Selain itu, terkadang Anda \"**butuh**\" untuk mengulang sebuah kode yang sama berkali-kali dalam sebuah baris. Pada kondisi inilah ANda membutuhkan _**Loops**_ atau **pengulangan**.\n"
      ],
      "metadata": {
        "id": "-eYoo6Ztt8S-"
      }
    },
    {
      "cell_type": "markdown",
      "source": [
        "## **FUNGSI (_FUNCTIONS_)**"
      ],
      "metadata": {
        "id": "Vshc5KQgasRA"
      }
    },
    {
      "cell_type": "markdown",
      "source": [
        "###**Fungsi adalah sebuah NILAI**"
      ],
      "metadata": {
        "id": "z0AZ9osJhX_t"
      }
    },
    {
      "cell_type": "markdown",
      "source": [
        "Salah satu sifat terpenting dari sebuah fungsi dalam Python adalah\n",
        "fungsi adalah nilai dan dapat ditetapkan menjadi sebuah variabel."
      ],
      "metadata": {
        "id": "FsNTBuivhfvk"
      }
    },
    {
      "cell_type": "code",
      "source": [
        "len"
      ],
      "metadata": {
        "id": "oxUpKKx7httt"
      },
      "execution_count": null,
      "outputs": []
    },
    {
      "cell_type": "code",
      "source": [
        "type(len)"
      ],
      "metadata": {
        "id": "R3xp6FYli-75"
      },
      "execution_count": null,
      "outputs": []
    },
    {
      "cell_type": "code",
      "source": [
        "#len sebagai sebuah variabel\n"
      ],
      "metadata": {
        "id": "5qN7y-lrjHU9"
      },
      "execution_count": null,
      "outputs": []
    },
    {
      "cell_type": "code",
      "source": [
        "#type dari len"
      ],
      "metadata": {
        "id": "uaLDDhd2jsHw"
      },
      "execution_count": null,
      "outputs": []
    },
    {
      "cell_type": "code",
      "source": [
        "#menghapus variabel yang telah dibuat"
      ],
      "metadata": {
        "id": "YHnR7EhnjvNZ"
      },
      "execution_count": null,
      "outputs": []
    },
    {
      "cell_type": "markdown",
      "source": [
        "Pada variabel biasa, setelah dihapus maka pada saat dipanggil kembali akan memberikan output _NameError_"
      ],
      "metadata": {
        "id": "bmqY05sbj1Up"
      }
    },
    {
      "cell_type": "code",
      "source": [
        "#memanggil len"
      ],
      "metadata": {
        "id": "3vaH6bvTkBz8"
      },
      "execution_count": null,
      "outputs": []
    },
    {
      "cell_type": "markdown",
      "source": [
        "### **Bagaimana Python Mengeksekusi Fungsi**\n",
        "\n",
        "Hal pertama yang harus diperhatikan adalah Anda tidak dapat menjalankan fungsi hanya dengan mengetikkan namanya. Anda harus **memanggil** fungsi untuk memberi tahu Python agar benar-benar mengeksekusinya."
      ],
      "metadata": {
        "id": "QNEEpapakGeR"
      }
    },
    {
      "cell_type": "code",
      "source": [
        "len"
      ],
      "metadata": {
        "id": "p43CnUCJkecn"
      },
      "execution_count": null,
      "outputs": []
    },
    {
      "cell_type": "code",
      "source": [
        "# Memanggil fungsi menggunakan tanda kurung ()"
      ],
      "metadata": {
        "id": "Z9fb6IerkgZo"
      },
      "execution_count": null,
      "outputs": []
    },
    {
      "cell_type": "markdown",
      "source": [
        "Argumen adalah nilai yang dimasukkan ke fungsi sebagai **input**.\n",
        "Beberapa fungsi dapat dipanggil tanpa argumen, dan beberapa lainnya dapat mengambil\n",
        "argumen sebanyak yang kita mau. \n",
        "\n",
        "_**len()**_ membutuhkan tepat satu argumen.\n",
        "\n",
        "Ketika suatu fungsi selesai dieksekusi, ia mengembalikan (**_returns_**) sebuah nilai sebagai output. Nilai tersebut biasanya—tetapi tidak selalu— bergantung pada nilai-nilai apa pun\n",
        "dari argumen yang dimasukkan ke fungsi.\n",
        "\n",
        "\n",
        "Proses untuk mengeksekusi suatu fungsi dapat diringkas menjadi tiga:\n",
        "Langkah:\n",
        "1. Fungsi dipanggil (**called**), dan argumen apa pun diteruskan ke fungsi sebagai input.\n",
        "2. Fungsi dijalankan/dieksekusi (**executes**), dan beberapa tindakan dilakukan dengan\n",
        "argumen.\n",
        "3. Fungsi dikembalikan (**returns**), dan fungsi awal diganti\n",
        "dengan nilai output (**return value**)."
      ],
      "metadata": {
        "id": "TcMItMM3kxLd"
      }
    },
    {
      "cell_type": "code",
      "source": [
        "# Contoh proses dari eksekusi sebuah fungsi"
      ],
      "metadata": {
        "id": "wzfeQG3UmDJR"
      },
      "execution_count": null,
      "outputs": []
    },
    {
      "cell_type": "markdown",
      "source": [
        "1. len() dipanggil dengan argumen \"nusantara\".\n",
        "2. Panjang dari _strings_ \"nusantara\" dihitung, yang mana menghasilkan nilai **9**.\n",
        "3. len() mengembalikan nilai 9 dan mengganti fungsi yang dipanggil dengan nilai tersebut."
      ],
      "metadata": {
        "id": "v75nu3SgmInU"
      }
    },
    {
      "cell_type": "code",
      "source": [
        "# Panggil kembali"
      ],
      "metadata": {
        "id": "gLrjTf7Em8zR"
      },
      "execution_count": null,
      "outputs": []
    },
    {
      "cell_type": "markdown",
      "source": [
        "### **Fungsi dapat Memiliki Efek Samping**\n",
        "\n",
        "Ketika suatu fungsi mengubah atau mempengaruhi sesuatu di luar fungsi itu sendiri, itu dikatakan memiliki efek samping. \n",
        "\n",
        "Anda sudah melihat satu\n",
        "fungsi dengan efek samping: print().\n",
        "Saat Anda memanggil print() dengan argumen string, string ditampilkan\n",
        "di shell Python sebagai teks. Tetapi print() tidak mengembalikan teks apa pun sebagai sebuah\n",
        "nilai."
      ],
      "metadata": {
        "id": "wAgA2TNEnH4D"
      }
    },
    {
      "cell_type": "code",
      "source": [
        "# memasukan fungsi print() kedalam sebuah variabel"
      ],
      "metadata": {
        "id": "bwzpN6BRnhH9"
      },
      "execution_count": null,
      "outputs": []
    },
    {
      "cell_type": "code",
      "source": [
        "# memanggil variabel"
      ],
      "metadata": {
        "id": "1grj7bHvno1M"
      },
      "execution_count": null,
      "outputs": []
    },
    {
      "cell_type": "code",
      "source": [
        "# mengecek type dari variabel yang menggunakan print()"
      ],
      "metadata": {
        "id": "k5Y2K81wnyRc"
      },
      "execution_count": null,
      "outputs": []
    },
    {
      "cell_type": "markdown",
      "source": [
        "### **Menulis Fungsi Kita Sendiri**\n",
        "\n",
        "Setiap fungsi memiliki dua bagian:\n",
        "1. **function signature**, mendefinisikan nama fungsi dan\n",
        "masukan apa pun yang diharapkannya.\n",
        "2. **function body**, berisi kode yang dijalankan setiap kali\n",
        "fungsi digunakan."
      ],
      "metadata": {
        "id": "TWKVpNjqn6Cf"
      }
    },
    {
      "cell_type": "code",
      "source": [
        "# Function Signature\n",
        "# Functtion Body"
      ],
      "metadata": {
        "id": "M1L18EDaoSru"
      },
      "execution_count": null,
      "outputs": []
    },
    {
      "cell_type": "markdown",
      "source": [
        "**Function signature** memiliki 4 bagian:\n",
        "1. keyword _**def**_\n",
        "2. nama fungsi\n",
        "3. Daftar parameter\n",
        "4. Titik dua (:) pada akhir baris\n",
        "\n",
        "**Parameter** menunjukan input yang diharapakan pada sebuah fungsi.\n",
        "\n",
        "Fungsi dapat memiliki berapapun parameter atau tidak menggunakan parameter sama sekali."
      ],
      "metadata": {
        "id": "AK2wWb_BojGM"
      }
    },
    {
      "cell_type": "markdown",
      "source": [
        "### **Function Body** adalah kode yang akan dijalankan kapanpun fungsi digunakan didalam program Anda."
      ],
      "metadata": {
        "id": "e0ZJPUwQnC1e"
      }
    },
    {
      "cell_type": "code",
      "source": [
        "def eksponen(x, y):\n",
        "  # Function Body\n",
        "  pangkat = x**y\n",
        "  return pangkat"
      ],
      "metadata": {
        "id": "mwAI1tDAnZF-"
      },
      "execution_count": null,
      "outputs": []
    },
    {
      "cell_type": "markdown",
      "source": [
        "**Body** pada fungsi eksponen memiliki 2 baris kode. \n",
        "\n",
        "**Baris pertama** menciptakan variabel **pangkat** dan memberikan nilai __x**y__.\n",
        "\n",
        "**Baris kedua** disebut sebuah **return statement**. Pernyataan ini dimulai dengan _keyword_ **return** kemudian diikuti variabel **pangkat**. \n",
        "\n",
        "Ketika python sampai pada **return statement**, maka python akan berhenti menjalankan fungsi **eksponen** dan mengembalikan nilai dari **pangkat**.\n",
        "\n",
        "**CAT**\n",
        "\n",
        "Semua baris pada body **HARUS** dituliskan dengan spasi ke dalam (**indent**).\n",
        "\n",
        "Semua baris yang dituliskan dengan spasi ke dalam di bawah **function signature** akan dipahami sebagai **function body**."
      ],
      "metadata": {
        "id": "l0i1n55NnnA-"
      }
    },
    {
      "cell_type": "code",
      "source": [
        ""
      ],
      "metadata": {
        "id": "ZeWT5qraq5hg"
      },
      "execution_count": null,
      "outputs": []
    },
    {
      "cell_type": "code",
      "source": [
        "# Fungsi print() menjadi bagian dari function body\n"
      ],
      "metadata": {
        "id": "f-HobfBArHLh"
      },
      "execution_count": null,
      "outputs": []
    },
    {
      "cell_type": "markdown",
      "source": [
        "**Setiap baris harus dispasi dengan jumlah yang sama**"
      ],
      "metadata": {
        "id": "xC37qPV0rTnW"
      }
    },
    {
      "cell_type": "code",
      "source": [
        ""
      ],
      "metadata": {
        "id": "KQcjHstospeH"
      },
      "execution_count": null,
      "outputs": []
    },
    {
      "cell_type": "markdown",
      "source": [
        "Ketika python mengeksekusi **return statement**, fungsi akan berhenti dijalankan dan mengeluarkan nilainya. \n",
        "\n",
        "Setiap baris kode yang dituliskan di bawah **return statement** dan menjadi bagian dari **function body** tidak akan pernah dijalankan."
      ],
      "metadata": {
        "id": "lSaGkjNJsuL1"
      }
    },
    {
      "cell_type": "code",
      "source": [
        "def eksponen(x, y):\n",
        "  pangkat = x**y\n",
        "  return pangkat\n",
        "  print(\"Siapa saya?\")"
      ],
      "metadata": {
        "id": "hR0BhvfatXkv"
      },
      "execution_count": null,
      "outputs": []
    },
    {
      "cell_type": "markdown",
      "source": [
        "**Memanggil sebuah _User-Defined Function_**"
      ],
      "metadata": {
        "id": "6lUXPvYrtZCk"
      }
    },
    {
      "cell_type": "code",
      "source": [
        ""
      ],
      "metadata": {
        "id": "UvJmbtuJt4e3"
      },
      "execution_count": null,
      "outputs": []
    },
    {
      "cell_type": "markdown",
      "source": [
        "Tidak seperti _built-in functions_, _**user-defined function**_ tidak tersedia sebelum kita mendefinisikannya menggunakan _keyword_ **def**.\n",
        "\n",
        "Jadi, Anda **HARUS** mendefinisikan fungsi sebelum memanggilnya"
      ],
      "metadata": {
        "id": "d5pHLoCKuHZH"
      }
    },
    {
      "cell_type": "code",
      "source": [
        "\n",
        "\n",
        "def hasil_kali(x, y):\n",
        "  kali = x*y\n",
        "  return kali"
      ],
      "metadata": {
        "id": "jackmv7hufWO"
      },
      "execution_count": null,
      "outputs": []
    },
    {
      "cell_type": "code",
      "source": [
        "# Setelah fungsi didefinisikan"
      ],
      "metadata": {
        "id": "-hZoASgFuz4G"
      },
      "execution_count": null,
      "outputs": []
    },
    {
      "cell_type": "markdown",
      "source": [
        "**Setiap fungsi** pada Python akan mengembalikan sebuah nilai, bahkan jika nilainya adalah _None_. Meski begitu, tidak semua fungsi membutuhkan **return statemnet**"
      ],
      "metadata": {
        "id": "Xgo2LYs9u80E"
      }
    },
    {
      "cell_type": "code",
      "source": [
        "# Contoh fungsi tanpa return statement\n"
      ],
      "metadata": {
        "id": "V4XQ6HWsvNpA"
      },
      "execution_count": null,
      "outputs": []
    },
    {
      "cell_type": "code",
      "source": [
        ""
      ],
      "metadata": {
        "id": "qjG0CdHwvdom"
      },
      "execution_count": null,
      "outputs": []
    },
    {
      "cell_type": "code",
      "source": [
        "# Fungsi tanpa return statement akan dikembalikan dengan nilai None"
      ],
      "metadata": {
        "id": "WW-al4VZvd6b"
      },
      "execution_count": null,
      "outputs": []
    },
    {
      "cell_type": "markdown",
      "source": [
        "**Mendokumentasikan Fungsi**\n",
        "\n",
        "Untuk meminta bantuan terhdap definisi sebuah fungsi, kita dapat menggunakan fungsi **help()**"
      ],
      "metadata": {
        "id": "U0bEyAjrHO-o"
      }
    },
    {
      "cell_type": "code",
      "source": [
        ""
      ],
      "metadata": {
        "id": "DazoF3-ZHy6A"
      },
      "execution_count": null,
      "outputs": []
    },
    {
      "cell_type": "code",
      "source": [
        ""
      ],
      "metadata": {
        "id": "RvhL6hs7H4y4"
      },
      "execution_count": null,
      "outputs": []
    },
    {
      "cell_type": "markdown",
      "source": [
        "**help()** hanya menampilkan **function signature**, tanpa memberikan informasi lain terkait apa yang dapat dilakukan oleh fungsi tersebut.\n",
        "\n",
        "Untuk mengatasi hal ini, kita membutuhakan **docstring** untuk mendokumentasikan fungsi yang kita definisikan."
      ],
      "metadata": {
        "id": "ZLa8aq1DH5E-"
      }
    },
    {
      "cell_type": "code",
      "source": [
        "# Memasukan docstring pada function body\n",
        "def hasil_kali(x, y):\n",
        "  kali = x*y\n",
        "  return kali"
      ],
      "metadata": {
        "id": "WNYyHDELIqyr"
      },
      "execution_count": null,
      "outputs": []
    },
    {
      "cell_type": "code",
      "source": [
        ""
      ],
      "metadata": {
        "id": "pb5q-ewRI2Hy"
      },
      "execution_count": null,
      "outputs": []
    },
    {
      "cell_type": "markdown",
      "source": [
        " ## **PENGULANGAN (_LOOPS_)**"
      ],
      "metadata": {
        "id": "NEmYZYFrhJY5"
      }
    },
    {
      "cell_type": "markdown",
      "source": [
        "Salah satu hal hebat tentang komputer adalah Anda dapat membuatnya melakukan hal yang sama berulang-ulang, dan mereka jarang mengeluh atau lelah.\n",
        "\n",
        "**Loop** (Perulangan) adalah blok kode yang berulang-ulang beberapa kali atau sampai beberapa kondisi terpenuhi. \n",
        "\n",
        "Ada dua jenis perulangan dalam Python: \n",
        "1. perulangan **while** (**_while_ Loop**)\n",
        "2. perulangan **for** (**_for_ Loop**)"
      ],
      "metadata": {
        "id": "Wjn7CZWJhOLO"
      }
    },
    {
      "cell_type": "markdown",
      "source": [
        "### **_while_ LOOP**"
      ],
      "metadata": {
        "id": "4dICfl14J0Yn"
      }
    },
    {
      "cell_type": "markdown",
      "source": [
        "**while loop** mengulangi bagian kode ketika beberapa kondisi benar (**True**).\n",
        "\n",
        "Ada dua bagian untuk setiap **while loop**:\n",
        "1. **while statement** dimulai dengan kata kunci **_while_**, diikuti dengan kondisi pengujian (**while statement**), dan diakhiri dengan titik dua (**:**).\n",
        "2. **Loop body** berisi kode yang diulang pada setiap langkah perulangan. Setiap baris menjorok empat spasi.\n",
        "\n",
        "Ketika **while loop** dieksekusi, Python mengevaluasi kondisi pengujian dan menentukan apakah itu benar atau salah. Jika kondisi pengujian benar, maka kode di **Loop body** dieksekusi. Jika tidak, kode di dalam **Loop body** akan dilewati dan sisa program akan dieksekusi.\n",
        "\n",
        "Jika kondisi pengujian benar dan **Loop body** dieksekusi, maka setelah Python mencapai akhir tubuh, ia kembali ke pernyataan while dan mengevaluasi kembali kondisi pengujian. Jika kondisi pengujian masih benar, **Loop body** dieksekusi lagi. Jika itu salah, **body** dilewati.\n",
        "\n",
        "Proses ini berulang-ulang sampai **kondisi pengujian gagal**"
      ],
      "metadata": {
        "id": "XjF8Zn7uJ86k"
      }
    },
    {
      "cell_type": "code",
      "source": [
        "# Contoh whlie loop"
      ],
      "metadata": {
        "id": "i-3fDNZTMj-b"
      },
      "execution_count": null,
      "outputs": []
    },
    {
      "cell_type": "markdown",
      "source": [
        "**Apa yang terjadi?**\n",
        "\n",
        "1. Bilangan bulat 1 dimasukan sebagai nilai dari variabel **n**.\n",
        "2. **whlie Loop** dibuat dengan kondisi pengujian **n < 5**, yang mana akan mengecek apakah nilai dari n kurang dari 5 atau tidak.\n",
        "3. Jika kurang dari 5, maka **loop body** dieksekusi, jika **tidak (n lebih dari atau sama dengan 5)** maka proses berhenti.\n",
        "\n",
        "Terdapat dua baris pada **loop body**:\n",
        "1. **Baris pertama**, nilai dari **n** di print pada layar\n",
        "2. **Baris kedua**, nilai n ditingkatkan/ditambahkan 1.\n",
        "\n",
        "Proses eksekusi digambarkan pada tabel berikut."
      ],
      "metadata": {
        "id": "nN8ePgAlXf13"
      }
    },
    {
      "cell_type": "markdown",
      "source": [
        "![Py 1.png](data:image/png;base64,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)"
      ],
      "metadata": {
        "id": "AREa_YDdV7xG"
      }
    },
    {
      "cell_type": "markdown",
      "source": [
        "**Infinite Loop**"
      ],
      "metadata": {
        "id": "VQb1DcugWTcG"
      }
    },
    {
      "cell_type": "code",
      "source": [
        ""
      ],
      "metadata": {
        "id": "ci_ZQ8bsZFfM"
      },
      "execution_count": null,
      "outputs": []
    },
    {
      "cell_type": "code",
      "source": [
        "# Contoh program memasukan bilangan positif"
      ],
      "metadata": {
        "id": "Jlk0yxnMZYIF"
      },
      "execution_count": null,
      "outputs": []
    },
    {
      "cell_type": "markdown",
      "source": [
        "### **_for_ LOOP**"
      ],
      "metadata": {
        "id": "pAj2fYqTZlrI"
      }
    },
    {
      "cell_type": "markdown",
      "source": [
        "Sebuah **_for_ loop** mengeksekusi bagian kode satu kali untuk setiap item dalam sebuah kumpulan item. \n",
        "\n",
        "Berapa kali kode dieksekusi ditentukan dengan jumlah item dalam koleksi.\n",
        "\n",
        "**_for_ loop** memiliki dua bagian utama:\n",
        "1. **for statement**, dimulai dengan kata kunci **_for_**, diikuti dengan **membership expression**, dan diakhiri dengan titik dua (**:**).\n",
        "2. **loop body**, berisi kode yang akan dieksekusi pada setiap langkah perulangan, dan diberi indentasi empat spasi"
      ],
      "metadata": {
        "id": "waIWO9tOZusZ"
      }
    },
    {
      "cell_type": "code",
      "source": [
        "# Contoh for loop"
      ],
      "metadata": {
        "id": "Tg2LiXvBakJS"
      },
      "execution_count": null,
      "outputs": []
    },
    {
      "cell_type": "markdown",
      "source": [
        "**Apa yang terjadi?**\n",
        "\n",
        "1. **for statement**: _for letter in \"Python\"_\n",
        "  \n",
        "   **membership expression**: _letter in \"Python\"_\n",
        "3. **loop body**: _print(letter)_\n",
        "\n",
        "   Pada setiap langkah dari **loop**, variabel _**letter**_ akan diberikan setiap huruf pada string \"Python\" secara berurutan, kemudian nilai dari variabel _**letter**_ di print pada layar.\n",
        "\n",
        "Proses eksekusi digambarkan pada tabel berikut."
      ],
      "metadata": {
        "id": "8hosrwzQbNg-"
      }
    },
    {
      "cell_type": "markdown",
      "source": [
        "![py 2.png](data:image/png;base64,iVBORw0KGgoAAAANSUhEUgAAAVQAAADVCAIAAACHa58rAAAAAXNSR0IArs4c6QAAAARnQU1BAACxjwv8YQUAAAAJcEhZcwAADsMAAA7DAcdvqGQAACUxSURBVHhe7d13VBPZ2wdwJo0u2FZcFEEBWQuigOAqIrgKIqBgYxUruoqg2PsPO6u4NnTthbWCWLB7rFiwwbGABY6gwgEEjgIL5JC8yRzemckkpE0S0GQ183z+MpMxk9y53zt3JuEZg3oAAC1B+AGgKQg/ADQF4QeApiD8ANAUhB8AmoLwA0BTEH4AaEpN+BMTE2MBAHrh/PnzZLAJasLv4+NjAADQC1OnTiWDTVAT/oqKik8AAL3w77//ksEmwDk/ADQF4QeApiD8ANAUhB8AmoLwA0BTEH4AaArCDwBNQfgBoCkIf+MIC9NTjh7ck7B5w5/Hn9WRC3WGX5J54dCWP+MPpRUKyEU0hxY/PoPtjx3Y/jjxnEcuBJrRLPzcD3cOb1gSOWnCtPkbTj4trci6fPU1l3zuxyLMu3H4wH6Jg6kvKonlgnfXD5HL9u8/cPwesVAJYcHdw3ETXJoxDDiDd5eRC3UC/XJvfcCA8NUxXpYMRvPfT5OL9Qcv52rDLti//9D1XD75DFr5/kXuZ5R8UJ5x+iC5zv4DB0+eOr5thoclw8BwyP4K0RrfCPrl2VnJhrBNJd7ME+KLP2eekVl8Kx9f/CNSH3607Mo817Zdx229+Ph5xs3EJYNsmje3NPXZXkTsDLT8zYO76W/Ee+a7J/x4Z/cCvw6GiAFi2mtqwvFbOTXk8vvHdiwb7mjMMHEasfLIY2IhldqU35szdBz+2hszO5p4b/mIop/uH9yc+PAzuVx/8PNvJMzqb8VCDJjW/sv3JacXkLMb4et1vY3tY+6KDuxoZdbFvavHOpsz2NY+c/6+UyCsr00eY4k0Kfwqu29VdurWGB9r7A0xWv4aueXog0Ii/JVZqdtmDWhLLO4zY/Ox9CK9DX/dreiO7PZ/XJMc6LmPljhzOP23fCAajHsqzJLZIvys9mbAaGnKvAnbnwnqBc+2T5h76tM3GGa49+Y4shC2+9pXsruNd3VaR/dVL9TOqHmXI37WcfjrLk6xYrWNuKzzMw3dQkv2BZgjzHZ/XGuYwgtfr3VnIyxJ+nGCJ0u62065WCV6VHd+0k+MJoVfbfflP1r0C8vA0G9vOblAhJ++oDNL55O/b01d+AXZq13ZTLuo2w0Nj5YeHta6XzwxB9JB+L8cCbEbk1RZL3i50t1l6dNvcq4reBHbk42wuy3LkH45bI+6B+0VzWhU0n340cLtPhxWp9lp4pmwLLT02JSeXTEO7VrbTNbiztA6tHCHrzHC+mXhI/EnFb5a62lhwkFYDnPuiTshWrRzkMO0q+LPqcXwC56t6MFWPKUQZCzrhi323/eFXPBDUhd+tCjBxxBhtB60KYMcZjGfzy2MPlLwfznJsbMjAzsbIsa/BEVGR0fP2Xr7C5EcYen93XNG+fsHBgweMnbZsZf4/6x5uGf+zGmTxo0Oi7uRd2Pr7NG+ffoHT1526Knov1CqPj3OLvhQGSrM3ejlRNX5G02Ys+FXQ7mjCTbH8Zx4WnQJAMf7cG3zrPFhYSP9vfsPm5mQViKZJkiFvy7j0OJZ06eEj5mwOR17b1XpexbNnhEx4ffR0Yk5kvWVtYcS6JfMIysmBA8JDhkxauz0dedyidkWWnJlY0zUpP7WTIal66iZWDNvT2t4k7LqLky2shiVpMnlGLT4+rb/7b5XId/6VMt1RZjzpyc2LruuzhaNy4JXa/sPjl3pZ4alf+59cvdXHBvZefL5WtGDhvAXvTm7epJ/H1d3nzGx5983dBWle1JI2X2lNSL8yvuL6n6vUSqUdR/00/XNc8iO9qbkwd/RId5urv2CovZmSjqXoCRtW+SI4OChfn4hEZOCR219JX/gVDvtF37cN7QFw8AAMbT2DI89kl4oGSTR8pfXU5PmerARU++lp86dO3f+fh7W7dBP56Z2bum+8FYpil8vmOHIaeW/K1eI1hQ9PRxuz0KY1h6T1yTde/ro0o4pLs2YzdxW3K8mX1EKWnRxfdSMGTOmj3JtbeURNn3GNH9H006Dps6I+vNyCbnO10A/7hhoijDbT7si7kJVqVP6zr4t/nRo6alx7djtpl3BPpEgb19wG6al/56P5B6RCj9a8/H+1mHWTMQy7BT+4Ws+5dxZP7A5g9V5wUNR76NoD+I5KWjZpehuzayH7crCL0JUZcQP+ql5r7mXy9D66py082f3RXRhM62HbzyNNfODfKoDVSPCj/VqZxOvv97LvxGq5TojyFzenY0Yev1FXEcTZK/pP2Tnx8LdfqYIy5FMP/diRPdxKQ1DKBF+loP375OX7065cGrjiE5shsXgvz8Qn4FqT1J0Xzmahp+yv6ju9+pTQdV9hJV511b0s2Awf3INHDcr/mhq6v7ZfbB+5xhzl/gU/MxV7m28415g3VtYmhbbv5W48aSov+BXj36+v3l0V0smgpcDQDht3MI33JB801R9OMiQ7PgitTdn2rGtp1wUXUcTTbBZTqJZXF3qhNYMQ/+94otVgtdxnoaIkWfca8UslFzfsnjBgrkjnS0dg+YuWRITYN/S9fd5CxYs3nazlFznq6CfDgZZIow24WeIToSWHx3tE/tMMjZi77sXlrZpV4mZQc3REFOGxehk8lPKTfurDgVKt4Hw7XoPtiT8qtpDSs21GbYso/6bRSdTGP7DBU4sVseoW8SrCvPi+7Lxia/8/pOlJPy8vPOrxvm4uzg7uw6csvV+OdYf+RkJE4cFDuhsyWrVfVAQJmRecqGK5UpfRfAsPqhXj64OHTqNP/jgcNRgF0dHl4Gr0oi1vw7/7uxOLMTUb08JtpXs1f0DdhWiaNGuQZL08+/Pcxt1VOqYS4Sf7bH+rajx0NLdg40QbHcR47rKPanQfeWJws9obu/mIcPZ2gSRDr/Kraju9yqfpeo++APhm3W9sW1OTCUngrxbUbZMcs4kzInz4LQck0w+JchYHbrgVsMsV0SD8BME5c9SNs4c6tyag40BCKfDmCOicVW+9Xg3Ztgw2V0j9p5KEUmMcsXG8YAD+MipcG5G9GmEQ3mgwT6ru3vsS0F97fnJjiGJ3/YK95ek0a0YjOahR7GujH7YEei/+Z30u+CXv39fjjcXWpVzab67MWI47B9yliAXfrk2wNtdEn6V7dGAd3WqNbNhtoDDL/ExxKf5TQw/Wn4+wr7toA2PvwjruW93BVlZjz+Lbbi2ND/39floJ2P35Wlvc3Jycgu+EK9LsZziVTC8m5E27FZ23pMSrjy+t32YTcgRYvFX4l6K+BmbSoUerRBkrfYO2lOMH0ALd/5mgqV/3gM+1im8hu3HDoQS8v1KFCfJRToVe1LD8Gsy7VexFdX9XtWzlN2HWE+6o+GP8cFAPD2qSA5rzWC2cBmz4sCNnEqpxpKiLvxV+S/fSZ//Vb/6Z5KTEWLA7iq69ibfepUHAgwNWJ1Hxv4pLT7pOb6Cwses554aY9kwnWsgLHh49nRKysHpvawD150+d3pTqG3XSbtOpZy+8BQ7Hnwj1ecnYZ3MfMjeYn7WGt+QA3KvLPzy4nT8rFEBgePmxkV5mTFMQo6Rn7IR4VfZHg0+7/UzNGD/ulFq+OE/XtyFhZiNPImv2bTwo4UJvqbtI86XVRI+7hhkjB2bRM9pPu1X/irEUQQPv6Hrqiy8J6DFN3adeI4v/WpVSaObMxg/jU95vMo7eJ9ot6AFCfiVQMd5997EDxr6t8xlWTXhV7Env2H4VWxFdb9X9Sxl98FXUwz/+obwYxE6N7dfW+JYzWzm4Lfw9Dv5A7+68POfLOnZZ63srLz64hT84tPvp/EzT/nW4yaPtkDYHnENV7ukKH7M2hMjzBF2r5VE95HCu7bY2xObW5mat+/h4eHu2IrdwsEdm2318Vt5V+EzNBn3RmQHJmI8YOOJOf3Gn5LZvfys7f5tOVb+m57gQx/+qRjmohxiGhF+le3RoOZYiBnCdl6e2dAO2KDfnsm0nkrErGnh59+bY882a9+jt4SHz9Lrouc0D7/yV5GE31g+GF8PLd0fYIadBg8c3Gf4AfF3u+jH7T54+sdH+A3ZKvqeWUxl+FXuyW8WfpVbUd3vVT2rsvuoDj+hrvBh0saogM4WTMTIdZX80Kwm/IKXK3sZOc6+Q55yELDZhTtb3FGJ1iMPTzhh/hZvI4a5327yZBGHfn71/D2+gsLHJNqQ1WlWmtJAlx8eZjc2pRrfAa6uKxrOx78d/oP5jiyEZdmqe+Q1coomwrs1s4PUNJx7PFTFOT+2r8wQs5BjZCPJ7BOV7dFAmLe5vzHDctRJyVUs7EjnY8xoMfI4ca7TtPDj78TQalLDZXEpRMj7bVL4dZrichWvoqXw1wvfb/HGf4dlEXSoYXovfL91gBGCMI294mXOzxT7lXT4Ve9J+e6rQMPwq96K6n6v6lnK7oP/Q1X4q4+MDUyQjOC1jxY7s42CDpMPxdSEH3t9T+z0w3HCiTxxPoXv//ZrbjXsoOiVuSlh2AzFKSZNfMUeLTsz0YbFaj9i/ytRb6nN3jPKJ+oK3krEx2Q5Rt8SdXG0NHWyHdtq+CGFww+hKjnMDj/PF76N69tFejj7hoh9i7B+WSR3AQ7v1Uzmz+PP4G+bl3divAMbMQk4QM4j686Nb8Xg9N9CXv0nJuhMu6mX8JX5hRfn97ZkMNpOOCe6kkjVHg17k/Dl8gwHjoXvdvJ7gNqMWFcjk14rHon6j/D1Wjc2s/100QGXkvw5vzB3u6+luduCa8XEyCmsfPfyHTm84K9ohI0m2AsKK4uKq8RvR8lypa9CrK+t8It+XoJYDkssk2omYf7m/kb4b7Pkrw9ziV9c+iSIzwVq8Wkzx2c7nhjVe1Kh+8rj3Y2xZxmw+5I/axHj3YnuyJQ6T1PTX1T2e5XPUnUf/J/4kZnNtI0SX8gjrgYybSJvYo+5x0PMfg45+E7UrbEzNx9z5+UZxIMGasKPftziY+s7McyzfdvOv4VHzZs7fVT/3oNj/pF8VY2WnY2wx8ZjtoVVR5fgTU/wjdU83zfJtRXHsLWjq6d7DxffWSdzRW+P+JjM1nY9vcYuXrty9rAenTwjj2RLzyqkcC9FdPLDzu3Qgu0DHf6Q/KDjG8NGSw/z3usUvm6oy/hrsDWHYWrt7OE1dNbh63tCf2YzLR19F5xJPx4zyNGcYYCwWvUI+Ys8vB/5vZMRtnJ3N0+fceuPLPvVkG3awmFATPIH/LUo20MWL//ckoEOTv7Rq9Ysnti3Y0ffxedFP3CtvRs/wrUNGzsSGrf3GL4gSeFojXUY0Y98utg2x96lTZeuXbu5zbmEN5mw6PKyQbamxi07OHSybtHacfzRAtF/qec9+l8vM07zDo621vZBO15L5lXKlit5FX7mhgDnLnYt2Yxm7X7BNt0r8gxVgJqC/3DhLy1DjpDpIQnz/vIyc4l9LnmvGGHu8dkD7c2wxmG2dB4W/6Dmxb6pPvam2GN2G9ewHRl8yj2ZSnx5pth9xYQfk+cHubc3wr/lQkzauQ/bQByAhB+S5ga5txMvdhsej//AQ+VWVPd7dalQ3n2q7/wZ2usnFvY5TWy9Y5Lff7qyKqRna/yxaaeBSy/kp4x1chvg4tQ7dObSFXPH+g4Yl/BEnFkJdRf8sI5FDKdo3ef8F+n3n7wtqVHoenVl77Kevy6okt4n9byynKcP0jNzy6RSS3xMbIJTXvn+2YOHLwsVX+o/UFOcV6x0/EFrirOfPskqrBY1QHXR2zcfKqR7h4y6spyMhxnvPuONgIraTIay9lBCWF348t6ttIz8ym/YNmh14auMjJd5ZVzZ98Ure5uZ+aqgUmbHYZQvp3oV7UArPuaVKYyRNcW5BZJJisZU70ml3bcJqLeiut9rlAoNu08DIZ+PvY6g6uOLxxnKQotTH/5vSPwxv/00EYDvl+p+/9+lQqfhrzo+woL4e5qvHWQB+IGo7vf/XSp0Fv6qm3FjfHp0tGnf3saum1fIiovSl3IA0FOq+/1/mwqdHvkBAN8PCD8ANAXhB4CmIPwA0BSEHwCagvADQFMQfgBoSk34hw8f3gIAoBfmzJlDBpugJvz//vvvZwCAXqitlfm7bJj2A0BTEH4AaArCDwBNQfgBoCkIPwA0BeEHgKYg/ADQFIQfAJqC8AN9J6woKKjQQY0sXWyn+s2NpH8O7E7YvCFu1038PmZfA8IP9Br6cV9gCya7Y9RNLRV/J+loO9Vvrh7ePMvbiolI3a2jqSD8QK+hBQeH/8Q26rJIO3d9kWj0dtDyNw/upr/53ISjt+iWPhB+ANRBq0tLa3RQGLNx2+GeCrNktgg/24SJgvx9uppKZ+EXlt7dGrPmMn5/eCAFLdw1tE2b4L3FaN2FaR1/8owl7qlU/fp60gnSyaSUi/dyyVslK65O2zLolG30Y6BD+IXvz62dFTHKx9GShXAG7vx2N9jWF/gNepvh99fj34uxN+63KR9bhpbd3rFkfO/m7I5DZi9eFBPe52dj6xDRzdsUVld6LxYaoGgj8lkRQdaxZbOmTxkfNmrmwTfkKCkoSdsWOSI4eKifX0jEpOBRW+Xq5dc83DN/5rRJ40aHxd3Iu7F19mjfPv2DJy879JS4uyL66frmOTMiJvw+OjrxTdHtbVGhvgMn7srMkN2OzFolD/6ODvF2c+0XFLU3k7hlljAnOXZ2ZGBnQ8T4l6DI6OjoOVtvE68uLL2/e84of//AgMFDxi47JrkpHqbmzbmNs8YG+gUEDRsTOSfEgfVDHPmr32emP3hwfUVf4man+I0MgTTetT862Eff4eE3JPWwGH5EfMc7/t3ZnYx/20XcpfbL0RBLQ5+EIuyfVKvTkpI2Ej0hVlealbqojwVDcoNjfuYq9zbecS9q8aSlxfZvJXNHaxxaU/T0cLg9C2Fae0xek3Tv6aNLO6a4NGM2c1txH2tsYWXe1eV9LRjMNu6h05Zsnd3PCGF3XXq/SHY72FrXVvTD1vrJNXDcrPijqan7Z/dpzmA5xtzlYpsof3k9NWmuBxsx9V566ty5c+fv53GxEePc1M4t3RfeIu4heGWGI6eV/y7RfVsr01Z4NG/WM+ZCIfbitW8Oh9mxf6QLfpUHhxoaGAYeUrhZIO0JCy7Gb76Kf2tTk75n5XHJcUi6Y/OuRPxs5LujGPsn1eq0pKSNRE9IEeZu6CO5uzk+Yea0HJNcKXpOkLE6dIH4JrdSRPf49t9L3B4dI3gd52mIGHnGETd0Je5Rz7SefL6qXvjh7IopUXsysUTLbEe0Vm9srYmp5LZ4t6JsmWzX1dnkHiPuDm4Zdkp8S+XamzPt2NZTLpL3jSRuuctyWviIX897uKgLm9Ux6pZ4VUHWql4/0jk/hL+xpDo29+HCbma914m7DRBT0kbkMw2EefF9G0JZkRzWmsFs4TJmxYEbOZX4oKGMwu3ziBdBOF5/4adeyk+5ZbejuBYxGJB3z8fJhZ93Y4YNk901Yu+pFJHEKFc2YhhwoIKfNqsjk9lO6vbsP9oFPwh/Y+Edm9PBN2L6pKCedl3H7H4hHveBhCZtJBdKYcG5uf3achADA4TZzMFv4el3Sm6XrnjvTC5+y38yuk0N/3pV4a88EGBowOo8MvZPafFJz7l4dBB2r5UvJWM/hF/f4R3byG3emdsPXnysputVPTU0aSP5UOLqCh8mbYwK6GzBRIxcV8nc75+gGP7aEyPM8QRmYetqJfzc5NEWCNsjLkfhY3CTRjVDWF2XPIHw04bUlBZQ0KSNZEJZfWRsYALxrQmu9tFiZ7ZR0GGFi6YK4RdkLOvOZnWadQefJnzD8JuNPEmGX5i/xduIYe6/p6jhw6CfXz1/zxW+3zrAGDEZuLNA/MwPFn5h/qZ+bAOlAxtQDsKvnkbhf73WjS0+ZeYeDzH7OeTgO1Fq0MIEH3Pn5Yo/lSDCz3KMviU6VqGlqZPt2FbDRV+21gteruzFZtpF3ZY5YZDZDka0lm2U+HoicQWPaRN5k3zMTQnDTiScYtLIK3xo6enx7VmsDqMOvBZV2azN3jPKJ+rKl3q0/NykDiyWXXjSR+Kd1uUeDLVmMn+elPqVX/Xo6sgPwPdAyOdjARZWF2ZnPH9XxqUYNcRH/vLKDy8ePXlVXKulEbiu7F3W89cFVdKjD6/83bPHj1/kf5YZWnC88rdPn74txwcuFP0W7wjCD4A8xXN+vQThB0Be1fFQC4TtvlbPf0UB4QdAWtWtP8MG9nLsaGfX0cFlwIjYy2V6e9UFwg8ATUH4AaApCD8ANAXhB4CmIPwA0BSEHwCagvADfQcFfClA+IG+gwK+FCD8gAaggK8yOgk/v+RR0rZV8/+YPHn6vDX7rr8j/44JiCgv4EsJCvjqC70PP1pxZ8Wv7bqHb019mJX96PRqf2u26S8RKYV6+5vJJlBWwFcFKODbCFDAl5q2wy94sbIXm9F6Qio5uqEft3hzDFgOkpoGoL6xFXmhgG9jQAFfStoOP//Rol/YjBajk8QjWO2JEWYIYi6pYAKwfqKkIm/d5dnOtu1tHXuEbM0W1PPT1wzq5mDnNC6xCIUCvmIq2kgGFPBVTvvn/LzS3JwSSdIFz1b0YCNGfTdCSR91KlLGWpn/tuOjqCcLstcOCNhJPgAkzdpItsIWFPAV08kFPzFB0cW5rhamDiN3PhNVKgKqcLEDgbH7WuI4wXuwoG/YCfFhCIhp1EZyoYQCviRdhZ+bf3Xj+D7d+41fk5JNOdoCWYKM5c5Gneen8+trLk79dcZVGDEVadJG8qHEQQFfnYRfWHJ7Q9iAQVO3XH8vmf0DjQhzN3mZtou4+OHomP5Ln3zNftZfGrSRTCihgK+EtsPPy9o13LZZe+/xUdEyYuKvfiJXAdTQkgOBli36Deo/KB4uklBQ30ZQwFc5LYcfLd01iGOgBNttzStyHaBK5ZlwK6bF0P34xX2gnMo2qr0bP9LNio0YIMYd+s8/W8RNGevkNqCnk0fozKUr5o0d6DNuxxOpL9PFiPAzW9v19Bq7eO3K2cN6dOoTeSSbSGn1nQ0jXNuwsFc0sekTsijlIzEeyG+nqmEtW++Y5PefrqwOdf0Jf2zaaeDSC/h/QcvORtgbIQjbwqqjS/AmfNpS82zvJNfWHMPWjq6e7j16Dpx1MpccKaqebh/l1Ixtae/pO9B3yOQlE3ty2MaW9v3GbLrb1NNBnV7wA01Qlzan38Qz5JdFQKlGtRFU7xaD8H/HhB9vJ+5cMNC2T1TScyUHJ4DRVhspXvDTPxD+75gw78rOTfGYzcefVMC0XylttREdqndD+AGQQ5fq3RB+AGgKwg8ATUH4AaApCD8ANAXhB4CmIPwA0BSEH9CAsKKgoEIH39jrYjvVb24k/XNgd8LmDXG7bn7Vr74h/EDfQd1+ChB+oO+gbj8FCD+gAajbr4xuws8vTj+2YVHk5ImTpy/ccPxJqR7/XroJoG4/Tel/+NGy60v62PWecSDtVc7LW3undDdhW/ltf6nw14o0Rl23Hy2+vu1/u+/J/sUK1O2XobSNJKBuPzWth5//cKETS6q0UdWpsJYMRuvws1CQToK6EL/g2QpnE1HB2AZQt1+G0jZqAHX7KWk9/LybkTZMZntJaSP+3Rh7lgHHd0eJxqdGek9pIX5+RsLEYYEDOluyWnUfFIQJmZcsus8R1O0Xo24jGVC3XzkdnPNzi9++KxO3Lvpp3xAzhlHvdXgNVKBKbWl+7uvz0U7G7svT3ubk5OQWfPmaPa2XNGsj2cKaULdfTDcX/DCC2opP719c/ivUoU3PiMTX2v3GVW+omdICjPo2kgsl1O0n6Sr8/PQlPZubG7ONbX+buTn1Dc1PUzUG4Vev0eEnQN1+HR75RXglDxNCbFhGjhFnvuqHiXRBdGy4D69K6ttIJpRQt19Cx+HHCLJXu7IN2K6rssgFgBpeCd4I601YhxNWFhVXwYCpSH0bQd1+5bQdfrTiWcq+k4+li6BV4Kc2TOupV8jHQAXeo//1MuM07+Boa20ftOO1Qh8F6toI6vZT0nL40aIdvoYIfpiX7BJslobfp9frrzxyAVCNV/Y2M/NVQSUEn1pj2gjq9otp+8jPvT3Lnm3sv1d86OflJY60Zpl0m3Ndnwuigx+e4gU//aP9c/7arH9mDujSzWfMtJl/jPPr3t6u76Qtdz9RX50B4DsAdfu/HUF1ybtXWW8LKr7m6iQAugB1+wEAeg3CDwBNQfgBoCkIPwA0BeEHgKYg/ADQFIQf0ADU7VcGwg/0HdTtpwDhB/oO6vZTgPADGoC6/croOPzol7Rts2bufKjw50p0prRuP//JhiFO1m0GbCAKRkqDuv1i1G30Y6BV+AW5+4e1ZSKGwf9A3W5pyuv24+UejaXrtolB3X4JyjaSgLr91HQY/sq0JX2cHW1YBhB+OcoL8VN2bKjbL6E+/FC3n5quwi98/89oF78tjw8MM4Twy1NeiF/UsZelnlwY7NbZ0WXIssvkrQ6gbr8EZRvJgLr9yukm/NXpsV6u01I/odwjEH5N4V2HY9HWJWRd6sO7O0OtDXvGvqBxzpXSrI1kC2tC3X4xHYQfLTg5rtdv8c/wjwjh1xzeVYxs/7hKzOqrE4NN2k65BLc7kKVZG8mFEur2k7Qe/tqn63xcp4gLdUP4NYd3bMn5LPdYiGmbyRcg/LI0ayP5UOKgbr+2w4+WnI1w9Y3LkGQdwq85CL96TQg/1O2X0G74eVemWhuZt5Bijs22EA62yMpvW57CCAekQPjV0zD8ULdfKS0f+b/kPLybJuV6bH+OAcfrf9fS7j0vhJ6sAv/x+oE2ZkxTm6Dt2QLeneU9WzDZrbtEntbnarKNpVEbQd1+Sjq44CcNpv3gvwZ1+8Ug/AAooXjBT/9A+AFQAur2f3Pol/znmc/ziV8xA/B9grr9AAC9BuEHgKYg/ADQFIQfAJqC8ANAUxB+AGgKwg9oAOr2KwPhB/oO6vZTgPADfQd1+ylA+AENQN1+ZXQRfmHBvZOJh6UlHrsjKacAlNbtpwZ1+/UFHcL/5UCAEWIgTap8CainqNtPCer2NwLU7aemg/ALXsS6e84/f/9Bg/RHb8t1MAn7UTSyED/U7W8MqNtPSQfhr7swxSn8NJTtoUZViB8tv799mp97jx7OrgPGrrrwntzRULdfCkUbyYC6/cppP/zop7/9ey19Suse2iTCt9t8W9qO+SeXWy8ovjLL2aL74gcwhMrSrI1kC2tC3X4x7Yef/2SJi0fEmugQL2e79nbdfg1dlJjRlC836EbwbIWzUZfFj0V7Fy3YNsCobQQU7pehvI2IB9LkQgl1+0naD3/d2XArG//Y5PScooLsK3+NsDdimHSbfQ3qeaiBtVtLQ98d4p9w4ZVeDQftLhM9AgTlbSR6IEU+lDio26+Tc35hVUVVw8fh3p/nxEI4nnFvFT4ikMa7E21n1HvdG7KZKg4GmjQbcYI8HQQE5W0keiBFJpRQt19CB+GXU3dpihUDsRiTLL52AZSruTKtg7nXRuL7KbT4SOhPLQL3S3ULgFHaRqKnpEDdfuW0Hv6a3DsXHnyQOlWtu4iFn9GyST9toBe0/Fasj20H16GjQrwcbNxmJOUrdFHaU99GULefkpbDL8zb1I+DGA7Y+kFmvoJYDN0vPlEDKvHKczOfZOaUwlBJrXFtBHX7xbR95K84M/5npnnIUXJsFRYlh3dgW/ZbnwGdGXzPFC/46R+tT/vRiid7pv/m5jk0/I9p4QG97Dr2jdj9pAKO+uD7BnX7vxmUV1mYk/06n3KWBcB3A+r2AwD0GoQfAJqC8ANAUxB+AGgKwg8ATUH4AaApCD+gAajbr4xuw8//lHFm56r5cRdK4Ot+oCtQt5+CzsJfnXUsxsfW2mXk0j0XMovgL/qAzkDdfgo6CT9admOJZ4uWfZdcKdLjH0uC7xfU7VdGB+EX5u8PasPuGHFeT38k+dWgbj9N6X/4v6SMa8u0DNhXCNGnAnX7tQfq9lPTdvjRT3uHmDLMgxJuHZw/wsfVsZOTR8D0nY+ggp80qNuvRVC3n5K2w889G96SgRhZuU/ccOpOxrP7p1YF2nAYJt3m3NDnP5RuJGWF+PmP4/y7drTz33A5aWGwW2dHlyHLLpPfkUDdfpKKNpIBdfuV03L40eIEH44B223NK8nUtOpShA0TwWarohENUMG7DseirUvIutSHd3eGWhv2jH1B25xT0KyNZAtrQt1+MW2H/8NmL7YB20O6Vi835XdLBmI24kRTS4/RBN5VjGz/uErM6qsTg03aToGy/XI0ayO5UELdfpK2p/01SaOxFmtoDwx2ytqOiZjDrTrVwDu2sXiHc4+FmLaZfAHCL0uzNpIPJQ7q9uvggl/hbj9zhvGArZJK6WjZXn9jxNh7C1ykVg3Cr14Twg91+yW0HX7sHP/mbCcOp8eiB6L25WXH9TXhOM648oV4CChB+NXTMPxQt18p7Ycfy/vbY9N7W1n3HrcgdmmEt4Pj0NjLH75mwKIF/uP1A23MmKY2QduzBbw7y3u2YLJbd4k8DV+SNNCojaBuPyVdhJ9QV5J17/r1+9laK4AOgEagbr+YzsIPwI9E8YKf/oHwA6AE1O0HgIagbj8AQK9B+AGgKQg/ADQF4QeApiD8ANAUhB8AmoLwA0BT6sMfEhLSCgCgF+bOnUsGW5Pwr1y5MhQAoBd2795NBhum/QDQFoQfAJqC8ANAUxB+AGgKwg8ATUH4AaApCD8ANAXhB4CmIPwA0BSEHwCagvADQFMQfgBoCsIPAE1B+AGgpfr6/wcaSqB/Mkwo4QAAAABJRU5ErkJggg==)"
      ],
      "metadata": {
        "id": "2AfcqV5xbOUX"
      }
    },
    {
      "cell_type": "markdown",
      "source": [
        "**Mana yang lebih baik? _for LOOP_ atau _while LOOP_?**"
      ],
      "metadata": {
        "id": "VU2tzRilbQ9C"
      }
    },
    {
      "cell_type": "code",
      "source": [
        "# Menggunakan whlie loop sebagai ganti dari for loop"
      ],
      "metadata": {
        "id": "DPZ4I9l0eE3a"
      },
      "execution_count": null,
      "outputs": []
    },
    {
      "cell_type": "markdown",
      "source": [
        "**Jelas _for LOOP_ lebih mudah dibandingkan _while LOOP_**\n",
        "\n",
        "Selain itu, terkadang kita butuh untuk melakukan **LOOP** untuk rentang (_range_) bilangan tertentu.\n",
        "\n",
        "**range(n)** berarti untuk n sebarang bilangan positif.\n",
        "\n",
        "menggunakan range(n) pada **for LOOP** akan mengakibatkan **loop body** dieksekusi sebanyak n kali.\n",
        "\n",
        "Selain itu, **range()** juga dapat menggunakan dua argumen.\n",
        "\n",
        "**range(x, y)** yang berarti bilangan positif dimulai dari **x** hingga **y-1** (atau berakhir di **y**)"
      ],
      "metadata": {
        "id": "LWnNE0EzeitY"
      }
    },
    {
      "cell_type": "code",
      "source": [
        "# Contoh loop menggunakan range(n)\n"
      ],
      "metadata": {
        "id": "AxstVqsQe4Uf"
      },
      "execution_count": null,
      "outputs": []
    },
    {
      "cell_type": "code",
      "source": [
        "# Contoh loop menggunakan range(x, y)"
      ],
      "metadata": {
        "id": "-MTphjy5fHAh"
      },
      "execution_count": null,
      "outputs": []
    },
    {
      "cell_type": "code",
      "source": [
        "# Contoh loop dengan user input: \"program Bagi Rata\""
      ],
      "metadata": {
        "id": "5JiSyi1xgr5d"
      },
      "execution_count": null,
      "outputs": []
    },
    {
      "cell_type": "markdown",
      "source": [
        "### **NESTED LOOP**"
      ],
      "metadata": {
        "id": "mMhEVP_whPqC"
      }
    },
    {
      "cell_type": "markdown",
      "source": [
        "**Nested LOOP** merupakan cara **memasukkan LOOP didalam LOOP**."
      ],
      "metadata": {
        "id": "j0sC2I5hhVi4"
      }
    },
    {
      "cell_type": "code",
      "source": [
        "# Contoh nested loop"
      ],
      "metadata": {
        "id": "XjvbJGG1hnij"
      },
      "execution_count": null,
      "outputs": []
    },
    {
      "cell_type": "code",
      "source": [
        "# Contoh nested loop\n"
      ],
      "metadata": {
        "id": "pxIEN5Ewhtjh"
      },
      "execution_count": null,
      "outputs": []
    }
  ],
  "metadata": {
    "colab": {
      "name": "FUNGSI dan LOOP.ipynb",
      "provenance": [],
      "authorship_tag": "ABX9TyOJS7r9dY098i3UcpuToTRf",
      "include_colab_link": true
    },
    "kernelspec": {
      "display_name": "Python 3",
      "name": "python3"
    },
    "language_info": {
      "name": "python"
    }
  },
  "nbformat": 4,
  "nbformat_minor": 0
}
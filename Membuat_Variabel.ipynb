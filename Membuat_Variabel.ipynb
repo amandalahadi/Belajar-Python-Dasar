{
  "nbformat": 4,
  "nbformat_minor": 0,
  "metadata": {
    "colab": {
      "name": "Membuat Variabel.ipynb",
      "provenance": [],
      "collapsed_sections": [],
      "authorship_tag": "ABX9TyOdav2+K863gC3amOeQkRVY",
      "include_colab_link": true
    },
    "kernelspec": {
      "name": "python3",
      "display_name": "Python 3"
    },
    "language_info": {
      "name": "python"
    }
  },
  "cells": [
    {
      "cell_type": "markdown",
      "metadata": {
        "id": "view-in-github",
        "colab_type": "text"
      },
      "source": [
        "<a href=\"https://colab.research.google.com/github/amandalahadi/Belajar-Python-Dasar/blob/main/Membuat_Variabel.ipynb\" target=\"_parent\"><img src=\"https://colab.research.google.com/assets/colab-badge.svg\" alt=\"Open In Colab\"/></a>"
      ]
    },
    {
      "cell_type": "markdown",
      "metadata": {
        "id": "r-cwBfuXa9HW"
      },
      "source": [
        "##**Memulai Python**\n",
        "\n",
        "IDLE (_Integrated Development and Learning Environment_)\n",
        "\n",
        "Bentuk IDLE:\n",
        "1. _Interactive Windows_/Jendela interaktif\n",
        "2. _Script Windows_/Jendela Skript\n",
        "\n",
        "Urutan kejadian di jendela interaktif dapat digambarkan sebagai loop dengan tiga langkah:\n",
        "1. Pertama, Python membaca kode yang dimasukkan pada prompt.\n",
        "2. Kemudian kode tersebut dievaluasi.\n",
        "3. Akhirnya, output dicetak di jendela dan prompt baru ditampilkan.\n",
        "\n",
        "Aktivitas ini disebut _Read-Evaluate-Print Loop_, atau REPL"
      ]
    },
    {
      "cell_type": "markdown",
      "metadata": {
        "id": "sACufmxwVbl5"
      },
      "source": [
        "##**Menggunakan fungsi print ()**\n",
        "\n",
        "Fungsi adalah kode singkat yang biasanya mengambil beberapa input, yang disebut argumen, melakukan sesuatu dengan input itu, dan menghasilkan beberapa output, yang disebut nilai kembalian (_return value_).\n",
        "\n",
        "Fungsi dalam kode bekerja seperti fungsi matematika. Misalnya, fungsi matematika A(r)=πr² mengambil jari-jari r lingkaran sebagai input dan menghasilkan luas lingkaran sebagai output."
      ]
    },
    {
      "cell_type": "code",
      "metadata": {
        "id": "uInVPC0ZWgmJ"
      },
      "source": [
        "print(\"Hello, World\")"
      ],
      "execution_count": null,
      "outputs": []
    },
    {
      "cell_type": "markdown",
      "metadata": {
        "id": "izJm6LCvgOgQ"
      },
      "source": [
        "##**Error pada Skript**\n",
        "\n",
        "Kesalahan yang dibuat dalam suatu program disebut ERROR, dan ada dua jenis kesalahan utama yang akan Anda alami:\n",
        "1. _Syntax errors_\n",
        "2. _Run-time errors_\n",
        "\n"
      ]
    },
    {
      "cell_type": "code",
      "metadata": {
        "id": "fElEsPllhIPl",
        "colab": {
          "base_uri": "https://localhost:8080/",
          "height": 130
        },
        "outputId": "bfc43dbd-f10a-4da4-a3a2-157874ade08c"
      },
      "source": [
        "print(\"Hello, wolrd)"
      ],
      "execution_count": 3,
      "outputs": [
        {
          "output_type": "error",
          "ename": "SyntaxError",
          "evalue": "ignored",
          "traceback": [
            "\u001b[0;36m  File \u001b[0;32m\"<ipython-input-3-1714c15b5ea5>\"\u001b[0;36m, line \u001b[0;32m1\u001b[0m\n\u001b[0;31m    print(\"Hello, wolrd)\u001b[0m\n\u001b[0m                        ^\u001b[0m\n\u001b[0;31mSyntaxError\u001b[0m\u001b[0;31m:\u001b[0m EOL while scanning string literal\n"
          ]
        }
      ]
    },
    {
      "cell_type": "code",
      "metadata": {
        "id": "bq_78v4cj06c",
        "colab": {
          "base_uri": "https://localhost:8080/",
          "height": 164
        },
        "outputId": "83686a24-7f38-41e0-dade-ea29a0b47a71"
      },
      "source": [
        "print(Hello, World)"
      ],
      "execution_count": 4,
      "outputs": [
        {
          "output_type": "error",
          "ename": "NameError",
          "evalue": "ignored",
          "traceback": [
            "\u001b[0;31m---------------------------------------------------------------------------\u001b[0m",
            "\u001b[0;31mNameError\u001b[0m                                 Traceback (most recent call last)",
            "\u001b[0;32m<ipython-input-4-7fbed5fc27f5>\u001b[0m in \u001b[0;36m<module>\u001b[0;34m()\u001b[0m\n\u001b[0;32m----> 1\u001b[0;31m \u001b[0mprint\u001b[0m\u001b[0;34m(\u001b[0m\u001b[0mHello\u001b[0m\u001b[0;34m,\u001b[0m \u001b[0mWorld\u001b[0m\u001b[0;34m)\u001b[0m\u001b[0;34m\u001b[0m\u001b[0;34m\u001b[0m\u001b[0m\n\u001b[0m",
            "\u001b[0;31mNameError\u001b[0m: name 'Hello' is not defined"
          ]
        }
      ]
    },
    {
      "cell_type": "code",
      "metadata": {
        "id": "2IBwH-VSl7NU",
        "colab": {
          "base_uri": "https://localhost:8080/",
          "height": 164
        },
        "outputId": "99072dc0-bf9d-403b-e1c3-27f5bc274075"
      },
      "source": [
        "print(4/0)"
      ],
      "execution_count": 5,
      "outputs": [
        {
          "output_type": "error",
          "ename": "ZeroDivisionError",
          "evalue": "ignored",
          "traceback": [
            "\u001b[0;31m---------------------------------------------------------------------------\u001b[0m",
            "\u001b[0;31mZeroDivisionError\u001b[0m                         Traceback (most recent call last)",
            "\u001b[0;32m<ipython-input-5-4bf1a7e4a751>\u001b[0m in \u001b[0;36m<module>\u001b[0;34m()\u001b[0m\n\u001b[0;32m----> 1\u001b[0;31m \u001b[0mprint\u001b[0m\u001b[0;34m(\u001b[0m\u001b[0;36m4\u001b[0m\u001b[0;34m/\u001b[0m\u001b[0;36m0\u001b[0m\u001b[0;34m)\u001b[0m\u001b[0;34m\u001b[0m\u001b[0;34m\u001b[0m\u001b[0m\n\u001b[0m",
            "\u001b[0;31mZeroDivisionError\u001b[0m: division by zero"
          ]
        }
      ]
    },
    {
      "cell_type": "markdown",
      "metadata": {
        "id": "tiIFf62Jg_lB"
      },
      "source": [
        "### Syntax Error\n",
        "Dalam istilah sederhana, _Syntax Error_ (kesalahan sintaks) terjadi ketika Anda menulis beberapa kode yang tidak diperbolehkan dalam bahasa Python"
      ]
    },
    {
      "cell_type": "markdown",
      "metadata": {
        "id": "HoLBFNqviYx0"
      },
      "source": [
        "###Run-Time Error\n",
        "\n",
        "IDLE menangkap _Syntax Error_ sebelum program mulai berjalan, tetapi beberapa kesalahan tidak dapat ditangkap sampai program dijalankan. Kesalahan ini dikenal sebagai _Run-time Error_ karena hanya terjadi pada saat program dijalankan.\n",
        "\n",
        "Jenis-jenis:\n",
        "1. pembagian dengan nol.\n",
        "2. melakukan operasi pada jenis yang tidak kompatibel.\n",
        "3. menggunakan pengenal yang belum ditentukan.\n",
        "4. mengakses elemen list, dictionary value, atau atribut objek yang tidak ada.\n",
        "5. mencoba mengakses file yang tidak ada."
      ]
    },
    {
      "cell_type": "markdown",
      "metadata": {
        "id": "WLKdwzwcmaLn"
      },
      "source": [
        "###Traceback\n",
        "\n",
        "Teks yang menunjukkan sebuah error disebut Traceback\n",
        "\n",
        "_Traceback (most recent call last)_:\n",
        "  \n",
        "  _File \"C:/Users/lenovo/AppData/Local/Programs/Python/Python310/latihan.py\", line 1, in <module>_\n",
        "    _print(Hello, world)_\n",
        "    \n",
        "  _NameError: name 'Hello' is not defined_\n",
        "\n",
        "Apa yang dapat kamu ketahui dari sebuah Traceback?\n",
        "1. Error terjadi pada line 1 (baris 1) dari file latihan.py.\n",
        "2. Baris yang menyebabkan error adalah: print(Hello, world).\n",
        "3. Sebuah **NameError** terjadi.\n",
        "4. Spesifik error yang terjadi adalah nama 'Hello' tidak didefinisikan"
      ]
    },
    {
      "cell_type": "markdown",
      "metadata": {
        "id": "W1b8_SCG0b8l"
      },
      "source": [
        "##**Membuat Varibel**\n",
        "\n",
        "Variabel adalah nama yang dapat diberi nilai dan digunakan\n",
        "untuk mereferensikan nilai itu di seluruh kode Anda. \n",
        "Variabel sangat penting untuk pemrograman karena dua alasan:\n",
        "1. **Variabel membuat nilai dapat diakses**: Misalnya, hasil dari\n",
        "beberapa operasi yang memakan waktu dapat dimasukkan ke sebuah variabel sehingga operasi tersebut tidak perlu dilakukan setiap kali Anda perlu menggunakan hasilnya.\n",
        "2. **Variabel memberikan konteks nilai**: Angka 28 bisa berarti banyak\n",
        "hal yang berbeda, seperti jumlah siswa di kelas, atau\n",
        "berapa kali pengguna mengakses situs web, dan sebagainya. Penamaan\n",
        "nilai 28 sesuatu seperti num_students membuat arti dari angka tersebut menjadi jelas. "
      ]
    },
    {
      "cell_type": "markdown",
      "metadata": {
        "id": "UFb_iPD_Gy-e"
      },
      "source": [
        "###Assignment Operator\n",
        "\n",
        "Sebuah nilai diberikan untuk sebuah variabel menggunakan tanda \"=\", tanda ini disebut _Assignment_ Operator"
      ]
    },
    {
      "cell_type": "code",
      "metadata": {
        "id": "Bt0gG1TGZaU1",
        "colab": {
          "base_uri": "https://localhost:8080/"
        },
        "outputId": "82ba7df1-1368-47e1-890d-9058ab0c7543"
      },
      "source": [
        "frase = \"Hello, World\"\n",
        "print(frase)"
      ],
      "execution_count": 6,
      "outputs": [
        {
          "output_type": "stream",
          "name": "stdout",
          "text": [
            "Hello, World\n"
          ]
        }
      ]
    },
    {
      "cell_type": "code",
      "metadata": {
        "colab": {
          "base_uri": "https://localhost:8080/"
        },
        "id": "URsBvf4s3bGf",
        "outputId": "e9415444-562a-4a80-b299-98c961b4d5db"
      },
      "source": [
        "x = 2\n",
        "y = x + 3\n",
        "print(y)"
      ],
      "execution_count": 7,
      "outputs": [
        {
          "output_type": "stream",
          "name": "stdout",
          "text": [
            "5\n"
          ]
        }
      ]
    },
    {
      "cell_type": "code",
      "metadata": {
        "id": "h4Qo155EZfUr",
        "colab": {
          "base_uri": "https://localhost:8080/",
          "height": 164
        },
        "outputId": "54153324-3248-45b6-be3d-77e9163bc179"
      },
      "source": [
        "print(kata)"
      ],
      "execution_count": 8,
      "outputs": [
        {
          "output_type": "error",
          "ename": "NameError",
          "evalue": "ignored",
          "traceback": [
            "\u001b[0;31m---------------------------------------------------------------------------\u001b[0m",
            "\u001b[0;31mNameError\u001b[0m                                 Traceback (most recent call last)",
            "\u001b[0;32m<ipython-input-8-18b7a3e60064>\u001b[0m in \u001b[0;36m<module>\u001b[0;34m()\u001b[0m\n\u001b[0;32m----> 1\u001b[0;31m \u001b[0mprint\u001b[0m\u001b[0;34m(\u001b[0m\u001b[0mkata\u001b[0m\u001b[0;34m)\u001b[0m\u001b[0;34m\u001b[0m\u001b[0;34m\u001b[0m\u001b[0m\n\u001b[0m",
            "\u001b[0;31mNameError\u001b[0m: name 'kata' is not defined"
          ]
        }
      ]
    },
    {
      "cell_type": "markdown",
      "metadata": {
        "id": "cQmi43SXaD5i"
      },
      "source": [
        "Nama variabel bersifat *case-sensitive*, misalnya variabel dengan nama **frase** berbeda dengan variabel bernama **Frase**"
      ]
    },
    {
      "cell_type": "code",
      "metadata": {
        "id": "L5Ust9xqaZ3q",
        "colab": {
          "base_uri": "https://localhost:8080/",
          "height": 164
        },
        "outputId": "ed0989cb-b8d8-4441-e5d1-d2585df2c9cf"
      },
      "source": [
        "print(Frase)"
      ],
      "execution_count": 9,
      "outputs": [
        {
          "output_type": "error",
          "ename": "NameError",
          "evalue": "ignored",
          "traceback": [
            "\u001b[0;31m---------------------------------------------------------------------------\u001b[0m",
            "\u001b[0;31mNameError\u001b[0m                                 Traceback (most recent call last)",
            "\u001b[0;32m<ipython-input-9-84583c9f77c4>\u001b[0m in \u001b[0;36m<module>\u001b[0;34m()\u001b[0m\n\u001b[0;32m----> 1\u001b[0;31m \u001b[0mprint\u001b[0m\u001b[0;34m(\u001b[0m\u001b[0mFrase\u001b[0m\u001b[0;34m)\u001b[0m\u001b[0;34m\u001b[0m\u001b[0;34m\u001b[0m\u001b[0m\n\u001b[0m",
            "\u001b[0;31mNameError\u001b[0m: name 'Frase' is not defined"
          ]
        }
      ]
    },
    {
      "cell_type": "markdown",
      "metadata": {
        "id": "-pUs3u8OacnS"
      },
      "source": [
        "###Aturan untuk Nama Variabel\n",
        "\n",
        "1. Nama variabel hanya boleh berisi huruf besar dan huruf kecil (A–Z, a–z), angka (0–9), dan garis bawah (_).\n",
        "2. Nama variabel tidak dapat dimulai dengan angka\n",
        "\n",
        "**contoh nama variabel yang valid**: frase, waktu2, nama_sekolah, _alPh4\n",
        "\n",
        "**contoh nama variabel yang tidak valid**: 9jiwa"
      ]
    },
    {
      "cell_type": "code",
      "metadata": {
        "colab": {
          "base_uri": "https://localhost:8080/",
          "height": 130
        },
        "id": "v6qpxk0p4CfE",
        "outputId": "363f4a7c-c109-4084-b073-19d33cbba0ec"
      },
      "source": [
        "9jiwa = 3\n",
        "print(9jiwa)"
      ],
      "execution_count": 10,
      "outputs": [
        {
          "output_type": "error",
          "ename": "SyntaxError",
          "evalue": "ignored",
          "traceback": [
            "\u001b[0;36m  File \u001b[0;32m\"<ipython-input-10-5458e454438f>\"\u001b[0;36m, line \u001b[0;32m1\u001b[0m\n\u001b[0;31m    9jiwa = 3\u001b[0m\n\u001b[0m        ^\u001b[0m\n\u001b[0;31mSyntaxError\u001b[0m\u001b[0;31m:\u001b[0m invalid syntax\n"
          ]
        }
      ]
    },
    {
      "cell_type": "markdown",
      "metadata": {
        "id": "xEJGlPH2b5jG"
      },
      "source": [
        "##Nama Deskriptif **Lebih Baik** Dibandingkan Nama Singkat\n",
        "\n",
        "Nama variabel deskriptif sangat penting, terutama untuk program yang kompleks. Seringkali, nama deskriptif membutuhkan penggunaan banyak kata. Jangan takut untuk menggunakan nama variabel yang panjang.\n",
        "\n",
        "Nama deskriptif memberikan konteks yang jelas bagi sebuah variabel\n",
        "\n",
        "**contoh**\n"
      ]
    },
    {
      "cell_type": "code",
      "metadata": {
        "id": "-WstIh60chRg"
      },
      "source": [
        "d = 3600"
      ],
      "execution_count": null,
      "outputs": []
    },
    {
      "cell_type": "code",
      "metadata": {
        "id": "Iz9BinXIckVE"
      },
      "source": [
        "detik = 3600"
      ],
      "execution_count": null,
      "outputs": []
    },
    {
      "cell_type": "code",
      "metadata": {
        "id": "aPKr2gHzcmXy"
      },
      "source": [
        "detik_per_jam = 3600"
      ],
      "execution_count": null,
      "outputs": []
    },
    {
      "cell_type": "markdown",
      "metadata": {
        "id": "yLFx2tyVctb5"
      },
      "source": [
        "##Model penamaan\n",
        "\n",
        "**camelCase**, contoh: detikPerJam, jumlahMahasiswaBaru\n",
        "\n",
        "**Snake Case**, contoh: detik_per_jam, jumlah_mahasiswa_baru"
      ]
    },
    {
      "cell_type": "markdown",
      "metadata": {
        "id": "Vf0NJ5V1duZ2"
      },
      "source": [
        "###Memeriksa nilai Variabel"
      ]
    },
    {
      "cell_type": "code",
      "metadata": {
        "id": "gjUiBjqfdy-p",
        "colab": {
          "base_uri": "https://localhost:8080/"
        },
        "outputId": "7fb58c93-a054-4c0c-8db8-72816d28e116"
      },
      "source": [
        "kataku = \"Hello, World\"\n",
        "print(kataku)"
      ],
      "execution_count": 11,
      "outputs": [
        {
          "output_type": "stream",
          "name": "stdout",
          "text": [
            "Hello, World\n"
          ]
        }
      ]
    },
    {
      "cell_type": "code",
      "metadata": {
        "id": "fyOg5wqKd_nS",
        "colab": {
          "base_uri": "https://localhost:8080/",
          "height": 35
        },
        "outputId": "364b73cb-af70-43e8-b4a5-83f82ae71538"
      },
      "source": [
        "kataku"
      ],
      "execution_count": 12,
      "outputs": [
        {
          "output_type": "execute_result",
          "data": {
            "application/vnd.google.colaboratory.intrinsic+json": {
              "type": "string"
            },
            "text/plain": [
              "'Hello, World'"
            ]
          },
          "metadata": {},
          "execution_count": 12
        }
      ]
    },
    {
      "cell_type": "code",
      "metadata": {
        "id": "efFO3DO9egxL",
        "colab": {
          "base_uri": "https://localhost:8080/"
        },
        "outputId": "b2b02d7b-593a-4cb0-d4f4-5e073c3c4c9c"
      },
      "source": [
        "x = 3\n",
        "print(x)"
      ],
      "execution_count": 13,
      "outputs": [
        {
          "output_type": "stream",
          "name": "stdout",
          "text": [
            "3\n"
          ]
        }
      ]
    },
    {
      "cell_type": "code",
      "metadata": {
        "id": "1jizugtCes85",
        "colab": {
          "base_uri": "https://localhost:8080/"
        },
        "outputId": "a6deeed4-0588-4c18-aa52-d368cc2f7c34"
      },
      "source": [
        "x"
      ],
      "execution_count": 14,
      "outputs": [
        {
          "output_type": "execute_result",
          "data": {
            "text/plain": [
              "3"
            ]
          },
          "metadata": {},
          "execution_count": 14
        }
      ]
    },
    {
      "cell_type": "code",
      "metadata": {
        "id": "HnN-yyPleumY"
      },
      "source": [
        "a = 4"
      ],
      "execution_count": 16,
      "outputs": []
    },
    {
      "cell_type": "code",
      "metadata": {
        "id": "geqYccQc6DwZ"
      },
      "source": [
        "b = \"4\""
      ],
      "execution_count": 17,
      "outputs": []
    },
    {
      "cell_type": "code",
      "metadata": {
        "colab": {
          "base_uri": "https://localhost:8080/"
        },
        "id": "DlNT6tiM5xp9",
        "outputId": "b007eab0-35aa-4f5b-dc61-717186c5a0f1"
      },
      "source": [
        "print(a)\n",
        "print(b)"
      ],
      "execution_count": 18,
      "outputs": [
        {
          "output_type": "stream",
          "name": "stdout",
          "text": [
            "4\n",
            "4\n"
          ]
        }
      ]
    },
    {
      "cell_type": "code",
      "metadata": {
        "colab": {
          "base_uri": "https://localhost:8080/"
        },
        "id": "ZfLdlliB51Z3",
        "outputId": "c3796452-2f60-48f4-9436-1e1d3bcfcd26"
      },
      "source": [
        "a"
      ],
      "execution_count": 20,
      "outputs": [
        {
          "output_type": "execute_result",
          "data": {
            "text/plain": [
              "4"
            ]
          },
          "metadata": {},
          "execution_count": 20
        }
      ]
    },
    {
      "cell_type": "code",
      "metadata": {
        "colab": {
          "base_uri": "https://localhost:8080/",
          "height": 35
        },
        "id": "fAvoiRbf6ML8",
        "outputId": "f5922eb8-5128-4f1e-bf87-6c20b06c6187"
      },
      "source": [
        "b"
      ],
      "execution_count": 21,
      "outputs": [
        {
          "output_type": "execute_result",
          "data": {
            "application/vnd.google.colaboratory.intrinsic+json": {
              "type": "string"
            },
            "text/plain": [
              "'4'"
            ]
          },
          "metadata": {},
          "execution_count": 21
        }
      ]
    },
    {
      "cell_type": "code",
      "metadata": {
        "colab": {
          "base_uri": "https://localhost:8080/"
        },
        "id": "gohj9IRP6ZM7",
        "outputId": "84cd27f6-c7ac-4c97-dd70-7f0cf6f6dfb9"
      },
      "source": [
        "print"
      ],
      "execution_count": 22,
      "outputs": [
        {
          "output_type": "execute_result",
          "data": {
            "text/plain": [
              "<function print>"
            ]
          },
          "metadata": {},
          "execution_count": 22
        }
      ]
    },
    {
      "cell_type": "markdown",
      "metadata": {
        "id": "WYq1dFkXfGfa"
      },
      "source": [
        "##Komentar\n",
        "\n",
        "1. *Block Comments*: Komentar yang dituliskan pada baris baru\n",
        "2. *In-line COmments*: Komentar yang dituliskan yang dituliskan pada baris yang saama dengan kode."
      ]
    },
    {
      "cell_type": "code",
      "metadata": {
        "id": "M-FdLxonf2GK",
        "colab": {
          "base_uri": "https://localhost:8080/"
        },
        "outputId": "7778a7b1-a959-4eb0-c3b0-5494c6c31624"
      },
      "source": [
        "# Ini adalah Block Coments\n",
        "\n",
        "frase = 3       #Ini adalah In-line comments\n",
        "print(frase)    #Ini adalah In-line comments"
      ],
      "execution_count": 23,
      "outputs": [
        {
          "output_type": "stream",
          "name": "stdout",
          "text": [
            "3\n"
          ]
        }
      ]
    },
    {
      "cell_type": "code",
      "metadata": {
        "colab": {
          "base_uri": "https://localhost:8080/"
        },
        "id": "cjJOqUp-6vpY",
        "outputId": "381007fc-f89e-4538-9dd7-54931c40271e"
      },
      "source": [
        "\"\"\"Ini hanya komentar\n",
        "nama saya amanda \n",
        "saya baru belajar pemrograman\"\"\"\n",
        "print(\"Hallo, Amanda\")"
      ],
      "execution_count": 24,
      "outputs": [
        {
          "output_type": "stream",
          "name": "stdout",
          "text": [
            "Hallo, Amanda\n"
          ]
        }
      ]
    },
    {
      "cell_type": "code",
      "metadata": {
        "id": "1SD4k1l_67b-"
      },
      "source": [
        ""
      ],
      "execution_count": null,
      "outputs": []
    }
  ]
}
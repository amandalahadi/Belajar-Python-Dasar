{
  "nbformat": 4,
  "nbformat_minor": 0,
  "metadata": {
    "colab": {
      "name": "Tipe Data.ipynb",
      "provenance": [],
      "authorship_tag": "ABX9TyPuH59s5/DDx+tf3dz2wkfV",
      "include_colab_link": true
    },
    "kernelspec": {
      "name": "python3",
      "display_name": "Python 3"
    },
    "language_info": {
      "name": "python"
    }
  },
  "cells": [
    {
      "cell_type": "markdown",
      "metadata": {
        "id": "view-in-github",
        "colab_type": "text"
      },
      "source": [
        "<a href=\"https://colab.research.google.com/github/amandalahadi/Belajar-Python-Dasar/blob/main/Tipe_Data.ipynb\" target=\"_parent\"><img src=\"https://colab.research.google.com/assets/colab-badge.svg\" alt=\"Open In Colab\"/></a>"
      ]
    },
    {
      "cell_type": "markdown",
      "metadata": {
        "id": "pNgrKApsjSLQ"
      },
      "source": [
        "#**Tipe Data**"
      ]
    },
    {
      "cell_type": "code",
      "metadata": {
        "id": "GeuTbZEqkkms"
      },
      "source": [
        "nama_saya = 'Amanda'\n",
        "Usia_saya = 28\n",
        "Angka_favorit = 2.718\n",
        "memiliki_novel_GoT = True\n",
        "\n",
        "print('Nama saya adalah', nama_saya)\n",
        "print('Usia saya', Usia_saya)\n",
        "print('Angka favorit saya adalah', Angka_favorit)\n",
        "print('Saya memiliki novel Game of Thrones:', memiliki_novel_GoT)"
      ],
      "execution_count": null,
      "outputs": []
    },
    {
      "cell_type": "markdown",
      "metadata": {
        "id": "GMzPklZ_liU3"
      },
      "source": [
        "Kalian dapat melihat bahwa pemberian nama deskriptif pada **variabel** memberikan konteks yang jelas bagi skript yang kita tulis."
      ]
    },
    {
      "cell_type": "markdown",
      "metadata": {
        "id": "R0GEb1Uzlsld"
      },
      "source": [
        "##**Melihat Tipe Data**\n",
        "\n",
        "Kita dapat melihat tipe data menggunakan fungsi **type()**"
      ]
    },
    {
      "cell_type": "code",
      "metadata": {
        "colab": {
          "base_uri": "https://localhost:8080/"
        },
        "id": "ZlvRcBEDlp6h",
        "outputId": "b7e38ec5-bd02-4253-f4a9-d61bdfa65411"
      },
      "source": [
        "print(type(nama_saya))\n",
        "print(type(Usia_saya))\n",
        "print(type(Angka_favorit))\n",
        "print(type(memiliki_novel_GoT))"
      ],
      "execution_count": 3,
      "outputs": [
        {
          "output_type": "stream",
          "name": "stdout",
          "text": [
            "<class 'str'>\n",
            "<class 'int'>\n",
            "<class 'float'>\n",
            "<class 'bool'>\n"
          ]
        }
      ]
    },
    {
      "cell_type": "markdown",
      "metadata": {
        "id": "URTz_Z2cmdX9"
      },
      "source": [
        "###str --> string\n",
        "\n",
        "**string** adalah urutan karakter. \n",
        "\n",
        "###int--> integer\n",
        "\n",
        "**integer** memiliki arti yang sama seperti dalam matematika (yaitu \"bilangan bulat\"). \n",
        "\n",
        "###float --> float\n",
        "\n",
        "**float** atau **floating point number** mengacu pada angka desimal (yaitu \"bilangan real\" dalam matematika);  disebut float karena titik desimal diizinkan untuk \"mengambang\" melalui digit, memungkinkan kita untuk mewakili angka besar (mis. 204939.12) dan angka kecil (mis. 0,000239). \n",
        "\n",
        "###bool --> boolean\n",
        "\n",
        "**bool** atau **boolean** mengacu pada variabel yang bernilai benar atau salah (*true* atau *false*).\n",
        "\n",
        "Ini hanya beberapa jenis data yang akan kita temui, dan kita akan menjelajahi yang lain nanti dalam kursus ini.\n",
        "\n",
        "Dalam Python, kita dapat menetapkan tipe data apa pun ke variabel tanpa mendeklarasikan tipe variabel sebelumnya. Tidak semua bahasa pemrograman berperilaku seperti ini."
      ]
    },
    {
      "cell_type": "markdown",
      "metadata": {
        "id": "l_pLjZ8koafG"
      },
      "source": [
        "##**Integer**\n",
        "\n",
        "**Decimal** --> Sistem bilangan yang menggunakan 10 angka: 0, 1, 2, 3, 4, 5, 6, 7, 8, 9\n",
        "\n",
        "**binary** --> Sistem bilangan yang menggunakan 2 angka: 0, 1\n",
        "\n",
        "Ditulis menggunakan awalan 0b atau 0B\n",
        "\n",
        "**Octal** --> Sistem bilangan yang menggunakan 10 angka: 0, 1, 2, 3, 4, 5, 6, 7\n",
        "\n",
        "Ditulis menggunakan awalan 0o atau 0O\n",
        "\n",
        "**Hexadecimal** --> SIstem bilangan yang menggunakan 16 angka: 0, 1, 2, 3, 4, 5, 6, 7, 8, 9, A, B, C, D, E, F\n",
        "\n",
        "Ditulis menggunakan awalan 0x atau 0X"
      ]
    },
    {
      "cell_type": "code",
      "metadata": {
        "id": "LXDyIKvkqIRS"
      },
      "source": [
        "print(0b11)\n",
        "print(0O32)\n",
        "print(0x1F)"
      ],
      "execution_count": null,
      "outputs": []
    },
    {
      "cell_type": "code",
      "metadata": {
        "id": "cHRNi2VDqljz"
      },
      "source": [
        "0O32"
      ],
      "execution_count": null,
      "outputs": []
    },
    {
      "cell_type": "code",
      "metadata": {
        "id": "c1_iasMAq8Vx"
      },
      "source": [
        "print(type(0b11))\n",
        "print(type(0O32))\n",
        "print(type(0x12))"
      ],
      "execution_count": null,
      "outputs": []
    },
    {
      "cell_type": "markdown",
      "metadata": {
        "id": "7UG-k5B1rsvN"
      },
      "source": [
        "##**Float**\n",
        "\n",
        "SimpeL: bilangan yang menggunakan \"koma\""
      ]
    },
    {
      "cell_type": "markdown",
      "metadata": {
        "id": "H-BwfpKXsN8o"
      },
      "source": [
        "##**Boolean**\n"
      ]
    }
  ]
}